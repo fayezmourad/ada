{
 "cells": [
  {
   "cell_type": "markdown",
   "metadata": {},
   "source": [
    "# Table of Contents\n",
    " <p><div class=\"lev1\"><a href=\"#Task-1.-Compiling-Ebola-Data\"><span class=\"toc-item-num\">Task 1.&nbsp;&nbsp;</span>Compiling Ebola Data</a></div>\n",
    " <div class=\"lev1\"><a href=\"#Task-2.-RNA-Sequences\"><span class=\"toc-item-num\">Task 2.&nbsp;&nbsp;</span>RNA Sequences</a></div>\n",
    " <div class=\"lev1\"><a href=\"#Task-3.-Class-War-in-Titanic\"><span class=\"toc-item-num\">Task 3.&nbsp;&nbsp;</span>Class War in Titanic</a></div></p>"
   ]
  },
  {
   "cell_type": "code",
   "execution_count": 183,
   "metadata": {
    "collapsed": true
   },
   "outputs": [],
   "source": [
    "%matplotlib inline\n",
    "import os\n",
    "import pandas as pd\n",
    "import re\n",
    "import numpy\n",
    "import pandas as pd\n",
    "import matplotlib.pyplot as plt\n",
    "import numpy as np\n",
    "import seaborn as sns\n",
    "\n",
    "DATA_FOLDER = 'Data'"
   ]
  },
  {
   "cell_type": "markdown",
   "metadata": {},
   "source": [
    "## Task 1. Compiling Ebola Data\n",
    "\n",
    "The `DATA_FOLDER/ebola` folder contains summarized reports of Ebola cases from three countries (Guinea, Liberia and Sierra Leone) during the recent outbreak of the disease in West Africa. For each country, there are daily reports that contain various information about the outbreak in several cities in each country.\n",
    "\n",
    "Use pandas to import these data files into a single `Dataframe`.\n",
    "Using this `DataFrame`, calculate for *each country*, the *daily average per month* of *new cases* and *deaths*.\n",
    "Make sure you handle all the different expressions for *new cases* and *deaths* that are used in the reports."
   ]
  },
  {
   "cell_type": "code",
   "execution_count": 184,
   "metadata": {},
   "outputs": [],
   "source": [
    "#paths for data folders\n",
    "EBOLA_FOLDER = DATA_FOLDER + \"/ebola\"\n",
    "GUINEA_FOLDER = EBOLA_FOLDER + \"/guinea_data\"\n",
    "LIBERIA_FOLDER = EBOLA_FOLDER + \"/liberia_data\"\n",
    "SIERRALEONE_FOLDER = EBOLA_FOLDER + \"/sl_data\""
   ]
  },
  {
   "cell_type": "markdown",
   "metadata": {
    "scrolled": true
   },
   "source": [
    "Creating empty dataframe 'final_df' to combine all datasets for all countries.\n",
    "This dataframe will hold the number of new cases and the cumulative number of deaths per day, for every country."
   ]
  },
  {
   "cell_type": "code",
   "execution_count": 185,
   "metadata": {
    "collapsed": true
   },
   "outputs": [],
   "source": [
    "final_df_columns=[\"Date\" , \"Day\", \"Month\", \"Country\" , \"Number of new cases\" , \"Total number of deaths\"]\n",
    "final_df=pd.DataFrame(columns=final_df_columns)"
   ]
  },
  {
   "cell_type": "markdown",
   "metadata": {},
   "source": [
    "For every country, we perform an exploratory step (specific to every country to account for the differences in file formats), where we look for inconsistencies such as reported totals that do not actually match the sum of subtotals or missing values. Based on these observations, we either add the totals (for new cases and deaths) to the final dataframe as they are given in the data files, or compute these totals from the values of the corresponding subcategories."
   ]
  },
  {
   "cell_type": "markdown",
   "metadata": {},
   "source": [
    "We look at the fields containing :\n",
    "\n",
    "- new cases of suspects\n",
    "- new cases of probables\n",
    "- new cases of confirmed\n",
    "- total new cases (if available)\n",
    "- total deaths of suspects\n",
    "- total deaths of probables\n",
    "- total deaths of confirmed\n",
    "- total deaths of (suspects + probables + confirmed) (if avaiable)\n",
    "\n",
    "We ignore all other fields as none of them contain extra useful information for the task at hand. Note: the field names differ from country to another"
   ]
  },
  {
   "cell_type": "markdown",
   "metadata": {},
   "source": [
    "#### Intermediate step for Guinea"
   ]
  },
  {
   "cell_type": "markdown",
   "metadata": {},
   "source": [
    "We create the 'guinea_df' dataframe which represents a detailed daily summary of the ebola crisis in Guinea, taking into account all the files in the Guinea folder, and holding the different subcategories of new cases and deaths, as well as their totals."
   ]
  },
  {
   "cell_type": "code",
   "execution_count": 186,
   "metadata": {
    "collapsed": true
   },
   "outputs": [],
   "source": [
    "guinea_columns=[\"Date\", \"Country\", \"New Cases of Suspects\", \"New Cases of Probables\", \"New Cases of Confirmed\",\n",
    "                \"Total new Cases\", \"Total deaths of suspects\", \"Total deaths of probables\", \"Total deaths of confirmed\",\n",
    "                \"Total deaths (suspects + probables + confirmed)\", \"Total new correct\", \"Total deaths correct\"]\n",
    "guinea_df=pd.DataFrame(columns=guinea_columns)"
   ]
  },
  {
   "cell_type": "markdown",
   "metadata": {},
   "source": [
    "We then check, for every date, whether the reported total of new cases and the reported total of deaths correspond to the sum of the corresponding subcategories.\n",
    "\n",
    "We notice that in some cases the totals do not match the sums. We decide to add the computed totals from the subcategories to the final dataframe (final_df) instead of the totals found in the data files because the available totals in the files did not make sense in some cases. For instance, the total deaths are supposed to be cumulative, however the total number of deaths for 2014-08-26 (958 deaths) is larger than the total number of deaths for 2014-08-27 (438 deaths)."
   ]
  },
  {
   "cell_type": "code",
   "execution_count": 187,
   "metadata": {},
   "outputs": [],
   "source": [
    "#get all files in subfolder and iteratively append to Guinea dataframe \n",
    "guinea_files = [file for file in os.listdir(GUINEA_FOLDER) if not(file.startswith(\".\"))]\n",
    "\n",
    "for g_file in guinea_files:\n",
    "    #read data from file\n",
    "    raw_data=pd.read_csv(GUINEA_FOLDER + \"/\" + g_file)\n",
    "    #parse date, day and month from file name\n",
    "    date=g_file.split(\".\")[0]\n",
    "    day=int(date.split(\"-\")[2])\n",
    "    month=date.split(\"-\")[1]\n",
    "    #read values for subcategories of new cases and total new cases from dataframe\n",
    "    new_cases_suspects=float(raw_data.loc[raw_data[\"Description\"] == \"New cases of suspects\"][\"Totals\"])\n",
    "    new_cases_probables=float(raw_data.loc[raw_data[\"Description\"] == \"New cases of probables\"][\"Totals\"])\n",
    "    new_cases_confirmed=float(raw_data.loc[raw_data[\"Description\"] == \"New cases of confirmed\"][\"Totals\"])\n",
    "    total_new_cases=float(raw_data.loc[raw_data[\"Description\"] == \"Total new cases registered so far\"][\"Totals\"])\n",
    "    #read values for subcategories of total deaths and sum of total deaths from dataframe\n",
    "    deaths_suspects=float(raw_data.loc[raw_data[\"Description\"] == \"Total deaths of suspects\"][\"Totals\"])\n",
    "    deaths_probables=float(raw_data.loc[raw_data[\"Description\"] == \"Total deaths of probables\"][\"Totals\"])\n",
    "    deaths_confirmed=float(raw_data.loc[raw_data[\"Description\"] == \"Total deaths of confirmed\"][\"Totals\"])\n",
    "    total_deaths=float(raw_data.loc[raw_data[\"Description\"] == \"Total deaths (confirmed + probables + suspects)\"][\"Totals\"])\n",
    "    \n",
    "    #sum new cases\n",
    "    sum_new_cases=0\n",
    "    if (np.isnan(new_cases_suspects) & np.isnan(new_cases_probables) & np.isnan(new_cases_confirmed)):\n",
    "        sum_new_cases=float('nan')\n",
    "    else:\n",
    "        sum_new_cases=np.nansum([new_cases_suspects, new_cases_probables, new_cases_confirmed])\n",
    "    #sum deaths\n",
    "    sum_deaths=0\n",
    "    if(np.isnan(deaths_suspects) & np.isnan(deaths_probables) & np.isnan(deaths_confirmed)):\n",
    "        sum_deaths=float('nan')\n",
    "    else:\n",
    "        sum_deaths=np.nansum([deaths_suspects, deaths_probables, deaths_confirmed])\n",
    "\n",
    "    #check if totals match sum of subcategories (for new cases and for deaths)\n",
    "    total_new_correct=1\n",
    "    total_deaths_correct=1\n",
    "    if (sum_new_cases != total_new_cases):\n",
    "        total_new_correct=0\n",
    "    if (sum_deaths != total_deaths):\n",
    "        total_deaths_correct=0\n",
    "    #add entry for that date to the Guinea dataframe\n",
    "    guinea_df.loc[len(guinea_df)]=[date, \"Guinea\", new_cases_suspects, new_cases_probables, new_cases_confirmed, total_new_cases, deaths_suspects, deaths_probables, deaths_confirmed, total_deaths, total_new_correct, total_deaths_correct]\n",
    "    \n",
    "    #add entry in final dataframe by using computed totals from the subcategories \n",
    "    #instead of using the totals available in the data files.\n",
    "    final_df.loc[len(final_df)]=[date, day, month,\"Guinea\" , sum_new_cases, sum_deaths]"
   ]
  },
  {
   "cell_type": "markdown",
   "metadata": {},
   "source": [
    "This is the intermediate dataframe we obtain for Guinea:"
   ]
  },
  {
   "cell_type": "code",
   "execution_count": 188,
   "metadata": {},
   "outputs": [
    {
     "name": "stdout",
     "output_type": "stream",
     "text": [
      "          Date Country  New Cases of Suspects  New Cases of Probables  \\\n",
      "0   2014-08-04  Guinea                    5.0                     0.0   \n",
      "1   2014-08-26  Guinea                   18.0                     NaN   \n",
      "2   2014-08-27  Guinea                   12.0                     0.0   \n",
      "3   2014-08-30  Guinea                   15.0                     0.0   \n",
      "4   2014-08-31  Guinea                    9.0                     8.0   \n",
      "5   2014-09-02  Guinea                   11.0                     0.0   \n",
      "6   2014-09-04  Guinea                   13.0                     0.0   \n",
      "7   2014-09-07  Guinea                    5.0                     0.0   \n",
      "8   2014-09-08  Guinea                    5.0                     0.0   \n",
      "9   2014-09-09  Guinea                    9.0                     0.0   \n",
      "10  2014-09-11  Guinea                    9.0                     0.0   \n",
      "11  2014-09-14  Guinea                    0.0                    11.0   \n",
      "12  2014-09-16  Guinea                    4.0                     0.0   \n",
      "13  2014-09-17  Guinea                    4.0                     0.0   \n",
      "14  2014-09-19  Guinea                    3.0                     1.0   \n",
      "15  2014-09-21  Guinea                    1.0                     0.0   \n",
      "16  2014-09-22  Guinea                    5.0                     0.0   \n",
      "17  2014-09-23  Guinea                    4.0                     0.0   \n",
      "18  2014-09-24  Guinea                    8.0                     0.0   \n",
      "19  2014-09-26  Guinea                    2.0                     7.0   \n",
      "20  2014-09-30  Guinea                    4.0                     0.0   \n",
      "21  2014-10-01  Guinea                   28.0                     0.0   \n",
      "\n",
      "    New Cases of Confirmed  Total new Cases  Total deaths of suspects  \\\n",
      "0                      4.0              9.0                       2.0   \n",
      "1                     10.0             28.0                       2.0   \n",
      "2                     10.0             22.0                       2.0   \n",
      "3                      9.0             24.0                       2.0   \n",
      "4                     29.0             46.0                       2.0   \n",
      "5                     14.0             25.0                       2.0   \n",
      "6                     17.0             30.0                       3.0   \n",
      "7                     11.0             16.0                       4.0   \n",
      "8                     11.0             16.0                       4.0   \n",
      "9                      7.0             16.0                       4.0   \n",
      "10                    13.0             22.0                       4.0   \n",
      "11                    14.0             25.0                       4.0   \n",
      "12                     6.0             10.0                       5.0   \n",
      "13                     6.0             10.0                       5.0   \n",
      "14                    12.0             16.0                       5.0   \n",
      "15                    17.0             18.0                       5.0   \n",
      "16                    14.0             19.0                       5.0   \n",
      "17                    25.0             29.0                       5.0   \n",
      "18                    20.0             28.0                       5.0   \n",
      "19                    10.0             19.0                     169.0   \n",
      "20                    11.0             15.0                       NaN   \n",
      "21                     6.0             34.0                       0.0   \n",
      "\n",
      "    Total deaths of probables  Total deaths of confirmed  \\\n",
      "0                       133.0                      228.0   \n",
      "1                       141.0                      292.0   \n",
      "2                       142.0                      294.0   \n",
      "3                       142.0                      324.0   \n",
      "4                       150.0                      337.0   \n",
      "5                       150.0                      349.0   \n",
      "6                       151.0                      368.0   \n",
      "7                       151.0                      402.0   \n",
      "8                       151.0                      402.0   \n",
      "9                       151.0                      410.0   \n",
      "10                      151.0                      413.0   \n",
      "11                      162.0                      429.0   \n",
      "12                      161.0                      442.0   \n",
      "13                      161.0                      442.0   \n",
      "14                      162.0                      463.0   \n",
      "15                      162.0                      465.0   \n",
      "16                      162.0                      468.0   \n",
      "17                      162.0                      476.0   \n",
      "18                      162.0                      481.0   \n",
      "19                      494.0                      668.0   \n",
      "20                      175.0                      539.0   \n",
      "21                      177.0                      562.0   \n",
      "\n",
      "    Total deaths (suspects + probables + confirmed) Total new correct  \\\n",
      "0                                             363.0                 1   \n",
      "1                                             958.0                 1   \n",
      "2                                             438.0                 1   \n",
      "3                                             468.0                 1   \n",
      "4                                             489.0                 1   \n",
      "5                                             501.0                 1   \n",
      "6                                             522.0                 1   \n",
      "7                                             557.0                 1   \n",
      "8                                             557.0                 1   \n",
      "9                                             565.0                 1   \n",
      "10                                            568.0                 1   \n",
      "11                                            595.0                 1   \n",
      "12                                            608.0                 1   \n",
      "13                                            608.0                 1   \n",
      "14                                            630.0                 1   \n",
      "15                                            632.0                 1   \n",
      "16                                            635.0                 1   \n",
      "17                                            643.0                 1   \n",
      "18                                            648.0                 1   \n",
      "19                                            668.0                 1   \n",
      "20                                            714.0                 1   \n",
      "21                                            739.0                 1   \n",
      "\n",
      "   Total deaths correct  \n",
      "0                     1  \n",
      "1                     0  \n",
      "2                     1  \n",
      "3                     1  \n",
      "4                     1  \n",
      "5                     1  \n",
      "6                     1  \n",
      "7                     1  \n",
      "8                     1  \n",
      "9                     1  \n",
      "10                    1  \n",
      "11                    1  \n",
      "12                    1  \n",
      "13                    1  \n",
      "14                    1  \n",
      "15                    1  \n",
      "16                    1  \n",
      "17                    1  \n",
      "18                    1  \n",
      "19                    0  \n",
      "20                    1  \n",
      "21                    1  \n"
     ]
    }
   ],
   "source": [
    "print(guinea_df)"
   ]
  },
  {
   "cell_type": "markdown",
   "metadata": {},
   "source": [
    "#### Intermediate step for Liberia"
   ]
  },
  {
   "cell_type": "markdown",
   "metadata": {},
   "source": [
    "We create the 'liberia_df' dataframe which represents a detailed daily summary of the ebola crisis in Liberia, taking into account all the files in the Liberia folder, and holding the different subcategories of new cases and deaths, as well as the totals for deaths, as the totals for new cases are not available in the files provided for Liberia."
   ]
  },
  {
   "cell_type": "code",
   "execution_count": 189,
   "metadata": {
    "collapsed": true
   },
   "outputs": [],
   "source": [
    "liberia_columns=[\"Date\", \"Country\", 'New Case/s (Suspected)', 'New Case/s (Probable)', 'New case/s (confirmed)', \n",
    "                 'Total death/s in suspected cases', 'Total death/s in probable cases' ,'Total death/s in confirmed cases',\n",
    "                 'Total death/s in confirmed, probable, suspected cases', 'Total deaths correct']\n",
    "liberia_df=pd.DataFrame(columns=liberia_columns)"
   ]
  },
  {
   "cell_type": "markdown",
   "metadata": {},
   "source": [
    "We then check, for every date, whether the reported totals of deaths correspond to the sum of the subcategories for deaths.\n",
    "\n",
    "We notice that in many cases, the values for the subcategories of deaths are missing in the provided files, while the value for the total of deaths is available. We decide to use the values of total deaths available in the files and add them to the final dataframe. For new cases, we sum up the values of the subcategories of new cases to obtain the total, since there is no total field in the data files."
   ]
  },
  {
   "cell_type": "code",
   "execution_count": 190,
   "metadata": {},
   "outputs": [],
   "source": [
    "#get all files in subfolder and iteratively append to Liberia dataframe\n",
    "liberia_files = [file for file in os.listdir(LIBERIA_FOLDER) if not(file.startswith(\".\"))]\n",
    "\n",
    "for l_file in liberia_files:\n",
    "    #read data from file\n",
    "    raw_data=pd.read_csv(LIBERIA_FOLDER + \"/\" + l_file)\n",
    "    #remove double spaces and line breaks that cause trouble when reading values\n",
    "    raw_data['Variable'] = raw_data['Variable'].str.replace(' \\n ', ' ')\n",
    "    raw_data['Variable'] = raw_data['Variable'].str.replace(' +', ' ')\n",
    "    #parse date, day and month from file name\n",
    "    date=\"-\".join(l_file.split(\"-\")[0:3])\n",
    "    date=date.split(\".\")[0]\n",
    "    day=int(date.split(\"-\")[2])\n",
    "    month=date.split(\"-\")[1]\n",
    "    #read values for subcategories of new cases from dataframe\n",
    "    new_cases_suspects=float(raw_data.loc[raw_data[\"Variable\"] == 'New Case/s (Suspected)'][\"National\"])\n",
    "    new_cases_probables=float(raw_data.loc[raw_data[\"Variable\"] == 'New Case/s (Probable)'][\"National\"])\n",
    "    new_cases_confirmed=float(raw_data.loc[raw_data[\"Variable\"] == 'New case/s (confirmed)'][\"National\"])\n",
    "    #read values for subcategories of total deaths and sum of total deaths from dataframe\n",
    "    #we take the mean because in some cases we have multiple entries for deaths\n",
    "    deaths_suspects=np.floor(float(pd.Series.mean(raw_data.loc[raw_data[\"Variable\"] == 'Total death/s in suspected cases'][\"National\"])))\n",
    "    deaths_probables=np.floor(float(pd.Series.mean(raw_data.loc[raw_data[\"Variable\"] == 'Total death/s in probable cases'][\"National\"])))\n",
    "    deaths_confirmed=np.floor(float(pd.Series.mean(raw_data.loc[raw_data[\"Variable\"] == 'Total death/s in confirmed cases'][\"National\"])))\n",
    "    total_deaths=np.floor(float(pd.Series.mean(raw_data.loc[raw_data[\"Variable\"] == 'Total death/s in confirmed, probable, suspected cases'][\"National\"])))\n",
    "    \n",
    "    #sum new cases\n",
    "    sum_new_cases=0\n",
    "    if (np.isnan(new_cases_suspects) & np.isnan(new_cases_probables) & np.isnan(new_cases_confirmed)):\n",
    "        sum_new_cases=float('nan')\n",
    "    else:\n",
    "        sum_new_cases=np.nansum([new_cases_suspects, new_cases_probables, new_cases_confirmed])\n",
    "    #sum deaths\n",
    "    sum_deaths=0\n",
    "    if(np.isnan(deaths_suspects) & np.isnan(deaths_probables) & np.isnan(deaths_confirmed)):\n",
    "        sum_deaths=float('nan')\n",
    "    else:\n",
    "        sum_deaths=np.nansum([deaths_suspects, deaths_probables, deaths_confirmed])\n",
    "    \n",
    "    #check if number total deaths matches the sum of subcategories of deaths\n",
    "    total_deaths_correct=1\n",
    "    if (sum_deaths != total_deaths):\n",
    "        total_deaths_correct=0\n",
    "    #add entry for that date to the Liberia dataframe\n",
    "    liberia_df.loc[len(liberia_df)]=[date, \"Liberia\", new_cases_suspects, new_cases_probables, new_cases_confirmed,  deaths_suspects, deaths_probables, deaths_confirmed, total_deaths, total_deaths_correct]\n",
    "    \n",
    "    #add entry in final dataframe by computing the total of new cases from subcategories of new cases\n",
    "    #and by using the value of total deaths read from the data files\n",
    "    final_df.loc[len(final_df)]=[date, day, month, \"Liberia\" , sum_new_cases, total_deaths]"
   ]
  },
  {
   "cell_type": "markdown",
   "metadata": {},
   "source": [
    "This is the intermediate dataframe we obtain for Liberia:"
   ]
  },
  {
   "cell_type": "code",
   "execution_count": 191,
   "metadata": {},
   "outputs": [
    {
     "name": "stdout",
     "output_type": "stream",
     "text": [
      "          Date  Country  New Case/s (Suspected)  New Case/s (Probable)  \\\n",
      "0   2014-06-16  Liberia                     2.0                    1.0   \n",
      "1   2014-06-17  Liberia                     2.0                    0.0   \n",
      "2   2014-06-22  Liberia                     5.0                    0.0   \n",
      "3   2014-06-24  Liberia                     2.0                    0.0   \n",
      "4   2014-06-25  Liberia                     4.0                    1.0   \n",
      "5   2014-06-28  Liberia                     2.0                    6.0   \n",
      "6   2014-06-29  Liberia                     0.0                    0.0   \n",
      "7   2014-07-01  Liberia                     2.0                    0.0   \n",
      "8   2014-07-02  Liberia                     1.0                    3.0   \n",
      "9   2014-07-03  Liberia                     1.0                    2.0   \n",
      "10  2014-07-07  Liberia                     0.0                    2.0   \n",
      "11  2014-07-08  Liberia                     3.0                    0.0   \n",
      "12  2014-07-10  Liberia                     2.0                    1.0   \n",
      "13  2014-07-13  Liberia                     0.0                    5.0   \n",
      "14  2014-07-17  Liberia                     1.0                    9.0   \n",
      "15  2014-07-20  Liberia                     2.0                    0.0   \n",
      "16  2014-07-24  Liberia                    11.0                   16.0   \n",
      "17  2014-07-26  Liberia                    10.0                    3.0   \n",
      "18  2014-08-02  Liberia                     2.0                    9.0   \n",
      "19  2014-08-04  Liberia                     4.0                    5.0   \n",
      "20  2014-08-12  Liberia                     9.0                   49.0   \n",
      "21  2014-08-15  Liberia                    10.0                    5.0   \n",
      "22  2014-08-17  Liberia                    14.0                   10.0   \n",
      "23  2014-08-18  Liberia                    19.0                   35.0   \n",
      "24  2014-08-20  Liberia                    20.0                   27.0   \n",
      "25  2014-08-25  Liberia                    16.0                   13.0   \n",
      "26  2014-08-28  Liberia                    14.0                   25.0   \n",
      "27  2014-09-01  Liberia                    27.0                   32.0   \n",
      "28  2014-09-02  Liberia                    35.0                   38.0   \n",
      "29  2014-09-03  Liberia                    13.0                    3.0   \n",
      "..         ...      ...                     ...                    ...   \n",
      "70  2014-10-24  Liberia                    23.0                   12.0   \n",
      "71  2014-10-25  Liberia                    12.0                   18.0   \n",
      "72  2014-10-28  Liberia                    30.0                   25.0   \n",
      "73  2014-10-29  Liberia                    48.0                   21.0   \n",
      "74  2014-10-30  Liberia                    28.0                   16.0   \n",
      "75  2014-10-31  Liberia                    18.0                   14.0   \n",
      "76  2014-11-02  Liberia                    18.0                    9.0   \n",
      "77  2014-11-04  Liberia                    23.0                    3.0   \n",
      "78  2014-11-08  Liberia                    15.0                   13.0   \n",
      "79  2014-11-14  Liberia                    15.0                    5.0   \n",
      "80  2014-11-15  Liberia                    28.0                   11.0   \n",
      "81  2014-11-19  Liberia                    29.0                    7.0   \n",
      "82  2014-11-20  Liberia                    28.0                   12.0   \n",
      "83  2014-11-21  Liberia                    19.0                   18.0   \n",
      "84  2014-11-23  Liberia                     7.0                    0.0   \n",
      "85  2014-11-24  Liberia                    21.0                    4.0   \n",
      "86  2014-11-26  Liberia                    18.0                   10.0   \n",
      "87  2014-11-27  Liberia                    25.0                    9.0   \n",
      "88  2014-11-28  Liberia                     NaN                    NaN   \n",
      "89  2014-11-29  Liberia                     7.0                    4.0   \n",
      "90  2014-11-30  Liberia                     NaN                    NaN   \n",
      "91  2014-12-01  Liberia                    25.0                    9.0   \n",
      "92  2014-12-02  Liberia                    18.0                   10.0   \n",
      "93  2014-12-03  Liberia                     NaN                    NaN   \n",
      "94  2014-12-04  Liberia                  3054.0                 1800.0   \n",
      "95  2014-12-05  Liberia                  3056.0                 1808.0   \n",
      "96  2014-12-06  Liberia                  3056.0                 1810.0   \n",
      "97  2014-12-07  Liberia                  3067.0                 1829.0   \n",
      "98  2014-12-08  Liberia                  3054.0                 1805.0   \n",
      "99  2014-12-09  Liberia                  3050.0                 1801.0   \n",
      "\n",
      "    New case/s (confirmed)  Total death/s in suspected cases  \\\n",
      "0                      1.0                               2.0   \n",
      "1                      0.0                               2.0   \n",
      "2                      5.0                               1.0   \n",
      "3                      4.0                               6.0   \n",
      "4                      2.0                               9.0   \n",
      "5                      1.0                              13.0   \n",
      "6                      2.0                              13.0   \n",
      "7                      2.0                              14.0   \n",
      "8                      0.0                              14.0   \n",
      "9                      1.0                              15.0   \n",
      "10                     5.0                              15.0   \n",
      "11                     0.0                              16.0   \n",
      "12                     0.0                              17.0   \n",
      "13                     0.0                              21.0   \n",
      "14                     0.0                              22.0   \n",
      "15                     1.0                              24.0   \n",
      "16                     5.0                              17.0   \n",
      "17                     6.0                              19.0   \n",
      "18                     0.0                              40.0   \n",
      "19                     1.0                              41.0   \n",
      "20                     2.0                              55.0   \n",
      "21                     4.0                              83.0   \n",
      "22                     0.0                              97.0   \n",
      "23                     2.0                             122.0   \n",
      "24                    18.0                             132.0   \n",
      "25                     0.0                             182.0   \n",
      "26                    22.0                             214.0   \n",
      "27                    14.0                             235.0   \n",
      "28                     3.0                             247.0   \n",
      "29                     8.0                             254.0   \n",
      "..                     ...                               ...   \n",
      "70                     0.0                               NaN   \n",
      "71                     1.0                               NaN   \n",
      "72                     NaN                               NaN   \n",
      "73                     NaN                               NaN   \n",
      "74                     NaN                               NaN   \n",
      "75                     NaN                               NaN   \n",
      "76                     NaN                               NaN   \n",
      "77                     NaN                               NaN   \n",
      "78                     NaN                               NaN   \n",
      "79                     0.0                               0.0   \n",
      "80                     NaN                               NaN   \n",
      "81                     NaN                               NaN   \n",
      "82                     NaN                               NaN   \n",
      "83                     NaN                               NaN   \n",
      "84                     NaN                               NaN   \n",
      "85                     NaN                               NaN   \n",
      "86                     NaN                               NaN   \n",
      "87                    12.0                               NaN   \n",
      "88                     7.0                               NaN   \n",
      "89                    10.0                               NaN   \n",
      "90                    10.0                               NaN   \n",
      "91                     1.0                               NaN   \n",
      "92                     9.0                               NaN   \n",
      "93                     NaN                               NaN   \n",
      "94                  2867.0                               NaN   \n",
      "95                  2867.0                               NaN   \n",
      "96                  2869.0                               NaN   \n",
      "97                  2869.0                               NaN   \n",
      "98                  2927.0                               NaN   \n",
      "99                  2946.0                               NaN   \n",
      "\n",
      "    Total death/s in probable cases  Total death/s in confirmed cases  \\\n",
      "0                               6.0                               8.0   \n",
      "1                               6.0                               8.0   \n",
      "2                               8.0                              16.0   \n",
      "3                               8.0                              18.0   \n",
      "4                               8.0                              20.0   \n",
      "5                              10.0                              26.0   \n",
      "6                              10.0                              26.0   \n",
      "7                              17.0                              30.0   \n",
      "8                              20.0                              32.0   \n",
      "9                              22.0                              33.0   \n",
      "10                             26.0                              37.0   \n",
      "11                             26.0                              38.0   \n",
      "12                             28.0                              40.0   \n",
      "13                             31.0                              42.0   \n",
      "14                             38.0                              48.0   \n",
      "15                             42.0                              50.0   \n",
      "16                             59.0                              60.0   \n",
      "17                             60.0                              66.0   \n",
      "18                             99.0                             118.0   \n",
      "19                            108.0                             122.0   \n",
      "20                            163.0                             147.0   \n",
      "21                            200.0                             172.0   \n",
      "22                            204.0                             180.0   \n",
      "23                            237.0                             206.0   \n",
      "24                            265.0                             216.0   \n",
      "25                            309.0                             280.0   \n",
      "26                            350.0                             321.0   \n",
      "27                            379.0                             390.0   \n",
      "28                            390.0                             414.0   \n",
      "29                            399.0                             425.0   \n",
      "..                              ...                               ...   \n",
      "70                              NaN                               NaN   \n",
      "71                              NaN                               NaN   \n",
      "72                              NaN                               NaN   \n",
      "73                              NaN                               NaN   \n",
      "74                              NaN                               NaN   \n",
      "75                              NaN                               NaN   \n",
      "76                              NaN                               NaN   \n",
      "77                              NaN                               NaN   \n",
      "78                              NaN                               NaN   \n",
      "79                              0.0                               0.0   \n",
      "80                              NaN                               NaN   \n",
      "81                              NaN                               NaN   \n",
      "82                              NaN                               NaN   \n",
      "83                              NaN                               NaN   \n",
      "84                              NaN                               NaN   \n",
      "85                              NaN                               NaN   \n",
      "86                              NaN                               NaN   \n",
      "87                              NaN                               NaN   \n",
      "88                              NaN                               NaN   \n",
      "89                              NaN                               NaN   \n",
      "90                              NaN                               NaN   \n",
      "91                              NaN                               NaN   \n",
      "92                              NaN                               NaN   \n",
      "93                              NaN                               NaN   \n",
      "94                              NaN                               NaN   \n",
      "95                              NaN                               NaN   \n",
      "96                              NaN                               NaN   \n",
      "97                              NaN                               NaN   \n",
      "98                              NaN                               NaN   \n",
      "99                              NaN                               NaN   \n",
      "\n",
      "    Total death/s in confirmed, probable, suspected cases Total deaths correct  \n",
      "0                                                16.0                        1  \n",
      "1                                                16.0                        1  \n",
      "2                                                25.0                        1  \n",
      "3                                                32.0                        1  \n",
      "4                                                37.0                        1  \n",
      "5                                                49.0                        1  \n",
      "6                                                49.0                        1  \n",
      "7                                                61.0                        1  \n",
      "8                                                66.0                        1  \n",
      "9                                                70.0                        1  \n",
      "10                                               78.0                        1  \n",
      "11                                               80.0                        1  \n",
      "12                                               85.0                        1  \n",
      "13                                               94.0                        1  \n",
      "14                                              108.0                        1  \n",
      "15                                              116.0                        1  \n",
      "16                                              136.0                        1  \n",
      "17                                              145.0                        1  \n",
      "18                                              257.0                        1  \n",
      "19                                              271.0                        1  \n",
      "20                                              365.0                        1  \n",
      "21                                              455.0                        1  \n",
      "22                                              481.0                        1  \n",
      "23                                              565.0                        1  \n",
      "24                                              613.0                        1  \n",
      "25                                              771.0                        1  \n",
      "26                                              885.0                        1  \n",
      "27                                             1004.0                        1  \n",
      "28                                             1051.0                        1  \n",
      "29                                             1078.0                        1  \n",
      "..                                                ...                      ...  \n",
      "70                                             2104.0                        0  \n",
      "71                                             2106.0                        0  \n",
      "72                                             2471.0                        0  \n",
      "73                                             2609.0                        0  \n",
      "74                                             2636.0                        0  \n",
      "75                                             2697.0                        0  \n",
      "76                                             2700.0                        0  \n",
      "77                                             1179.0                        0  \n",
      "78                                                NaN                        0  \n",
      "79                                             2960.0                        0  \n",
      "80                                             2964.0                        0  \n",
      "81                                             2992.0                        0  \n",
      "82                                             2992.0                        0  \n",
      "83                                             3016.0                        0  \n",
      "84                                             3029.0                        0  \n",
      "85                                             4181.0                        0  \n",
      "86                                             3079.0                        0  \n",
      "87                                             3079.0                        0  \n",
      "88                                             3145.0                        0  \n",
      "89                                             3155.0                        0  \n",
      "90                                             3157.0                        0  \n",
      "91                                             3161.0                        0  \n",
      "92                                             3161.0                        0  \n",
      "93                                             3177.0                        0  \n",
      "94                                             3205.0                        0  \n",
      "95                                             3206.0                        0  \n",
      "96                                             3212.0                        0  \n",
      "97                                             3222.0                        0  \n",
      "98                                             3255.0                        0  \n",
      "99                                             3290.0                        0  \n",
      "\n",
      "[100 rows x 10 columns]\n"
     ]
    }
   ],
   "source": [
    "print(liberia_df)"
   ]
  },
  {
   "cell_type": "markdown",
   "metadata": {},
   "source": [
    "#### Intermediate step for Sierra Leone"
   ]
  },
  {
   "cell_type": "markdown",
   "metadata": {},
   "source": [
    "We create the 'sl_df' dataframe which represents a detailed daily summary of the ebola crisis in Sierra Leone, taking into account all the files in the Sierra Leone folder, and holding the different subcategories of new cases and deaths. In the Sierra Leone data files, there are no available totals for neither new cases nor deaths."
   ]
  },
  {
   "cell_type": "code",
   "execution_count": 192,
   "metadata": {
    "collapsed": true
   },
   "outputs": [],
   "source": [
    "sl_columns=[\"Date\", \"Country\", 'new_suspected', 'new_probable', 'new_confirmed', 'death_suspected', 'death_probable' ,\n",
    "            'death_confirmed']\n",
    "sl_df=pd.DataFrame(columns=sl_columns)"
   ]
  },
  {
   "cell_type": "markdown",
   "metadata": {},
   "source": [
    "Since there are no totals given in the Sierra Leone data files for neither new cases nor deaths, we compute them from the available subcategories and add the computed totals to the final dataframe."
   ]
  },
  {
   "cell_type": "code",
   "execution_count": 193,
   "metadata": {},
   "outputs": [],
   "source": [
    "#get all files in subfolder and iteratively append to Liberia dataframe\n",
    "sierraleone_files = [file for file in os.listdir(SIERRALEONE_FOLDER) if not(file.startswith(\".\"))]\n",
    "\n",
    "for sl_file in sierraleone_files:\n",
    "    #read data from file\n",
    "    raw_data=pd.read_csv(SIERRALEONE_FOLDER + \"/\" + sl_file)\n",
    "    #parse date, day and month from file name\n",
    "    date=\"-\".join(sl_file.split(\"-\")[0:3])\n",
    "    date=date.split(\".\")[0]\n",
    "    day=int(date.split(\"-\")[2])\n",
    "    month=date.split(\"-\")[1]\n",
    "    #read values for subcategories of new cases from dataframe\n",
    "    new_cases_suspects=float(raw_data.loc[raw_data[\"variable\"] == 'new_suspected'][\"National\"])\n",
    "    new_cases_probables=float(raw_data.loc[raw_data[\"variable\"] == 'new_probable'][\"National\"])\n",
    "    new_cases_confirmed=float(raw_data.loc[raw_data[\"variable\"] == 'new_confirmed'][\"National\"])\n",
    "    #read values for subcategories of deaths from dataframe\n",
    "    deaths_suspects=float(raw_data.loc[raw_data[\"variable\"] == 'death_suspected'][\"National\"])\n",
    "    deaths_probables=float(raw_data.loc[raw_data[\"variable\"] == 'death_probable'][\"National\"])\n",
    "    deaths_confirmed=float(raw_data.loc[raw_data[\"variable\"] == 'death_confirmed'][\"National\"])\n",
    "    #add entry for that date to the Liberia dataframe\n",
    "    sl_df.loc[len(sl_df)]=[date, \"Sierra Leone\", new_cases_suspects, new_cases_probables, new_cases_confirmed,  deaths_suspects, deaths_probables, deaths_confirmed]\n",
    "    \n",
    "    #sum new cases\n",
    "    sum_new_cases=0\n",
    "    if (np.isnan(new_cases_suspects) & np.isnan(new_cases_probables) & np.isnan(new_cases_confirmed)):\n",
    "        sum_new_cases=float('nan')\n",
    "    else:\n",
    "        sum_new_cases=np.nansum([new_cases_suspects, new_cases_probables, new_cases_confirmed])\n",
    "    #sum deaths\n",
    "    sum_deaths=0\n",
    "    if(np.isnan(deaths_suspects) & np.isnan(deaths_probables) & np.isnan(deaths_confirmed)):\n",
    "        sum_deaths=float('nan')\n",
    "    else:\n",
    "        sum_deaths=np.nansum([deaths_suspects, deaths_probables, deaths_confirmed])\n",
    "        \n",
    "    #add entry in final dataframe by using the computed total of new cases from subcategories of new cases\n",
    "    #and by the computed total deaths from subcategories of deaths\n",
    "    final_df.loc[len(final_df)]=[date, day, month,\"Sierra Leone\" , sum_new_cases, sum_deaths]"
   ]
  },
  {
   "cell_type": "markdown",
   "metadata": {},
   "source": [
    "This is the intermediate dataframe we obtain for Sierra Leone:"
   ]
  },
  {
   "cell_type": "code",
   "execution_count": 194,
   "metadata": {},
   "outputs": [
    {
     "name": "stdout",
     "output_type": "stream",
     "text": [
      "           Date       Country  new_suspected  new_probable  new_confirmed  \\\n",
      "0    2014-08-12  Sierra Leone           10.0           1.0           11.0   \n",
      "1    2014-08-13  Sierra Leone            3.0           1.0           15.0   \n",
      "2    2014-08-14  Sierra Leone            0.0           2.0           13.0   \n",
      "3    2014-08-15  Sierra Leone            6.0           1.0           10.0   \n",
      "4    2014-08-16  Sierra Leone            3.0           0.0           18.0   \n",
      "5    2014-08-17  Sierra Leone            1.0           0.0            2.0   \n",
      "6    2014-08-18  Sierra Leone           40.0          15.0            5.0   \n",
      "7    2014-08-19  Sierra Leone           16.0           3.0            9.0   \n",
      "8    2014-08-20  Sierra Leone            1.0           0.0            4.0   \n",
      "9    2014-08-21  Sierra Leone            0.0           0.0            9.0   \n",
      "10   2014-08-22  Sierra Leone            1.0           0.0           56.0   \n",
      "11   2014-08-23  Sierra Leone            4.0           0.0           23.0   \n",
      "12   2014-08-24  Sierra Leone            0.0           0.0           31.0   \n",
      "13   2014-08-25  Sierra Leone            5.0           0.0           20.0   \n",
      "14   2014-08-26  Sierra Leone            NaN           NaN            NaN   \n",
      "15   2014-08-27  Sierra Leone            3.0           0.0           27.0   \n",
      "16   2014-08-28  Sierra Leone            2.0           0.0           30.0   \n",
      "17   2014-08-29  Sierra Leone            NaN           NaN            NaN   \n",
      "18   2014-08-30  Sierra Leone            7.0           0.0           44.0   \n",
      "19   2014-08-31  Sierra Leone            7.0           0.0           44.0   \n",
      "20   2014-09-01  Sierra Leone            2.0           0.0            9.0   \n",
      "21   2014-09-02  Sierra Leone            4.0           0.0           31.0   \n",
      "22   2014-09-03  Sierra Leone            3.0           0.0           28.0   \n",
      "23   2014-09-05  Sierra Leone            NaN           NaN            NaN   \n",
      "24   2014-09-06  Sierra Leone            7.0           0.0           42.0   \n",
      "25   2014-09-07  Sierra Leone            4.0           0.0           11.0   \n",
      "26   2014-09-08  Sierra Leone            2.0           0.0           17.0   \n",
      "27   2014-09-09  Sierra Leone            6.0           0.0           36.0   \n",
      "28   2014-09-10  Sierra Leone            5.0           0.0           26.0   \n",
      "29   2014-09-11  Sierra Leone           10.0           0.0           34.0   \n",
      "..          ...           ...            ...           ...            ...   \n",
      "73   2014-10-27  Sierra Leone           10.0           5.0           91.0   \n",
      "74   2014-10-28  Sierra Leone           20.0           0.0           47.0   \n",
      "75   2014-10-30  Sierra Leone            9.0           0.0           50.0   \n",
      "76   2014-10-31  Sierra Leone           29.0           0.0           95.0   \n",
      "77   2014-11-01  Sierra Leone           15.0           0.0           60.0   \n",
      "78   2014-11-02  Sierra Leone           12.0           0.0           61.0   \n",
      "79   2014-11-06  Sierra Leone            7.0           0.0           41.0   \n",
      "80   2014-11-07  Sierra Leone           12.0           0.0           45.0   \n",
      "81   2014-11-08  Sierra Leone           20.0           0.0          111.0   \n",
      "82   2014-11-10  Sierra Leone           32.0           0.0           94.0   \n",
      "83   2014-11-12  Sierra Leone           35.0           0.0           61.0   \n",
      "84   2014-11-13  Sierra Leone            NaN           NaN           84.0   \n",
      "85   2014-11-14  Sierra Leone            NaN           NaN            NaN   \n",
      "86   2014-11-15  Sierra Leone            NaN           NaN           54.0   \n",
      "87   2014-11-16  Sierra Leone            NaN           NaN           89.0   \n",
      "88   2014-11-17  Sierra Leone            NaN           NaN           53.0   \n",
      "89   2014-11-18  Sierra Leone            NaN           NaN           43.0   \n",
      "90   2014-11-19  Sierra Leone            NaN           NaN            NaN   \n",
      "91   2014-11-20  Sierra Leone           36.0           0.0           94.0   \n",
      "92   2014-11-21  Sierra Leone           18.0           0.0           51.0   \n",
      "93   2014-11-22  Sierra Leone           28.0           0.0           47.0   \n",
      "94   2014-11-23  Sierra Leone           25.0           0.0           39.0   \n",
      "95   2014-11-24  Sierra Leone           32.0           0.0           83.0   \n",
      "96   2014-11-28  Sierra Leone           26.0           0.0           84.0   \n",
      "97   2014-11-29  Sierra Leone           24.0           0.0           64.0   \n",
      "98   2014-12-01  Sierra Leone           14.0           0.0           72.0   \n",
      "99   2014-12-04  Sierra Leone            4.0           0.0           37.0   \n",
      "100  2014-12-05  Sierra Leone           24.0           0.0           54.0   \n",
      "101  2014-12-06  Sierra Leone            NaN           NaN            NaN   \n",
      "102  2014-12-13  Sierra Leone            NaN           NaN            NaN   \n",
      "\n",
      "     death_suspected  death_probable  death_confirmed  \n",
      "0                5.0            34.0            264.0  \n",
      "1                5.0            34.0            273.0  \n",
      "2                5.0            34.0            280.0  \n",
      "3                5.0            34.0            287.0  \n",
      "4                5.0            34.0            297.0  \n",
      "5                5.0            34.0            305.0  \n",
      "6                5.0            34.0            312.0  \n",
      "7                5.0            34.0            320.0  \n",
      "8                5.0            34.0            322.0  \n",
      "9                8.0            34.0            329.0  \n",
      "10               8.0            34.0            333.0  \n",
      "11               8.0            37.0            336.0  \n",
      "12               8.0            37.0            341.0  \n",
      "13               8.0            37.0            355.0  \n",
      "14               NaN             NaN              NaN  \n",
      "15              11.0            37.0            372.0  \n",
      "16              11.0            37.0            377.0  \n",
      "17               NaN             NaN              NaN  \n",
      "18              11.0            37.0            387.0  \n",
      "19              11.0            37.0            387.0  \n",
      "20              11.0            37.0            396.0  \n",
      "21              11.0            37.0            399.0  \n",
      "22              11.0            37.0            404.0  \n",
      "23               NaN             NaN              NaN  \n",
      "24              11.0            37.0            426.0  \n",
      "25              11.0            37.0            428.0  \n",
      "26              11.0            37.0            433.0  \n",
      "27              11.0            37.0            436.0  \n",
      "28              11.0            37.0            445.0  \n",
      "29              11.0            37.0            450.0  \n",
      "..               ...             ...              ...  \n",
      "73             157.0           213.0           1049.0  \n",
      "74             157.0           208.0           1057.0  \n",
      "75             157.0           208.0           1064.0  \n",
      "76             157.0           208.0           1070.0  \n",
      "77             157.0           208.0           1077.0  \n",
      "78             157.0           208.0           1085.0  \n",
      "79             157.0           208.0           1114.0  \n",
      "80             157.0           208.0           1126.0  \n",
      "81             157.0           208.0           1133.0  \n",
      "82             157.0           208.0           1149.0  \n",
      "83             157.0           208.0           1169.0  \n",
      "84             157.0           208.0           1180.0  \n",
      "85               NaN             NaN              NaN  \n",
      "86             157.0           208.0           1206.0  \n",
      "87             157.0           208.0           1223.0  \n",
      "88             157.0           208.0           1223.0  \n",
      "89             157.0           208.0           1240.0  \n",
      "90               NaN             NaN              NaN  \n",
      "91             158.0           208.0           1282.0  \n",
      "92             158.0           208.0           1303.0  \n",
      "93             158.0           208.0           1333.0  \n",
      "94             158.0           208.0           1364.0  \n",
      "95             158.0           208.0           1397.0  \n",
      "96             158.0           208.0           1481.0  \n",
      "97             158.0           208.0           1496.0  \n",
      "98             158.0           208.0           1549.0  \n",
      "99             158.0           208.0           1648.0  \n",
      "100            158.0           208.0           1669.0  \n",
      "101            158.0           208.0           1708.0  \n",
      "102              NaN             NaN              NaN  \n",
      "\n",
      "[103 rows x 8 columns]\n"
     ]
    }
   ],
   "source": [
    "print(sl_df)"
   ]
  },
  {
   "cell_type": "markdown",
   "metadata": {},
   "source": [
    "#### Combined data\n",
    "Now the final dataframe combining data for all countries is complete (final_df). We display it below:"
   ]
  },
  {
   "cell_type": "code",
   "execution_count": 195,
   "metadata": {},
   "outputs": [
    {
     "name": "stdout",
     "output_type": "stream",
     "text": [
      "           Date Day Month       Country  Number of new cases  \\\n",
      "0    2014-08-04   4    08        Guinea                  9.0   \n",
      "1    2014-08-26  26    08        Guinea                 28.0   \n",
      "2    2014-08-27  27    08        Guinea                 22.0   \n",
      "3    2014-08-30  30    08        Guinea                 24.0   \n",
      "4    2014-08-31  31    08        Guinea                 46.0   \n",
      "5    2014-09-02   2    09        Guinea                 25.0   \n",
      "6    2014-09-04   4    09        Guinea                 30.0   \n",
      "7    2014-09-07   7    09        Guinea                 16.0   \n",
      "8    2014-09-08   8    09        Guinea                 16.0   \n",
      "9    2014-09-09   9    09        Guinea                 16.0   \n",
      "10   2014-09-11  11    09        Guinea                 22.0   \n",
      "11   2014-09-14  14    09        Guinea                 25.0   \n",
      "12   2014-09-16  16    09        Guinea                 10.0   \n",
      "13   2014-09-17  17    09        Guinea                 10.0   \n",
      "14   2014-09-19  19    09        Guinea                 16.0   \n",
      "15   2014-09-21  21    09        Guinea                 18.0   \n",
      "16   2014-09-22  22    09        Guinea                 19.0   \n",
      "17   2014-09-23  23    09        Guinea                 29.0   \n",
      "18   2014-09-24  24    09        Guinea                 28.0   \n",
      "19   2014-09-26  26    09        Guinea                 19.0   \n",
      "20   2014-09-30  30    09        Guinea                 15.0   \n",
      "21   2014-10-01   1    10        Guinea                 34.0   \n",
      "22   2014-06-16  16    06       Liberia                  4.0   \n",
      "23   2014-06-17  17    06       Liberia                  2.0   \n",
      "24   2014-06-22  22    06       Liberia                 10.0   \n",
      "25   2014-06-24  24    06       Liberia                  6.0   \n",
      "26   2014-06-25  25    06       Liberia                  7.0   \n",
      "27   2014-06-28  28    06       Liberia                  9.0   \n",
      "28   2014-06-29  29    06       Liberia                  2.0   \n",
      "29   2014-07-01   1    07       Liberia                  4.0   \n",
      "..          ...  ..   ...           ...                  ...   \n",
      "195  2014-10-27  27    10  Sierra Leone                106.0   \n",
      "196  2014-10-28  28    10  Sierra Leone                 67.0   \n",
      "197  2014-10-30  30    10  Sierra Leone                 59.0   \n",
      "198  2014-10-31  31    10  Sierra Leone                124.0   \n",
      "199  2014-11-01   1    11  Sierra Leone                 75.0   \n",
      "200  2014-11-02   2    11  Sierra Leone                 73.0   \n",
      "201  2014-11-06   6    11  Sierra Leone                 48.0   \n",
      "202  2014-11-07   7    11  Sierra Leone                 57.0   \n",
      "203  2014-11-08   8    11  Sierra Leone                131.0   \n",
      "204  2014-11-10  10    11  Sierra Leone                126.0   \n",
      "205  2014-11-12  12    11  Sierra Leone                 96.0   \n",
      "206  2014-11-13  13    11  Sierra Leone                 84.0   \n",
      "207  2014-11-14  14    11  Sierra Leone                  NaN   \n",
      "208  2014-11-15  15    11  Sierra Leone                 54.0   \n",
      "209  2014-11-16  16    11  Sierra Leone                 89.0   \n",
      "210  2014-11-17  17    11  Sierra Leone                 53.0   \n",
      "211  2014-11-18  18    11  Sierra Leone                 43.0   \n",
      "212  2014-11-19  19    11  Sierra Leone                  NaN   \n",
      "213  2014-11-20  20    11  Sierra Leone                130.0   \n",
      "214  2014-11-21  21    11  Sierra Leone                 69.0   \n",
      "215  2014-11-22  22    11  Sierra Leone                 75.0   \n",
      "216  2014-11-23  23    11  Sierra Leone                 64.0   \n",
      "217  2014-11-24  24    11  Sierra Leone                115.0   \n",
      "218  2014-11-28  28    11  Sierra Leone                110.0   \n",
      "219  2014-11-29  29    11  Sierra Leone                 88.0   \n",
      "220  2014-12-01   1    12  Sierra Leone                 86.0   \n",
      "221  2014-12-04   4    12  Sierra Leone                 41.0   \n",
      "222  2014-12-05   5    12  Sierra Leone                 78.0   \n",
      "223  2014-12-06   6    12  Sierra Leone                  NaN   \n",
      "224  2014-12-13  13    12  Sierra Leone                  NaN   \n",
      "\n",
      "     Total number of deaths  \n",
      "0                     363.0  \n",
      "1                     435.0  \n",
      "2                     438.0  \n",
      "3                     468.0  \n",
      "4                     489.0  \n",
      "5                     501.0  \n",
      "6                     522.0  \n",
      "7                     557.0  \n",
      "8                     557.0  \n",
      "9                     565.0  \n",
      "10                    568.0  \n",
      "11                    595.0  \n",
      "12                    608.0  \n",
      "13                    608.0  \n",
      "14                    630.0  \n",
      "15                    632.0  \n",
      "16                    635.0  \n",
      "17                    643.0  \n",
      "18                    648.0  \n",
      "19                   1331.0  \n",
      "20                    714.0  \n",
      "21                    739.0  \n",
      "22                     16.0  \n",
      "23                     16.0  \n",
      "24                     25.0  \n",
      "25                     32.0  \n",
      "26                     37.0  \n",
      "27                     49.0  \n",
      "28                     49.0  \n",
      "29                     61.0  \n",
      "..                      ...  \n",
      "195                  1419.0  \n",
      "196                  1422.0  \n",
      "197                  1429.0  \n",
      "198                  1435.0  \n",
      "199                  1442.0  \n",
      "200                  1450.0  \n",
      "201                  1479.0  \n",
      "202                  1491.0  \n",
      "203                  1498.0  \n",
      "204                  1514.0  \n",
      "205                  1534.0  \n",
      "206                  1545.0  \n",
      "207                     NaN  \n",
      "208                  1571.0  \n",
      "209                  1588.0  \n",
      "210                  1588.0  \n",
      "211                  1605.0  \n",
      "212                     NaN  \n",
      "213                  1648.0  \n",
      "214                  1669.0  \n",
      "215                  1699.0  \n",
      "216                  1730.0  \n",
      "217                  1763.0  \n",
      "218                  1847.0  \n",
      "219                  1862.0  \n",
      "220                  1915.0  \n",
      "221                  2014.0  \n",
      "222                  2035.0  \n",
      "223                  2074.0  \n",
      "224                     NaN  \n",
      "\n",
      "[225 rows x 6 columns]\n"
     ]
    }
   ],
   "source": [
    "print(final_df)"
   ]
  },
  {
   "cell_type": "markdown",
   "metadata": {},
   "source": [
    "#### Calculation of daily average per month of new cases and deaths\n",
    "\n",
    "We use the combined dataframe to get the daily average per month of new cases and deaths. For new cases, we consider that the number of new cases for each date correspond to the number of new cases that appeared that day. To get the daily average per month of new cases, we therefore take the average of the number of new cases for each month. As we do not have data files for all days of the month, the average we get is not 100% representative of the true daily average per month. However, we assume that the average obtained from the data that is available to us is close enough to the true daily average number of new cases per month.\n",
    "\n",
    "For deaths, the number of total deaths we have in the final dataframe correspond to the cumulative number of deaths up to that day.\n",
    "\n",
    "To get the daily average per month of deaths, we take the difference between the maximum number of deaths for each month and the minimum number of death for that month, and we divide by the number of days in between (max_day - min_day + 1) to obtain an estimate of the daily average deaths per month."
   ]
  },
  {
   "cell_type": "code",
   "execution_count": 196,
   "metadata": {},
   "outputs": [],
   "source": [
    "#sort by date to calculate daily average of deaths from cumulative values\n",
    "sorted_df_bydate=final_df.sort_values(\"Date\")\n",
    "#group by country and month\n",
    "grouped_df = sorted_df_bydate.groupby([\"Country\", \"Month\"])\n",
    "#use grouped dataframe to calculate average of new cases, total number of deaths, \n",
    "#and total number of days + 1 for every month\n",
    "intermediate_results = grouped_df.aggregate({\"Number of new cases\" : np.nanmean, \n",
    "                                             \"Total number of deaths\": lambda x: max(x) - min(x), \n",
    "                                             \"Day\": lambda x: max(x)  - min(x) + 1})\n",
    "#renamecolumn for intermediate results dataframe\n",
    "intermediate_results.columns=[\"Average daily number of new cases\",\"Total monthly number of deaths\", \"Total number of days\"]\n",
    "                  \n",
    "def get_avg_deaths(group):\n",
    "    #function that calculates the average number of deaths in a months \n",
    "    #by dividing the total number of deaths in that month by the total number of days for which data is available\n",
    "    total_deaths=group['Total monthly number of deaths']\n",
    "    total_days=group['Total number of days']\n",
    "    return total_deaths/total_days\n",
    "\n",
    "#apply function to get daily average of deaths from intermediate_results dataframe\n",
    "avg_deaths=intermediate_results.apply(get_avg_deaths, axis=1)\n",
    "avg_deaths=avg_deaths.to_frame()\n",
    "avg_deaths.columns=[\"Average daily number of deaths\"]\n",
    "avg_new_cases=intermediate_results[[\"Average daily number of new cases\"]]\n",
    "#joining daily average of new cases and daily average of deaths in a single dataframe (final_results)\n",
    "final_results=avg_new_cases.join(avg_deaths)"
   ]
  },
  {
   "cell_type": "markdown",
   "metadata": {},
   "source": [
    "Finally, we handle one special case for Guinea, where we only have data available for 1 day in month 10, more specifically only for the first day. For that case, we consider the last day of month 09 and deduct that value from the value available in the file for month 10. We consider this to be the daily average, although we realize it might not be 100% representative of the true daily average."
   ]
  },
  {
   "cell_type": "code",
   "execution_count": 197,
   "metadata": {
    "collapsed": true
   },
   "outputs": [],
   "source": [
    "#handling case where we only have one file for month 10 in Guinea\n",
    "value_end_09 = float(final_df.loc[(final_df[\"Date\"] == \"2014-09-30\") & (final_df[\"Country\"]==\"Guinea\")][\"Total number of deaths\"])\n",
    "value_start_10=float(final_df.loc[(final_df[\"Date\"] == \"2014-10-01\") & (final_df[\"Country\"]==\"Guinea\")][\"Total number of deaths\"])\n",
    "final_results.iloc[2, 1] = value_start_10 - value_end_09"
   ]
  },
  {
   "cell_type": "markdown",
   "metadata": {},
   "source": [
    "The final results, grouped by country and month are displayed below:"
   ]
  },
  {
   "cell_type": "code",
   "execution_count": 198,
   "metadata": {},
   "outputs": [
    {
     "name": "stdout",
     "output_type": "stream",
     "text": [
      "                    Average daily number of new cases  \\\n",
      "Country      Month                                      \n",
      "Guinea       08                             25.800000   \n",
      "             09                             19.625000   \n",
      "             10                             34.000000   \n",
      "Liberia      06                              5.714286   \n",
      "             07                              8.545455   \n",
      "             08                             37.222222   \n",
      "             09                             63.833333   \n",
      "             10                             45.560000   \n",
      "             11                             26.466667   \n",
      "             12                           5825.875000   \n",
      "Sierra Leone 08                             27.944444   \n",
      "             09                             43.703704   \n",
      "             10                             70.928571   \n",
      "             11                             83.157895   \n",
      "             12                             68.333333   \n",
      "\n",
      "                    Average daily number of deaths  \n",
      "Country      Month                                  \n",
      "Guinea       08                           4.500000  \n",
      "             09                          28.620690  \n",
      "             10                          25.000000  \n",
      "Liberia      06                           2.357143  \n",
      "             07                           3.230769  \n",
      "             08                          23.259259  \n",
      "             09                          35.133333  \n",
      "             10                          22.193548  \n",
      "             11                         103.517241  \n",
      "             12                          14.333333  \n",
      "Sierra Leone 08                           6.600000  \n",
      "             09                           5.133333  \n",
      "             10                          27.580645  \n",
      "             11                          14.482759  \n",
      "             12                          12.230769  \n"
     ]
    }
   ],
   "source": [
    "print(final_results)"
   ]
  },
  {
   "cell_type": "markdown",
   "metadata": {},
   "source": [
    "### Note: \n",
    "We notice that the average daily number of new cases in Liberia for month 11 is abnormally high. After checking the files relative to month 12 in Liberia, we notice that the number of new cases for Liberia for that month are indeed abnormally high. This could be due to incorrect data entry."
   ]
  },
  {
   "cell_type": "markdown",
   "metadata": {},
   "source": [
    "### Note: \n",
    "We also thought about another approach for calculating the daily agerages per month for new cases.\n",
    "\n",
    "In fact, given that the new_cases attributes were not cumulative in any country, we decided to compute the averages the way we did: get the new cases numbers from the available data at hand and compute the average from it. However, the new cases data is a bit sparse, since a good number of their values are missing (NaN), and in Guinea for example, data is available only for a few days per month (< 10), so the average might not always be very meaningful and really representative of the new cases situation in Guinea.\n",
    "\n",
    "Another approach would be to use the total_cases attribute (instead of new_cases) since total_cases is a cumulative field, and we would compute the daily average per month in the following way: average = (total_cases at last day available of month - total_cases at first day available of month) / (last day of month - first day of month + 1).\n",
    "\n",
    "That way, we would be benefiting from the cumulative nature of the total_cases attribute and we would get rid of the sparisty problem of new_cases attribute in Guinea.\n",
    "\n",
    "But, at the end, we thought about doing it the way we did because it is the best (and safest) we could do with the available (but scarce) data at hand, and because we found a lot of inconsistencies in the total_cases attribute (e.g. total_cases might be higher sometimes in the middle of the month, rather than the end thus contradicting the cumulative nature of the field), but also because we are not sure that our assumption that new_cases for month j = (total_cases at month (j+1) - total_cases at month j) is actually correct (in other words, we are not sure if the total_cases and new_cases fields are correlated at all)."
   ]
  },
  {
   "cell_type": "markdown",
   "metadata": {},
   "source": [
    "## Task 2. RNA Sequences\n",
    "\n",
    "In the `DATA_FOLDER/microbiome` subdirectory, there are 9 spreadsheets of microbiome data that was acquired from high-throughput RNA sequencing procedures, along with a 10<sup>th</sup> file that describes the content of each. \n",
    "\n",
    "Use pandas to import the first 9 spreadsheets into a single `DataFrame`.\n",
    "Then, add the metadata information from the 10<sup>th</sup> spreadsheet as columns in the combined `DataFrame`.\n",
    "Make sure that the final `DataFrame` has a unique index and all the `NaN` values have been replaced by the tag `unknown`."
   ]
  },
  {
   "cell_type": "markdown",
   "metadata": {},
   "source": [
    "First, we import the metadata file into one dataframe df_metadata, for later use"
   ]
  },
  {
   "cell_type": "code",
   "execution_count": 199,
   "metadata": {
    "collapsed": true
   },
   "outputs": [],
   "source": [
    "df_metadata = pd.read_excel(DATA_FOLDER + \"/microbiome/metadata.xls\")"
   ]
  },
  {
   "cell_type": "code",
   "execution_count": 200,
   "metadata": {
    "collapsed": true
   },
   "outputs": [],
   "source": [
    "#This df_list is a list of dataframe objects, in which we will be appending dataframes (as seen below)\n",
    "df_list = []"
   ]
  },
  {
   "cell_type": "code",
   "execution_count": 201,
   "metadata": {
    "collapsed": true
   },
   "outputs": [],
   "source": [
    "#We have 9 data files (other than the metadata). We will be looping over them\n",
    "for i in range(1,10):\n",
    "    #This is the path of the i'th file\n",
    "    xls_path = DATA_FOLDER + \"/microbiome/MID\" + str(i) + \".xls\"\n",
    "\n",
    "    #We import the i'th MID file into a dataframe (df_MID) with no header (there is no existing header in any xls file)\n",
    "    df_MID = pd.read_excel(xls_path, header=None)\n",
    "\n",
    "    #Then, we add the two columns 'Group' and 'Sample' to the newly created data frame.\n",
    "    #Looking at the data, we can deduce that we can link all the entries in the MIDi file with the labels\n",
    "    #of the GROUP and SAMPLE columns in the metadata file, that have BARCODE MIDi. So, these 2 newly-added columns\n",
    "    #will have the same value for all rows of the dataframe, and these values actually correspond to the (i-1)'th row values\n",
    "    #in the metadata dataframe\n",
    "    df_MID['Group'] = df_metadata.GROUP[i-1]\n",
    "    df_MID['Sample'] = df_metadata.SAMPLE[i-1]\n",
    "\n",
    "    #Next, we set the names of the first two columns to 'Name' and 'Value' while also setting the order\n",
    "    #of the columns in the i'th dataframe (as shown below)\n",
    "    df_MID.columns = ['Name', 'Value', 'Group', 'Sample']\n",
    "\n",
    "    #Then, we replace all the \"NaN\" entries in the data frame by the label \"unknow\", as requested\n",
    "    df_MID = df_MID.fillna(\"unknown\")\n",
    "\n",
    "    #Next, we want the index of this dataframe to be unique. First, we tried the (Name, Group) pair as unique index,\n",
    "    #but it doesn't work! In fact, all the files have common names, but also some share the Group names as well,\n",
    "    #So, the next logical potentially unique index to be considered is the (Name, Group, Sample) triplet. It actually works!\n",
    "    #In fact, this can be checked in the metadata file since not one pair of MID files having the same Group label\n",
    "    #also share the Sample label => the index is then unique (will be checked below as well)\n",
    "\n",
    "    #Note: by making sure that each individual dataframe has unique index, we are also sure that the resulting \n",
    "    #aggregate dataframe (concatenation of all single dataframes) will also have a unique index\n",
    "    df_indexed = df_MID.set_index(['Name', 'Group', 'Sample'])\n",
    "\n",
    "    #Finally, we append the newly indexed dataframe to the list of dataframes\n",
    "    df_list.append(df_indexed)"
   ]
  },
  {
   "cell_type": "markdown",
   "metadata": {},
   "source": [
    "Now, we build the combined dataframe, using simple concatenation of the uniquely indexed dataframes in df_list"
   ]
  },
  {
   "cell_type": "code",
   "execution_count": 202,
   "metadata": {
    "collapsed": true
   },
   "outputs": [],
   "source": [
    "df_aggregate = df_list[0]\n",
    "for i in range(1, 9):\n",
    "    df_aggregate = pd.concat([df_aggregate, df_list[i]])"
   ]
  },
  {
   "cell_type": "markdown",
   "metadata": {},
   "source": [
    "Here, we are printing a small visual sample of the aggregate dataframe to make sure what we did is correct."
   ]
  },
  {
   "cell_type": "code",
   "execution_count": 203,
   "metadata": {},
   "outputs": [
    {
     "name": "stdout",
     "output_type": "stream",
     "text": [
      "                                                                               Value\n",
      "Name                                               Group              Sample        \n",
      "Archaea \"Crenarchaeota\" Thermoprotei Desulfuroc... EXTRACTION CONTROL unknown      7\n",
      "Archaea \"Crenarchaeota\" Thermoprotei Desulfuroc... EXTRACTION CONTROL unknown      2\n",
      "Archaea \"Crenarchaeota\" Thermoprotei Sulfolobal... EXTRACTION CONTROL unknown      3\n",
      "Archaea \"Crenarchaeota\" Thermoprotei Thermoprot... EXTRACTION CONTROL unknown      3\n",
      "Archaea \"Euryarchaeota\" \"Methanomicrobia\" Metha... EXTRACTION CONTROL unknown      7\n"
     ]
    }
   ],
   "source": [
    "print(df_aggregate.head())"
   ]
  },
  {
   "cell_type": "markdown",
   "metadata": {},
   "source": [
    "Finally, we make sure that the aggregate dataframe is uniquely indexed."
   ]
  },
  {
   "cell_type": "code",
   "execution_count": 204,
   "metadata": {},
   "outputs": [
    {
     "name": "stdout",
     "output_type": "stream",
     "text": [
      "True\n"
     ]
    }
   ],
   "source": [
    "print(df_aggregate.index.is_unique)"
   ]
  },
  {
   "cell_type": "markdown",
   "metadata": {},
   "source": [
    "## Task 3. Class War in Titanic\n",
    "\n",
    "Use pandas to import the data file `Data/titanic.xls`. It contains data on all the passengers that travelled on the Titanic."
   ]
  },
  {
   "cell_type": "code",
   "execution_count": 205,
   "metadata": {},
   "outputs": [
    {
     "data": {
      "text/html": [
       "<hr><h2>Data frame:titanic3</h2>1309 observations and 14 variables, maximum # NAs:1188<hr>\n",
       "<TABLE BORDER>\n",
       "<tr><td>Name</td><td>Labels</td><td>Units</td><td>Levels</td><td>Storage</td><td>NAs</td></tr>\n",
       "<tr><td>pclass</td><td></td><td></td><td><a href=\"#pclass\"><div align=right>  3</div></a></td><td>integer</td><td><div align=right>   0</div></td></tr>\n",
       "<tr><td>survived</td><td>Survived</td><td></td><td><div align=right></div></td><td>double</td><td><div align=right>   0</div></td></tr>\n",
       "<tr><td>name</td><td>Name</td><td></td><td><div align=right></div></td><td>character</td><td><div align=right>   0</div></td></tr>\n",
       "<tr><td>sex</td><td></td><td></td><td><a href=\"#sex\"><div align=right>  2</div></a></td><td>integer</td><td><div align=right>   0</div></td></tr>\n",
       "<tr><td>age</td><td>Age</td><td>Year</td><td><div align=right></div></td><td>double</td><td><div align=right> 263</div></td></tr>\n",
       "<tr><td>sibsp</td><td>Number of Siblings/Spouses Aboard</td><td></td><td><div align=right></div></td><td>double</td><td><div align=right>   0</div></td></tr>\n",
       "<tr><td>parch</td><td>Number of Parents/Children Aboard</td><td></td><td><div align=right></div></td><td>double</td><td><div align=right>   0</div></td></tr>\n",
       "<tr><td>ticket</td><td>Ticket Number</td><td></td><td><div align=right></div></td><td>character</td><td><div align=right>   0</div></td></tr>\n",
       "<tr><td>fare</td><td>Passenger Fare</td><td>British Pound (\\243)</td><td><div align=right></div></td><td>double</td><td><div align=right>   1</div></td></tr>\n",
       "<tr><td>cabin</td><td></td><td></td><td><a href=\"#cabin\"><div align=right>187</div></a></td><td>integer</td><td><div align=right>   0</div></td></tr>\n",
       "<tr><td>embarked</td><td></td><td></td><td><a href=\"#embarked\"><div align=right>  3</div></a></td><td>integer</td><td><div align=right>   2</div></td></tr>\n",
       "<tr><td>boat</td><td></td><td></td><td><a href=\"#boat\"><div align=right> 28</div></a></td><td>integer</td><td><div align=right>   0</div></td></tr>\n",
       "<tr><td>body</td><td>Body Identification Number</td><td></td><td><div align=right></div></td><td>double</td><td><div align=right>1188</div></td></tr>\n",
       "<tr><td>home.dest</td><td>Home/Destination</td><td></td><td><div align=right></div></td><td>character</td><td><div align=right>   0</div></td></tr>\n",
       "</TABLE>\n",
       "<hr>\n",
       "<TABLE BORDER>\n",
       "<tr><td>Variable</td><td>Levels</td></tr>\n",
       "<tr><td><a name=\"pclass\">pclass</a></td><td>1st</td></tr>\n",
       "<tr><td></td><td>2nd</td></tr>\n",
       "<tr><td></td><td>3rd</td></tr>\n",
       "<tr><td><a name=\"sex\">sex</a></td><td>female</td></tr>\n",
       "<tr><td></td><td>male</td></tr>\n",
       "<tr><td><a name=\"cabin\">cabin</a></td><td></td></tr>\n",
       "<tr><td></td><td>A10</td></tr>\n",
       "<tr><td></td><td>A11</td></tr>\n",
       "<tr><td></td><td>A14</td></tr>\n",
       "<tr><td></td><td>A16</td></tr>\n",
       "<tr><td></td><td>A18</td></tr>\n",
       "<tr><td></td><td>A19</td></tr>\n",
       "<tr><td></td><td>A20</td></tr>\n",
       "<tr><td></td><td>A21</td></tr>\n",
       "<tr><td></td><td>A23</td></tr>\n",
       "<tr><td></td><td>A24</td></tr>\n",
       "<tr><td></td><td>A26</td></tr>\n",
       "<tr><td></td><td>A29</td></tr>\n",
       "<tr><td></td><td>A31</td></tr>\n",
       "<tr><td></td><td>A32</td></tr>\n",
       "<tr><td></td><td>A34</td></tr>\n",
       "<tr><td></td><td>A36</td></tr>\n",
       "<tr><td></td><td>A5</td></tr>\n",
       "<tr><td></td><td>A6</td></tr>\n",
       "<tr><td></td><td>A7</td></tr>\n",
       "<tr><td></td><td>A9</td></tr>\n",
       "<tr><td></td><td>B10</td></tr>\n",
       "<tr><td></td><td>B101</td></tr>\n",
       "<tr><td></td><td>B102</td></tr>\n",
       "<tr><td></td><td>B11</td></tr>\n",
       "<tr><td></td><td>B18</td></tr>\n",
       "<tr><td></td><td>B19</td></tr>\n",
       "<tr><td></td><td>B20</td></tr>\n",
       "<tr><td></td><td>B22</td></tr>\n",
       "<tr><td></td><td>B24</td></tr>\n",
       "<tr><td></td><td>B26</td></tr>\n",
       "<tr><td></td><td>B28</td></tr>\n",
       "<tr><td></td><td>B3</td></tr>\n",
       "<tr><td></td><td>B30</td></tr>\n",
       "<tr><td></td><td>B35</td></tr>\n",
       "<tr><td></td><td>B36</td></tr>\n",
       "<tr><td></td><td>B37</td></tr>\n",
       "<tr><td></td><td>B38</td></tr>\n",
       "<tr><td></td><td>B39</td></tr>\n",
       "<tr><td></td><td>B4</td></tr>\n",
       "<tr><td></td><td>B41</td></tr>\n",
       "<tr><td></td><td>B42</td></tr>\n",
       "<tr><td></td><td>B45</td></tr>\n",
       "<tr><td></td><td>B49</td></tr>\n",
       "<tr><td></td><td>B5</td></tr>\n",
       "<tr><td></td><td>B50</td></tr>\n",
       "<tr><td></td><td>B51 B53 B55</td></tr>\n",
       "<tr><td></td><td>B52 B54 B56</td></tr>\n",
       "<tr><td></td><td>B57 B59 B63 B66</td></tr>\n",
       "<tr><td></td><td>B58 B60</td></tr>\n",
       "<tr><td></td><td>B61</td></tr>\n",
       "<tr><td></td><td>B69</td></tr>\n",
       "<tr><td></td><td>B71</td></tr>\n",
       "<tr><td></td><td>B73</td></tr>\n",
       "<tr><td></td><td>B77</td></tr>\n",
       "<tr><td></td><td>B78</td></tr>\n",
       "<tr><td></td><td>B79</td></tr>\n",
       "<tr><td></td><td>B80</td></tr>\n",
       "<tr><td></td><td>B82 B84</td></tr>\n",
       "<tr><td></td><td>B86</td></tr>\n",
       "<tr><td></td><td>B94</td></tr>\n",
       "<tr><td></td><td>B96 B98</td></tr>\n",
       "<tr><td></td><td>C101</td></tr>\n",
       "<tr><td></td><td>C103</td></tr>\n",
       "<tr><td></td><td>C104</td></tr>\n",
       "<tr><td></td><td>C105</td></tr>\n",
       "<tr><td></td><td>C106</td></tr>\n",
       "<tr><td></td><td>C110</td></tr>\n",
       "<tr><td></td><td>C111</td></tr>\n",
       "<tr><td></td><td>C116</td></tr>\n",
       "<tr><td></td><td>C118</td></tr>\n",
       "<tr><td></td><td>C123</td></tr>\n",
       "<tr><td></td><td>C124</td></tr>\n",
       "<tr><td></td><td>C125</td></tr>\n",
       "<tr><td></td><td>C126</td></tr>\n",
       "<tr><td></td><td>C128</td></tr>\n",
       "<tr><td></td><td>C130</td></tr>\n",
       "<tr><td></td><td>C132</td></tr>\n",
       "<tr><td></td><td>C148</td></tr>\n",
       "<tr><td></td><td>C2</td></tr>\n",
       "<tr><td></td><td>C22 C26</td></tr>\n",
       "<tr><td></td><td>C23 C25 C27</td></tr>\n",
       "<tr><td></td><td>C28</td></tr>\n",
       "<tr><td></td><td>C30</td></tr>\n",
       "<tr><td></td><td>C31</td></tr>\n",
       "<tr><td></td><td>C32</td></tr>\n",
       "<tr><td></td><td>C39</td></tr>\n",
       "<tr><td></td><td>C45</td></tr>\n",
       "<tr><td></td><td>C46</td></tr>\n",
       "<tr><td></td><td>C47</td></tr>\n",
       "<tr><td></td><td>C49</td></tr>\n",
       "<tr><td></td><td>C50</td></tr>\n",
       "<tr><td></td><td>C51</td></tr>\n",
       "<tr><td></td><td>C52</td></tr>\n",
       "<tr><td></td><td>C53</td></tr>\n",
       "<tr><td></td><td>C54</td></tr>\n",
       "<tr><td></td><td>C55 C57</td></tr>\n",
       "<tr><td></td><td>C6</td></tr>\n",
       "<tr><td></td><td>C62 C64</td></tr>\n",
       "<tr><td></td><td>C65</td></tr>\n",
       "<tr><td></td><td>C68</td></tr>\n",
       "<tr><td></td><td>C7</td></tr>\n",
       "<tr><td></td><td>C70</td></tr>\n",
       "<tr><td></td><td>C78</td></tr>\n",
       "<tr><td></td><td>C80</td></tr>\n",
       "<tr><td></td><td>C82</td></tr>\n",
       "<tr><td></td><td>C83</td></tr>\n",
       "<tr><td></td><td>C85</td></tr>\n",
       "<tr><td></td><td>C86</td></tr>\n",
       "<tr><td></td><td>C87</td></tr>\n",
       "<tr><td></td><td>C89</td></tr>\n",
       "<tr><td></td><td>C90</td></tr>\n",
       "<tr><td></td><td>C91</td></tr>\n",
       "<tr><td></td><td>C92</td></tr>\n",
       "<tr><td></td><td>C93</td></tr>\n",
       "<tr><td></td><td>C95</td></tr>\n",
       "<tr><td></td><td>C97</td></tr>\n",
       "<tr><td></td><td>C99</td></tr>\n",
       "<tr><td></td><td>D</td></tr>\n",
       "<tr><td></td><td>D10 D12</td></tr>\n",
       "<tr><td></td><td>D11</td></tr>\n",
       "<tr><td></td><td>D15</td></tr>\n",
       "<tr><td></td><td>D17</td></tr>\n",
       "<tr><td></td><td>D19</td></tr>\n",
       "<tr><td></td><td>D20</td></tr>\n",
       "<tr><td></td><td>D21</td></tr>\n",
       "<tr><td></td><td>D22</td></tr>\n",
       "<tr><td></td><td>D26</td></tr>\n",
       "<tr><td></td><td>D28</td></tr>\n",
       "<tr><td></td><td>D30</td></tr>\n",
       "<tr><td></td><td>D33</td></tr>\n",
       "<tr><td></td><td>D34</td></tr>\n",
       "<tr><td></td><td>D35</td></tr>\n",
       "<tr><td></td><td>D36</td></tr>\n",
       "<tr><td></td><td>D37</td></tr>\n",
       "<tr><td></td><td>D38</td></tr>\n",
       "<tr><td></td><td>D40</td></tr>\n",
       "<tr><td></td><td>D43</td></tr>\n",
       "<tr><td></td><td>D45</td></tr>\n",
       "<tr><td></td><td>D46</td></tr>\n",
       "<tr><td></td><td>D47</td></tr>\n",
       "<tr><td></td><td>D48</td></tr>\n",
       "<tr><td></td><td>D49</td></tr>\n",
       "<tr><td></td><td>D50</td></tr>\n",
       "<tr><td></td><td>D56</td></tr>\n",
       "<tr><td></td><td>D6</td></tr>\n",
       "<tr><td></td><td>D7</td></tr>\n",
       "<tr><td></td><td>D9</td></tr>\n",
       "<tr><td></td><td>E10</td></tr>\n",
       "<tr><td></td><td>E101</td></tr>\n",
       "<tr><td></td><td>E12</td></tr>\n",
       "<tr><td></td><td>E121</td></tr>\n",
       "<tr><td></td><td>E17</td></tr>\n",
       "<tr><td></td><td>E24</td></tr>\n",
       "<tr><td></td><td>E25</td></tr>\n",
       "<tr><td></td><td>E31</td></tr>\n",
       "<tr><td></td><td>E33</td></tr>\n",
       "<tr><td></td><td>E34</td></tr>\n",
       "<tr><td></td><td>E36</td></tr>\n",
       "<tr><td></td><td>E38</td></tr>\n",
       "<tr><td></td><td>E39 E41</td></tr>\n",
       "<tr><td></td><td>E40</td></tr>\n",
       "<tr><td></td><td>E44</td></tr>\n",
       "<tr><td></td><td>E45</td></tr>\n",
       "<tr><td></td><td>E46</td></tr>\n",
       "<tr><td></td><td>E49</td></tr>\n",
       "<tr><td></td><td>E50</td></tr>\n",
       "<tr><td></td><td>E52</td></tr>\n",
       "<tr><td></td><td>E58</td></tr>\n",
       "<tr><td></td><td>E60</td></tr>\n",
       "<tr><td></td><td>E63</td></tr>\n",
       "<tr><td></td><td>E67</td></tr>\n",
       "<tr><td></td><td>E68</td></tr>\n",
       "<tr><td></td><td>E77</td></tr>\n",
       "<tr><td></td><td>E8</td></tr>\n",
       "<tr><td></td><td>F</td></tr>\n",
       "<tr><td></td><td>F E46</td></tr>\n",
       "<tr><td></td><td>F E57</td></tr>\n",
       "<tr><td></td><td>F E69</td></tr>\n",
       "<tr><td></td><td>F G63</td></tr>\n",
       "<tr><td></td><td>F G73</td></tr>\n",
       "<tr><td></td><td>F2</td></tr>\n",
       "<tr><td></td><td>F33</td></tr>\n",
       "<tr><td></td><td>F38</td></tr>\n",
       "<tr><td></td><td>F4</td></tr>\n",
       "<tr><td></td><td>G6</td></tr>\n",
       "<tr><td></td><td>T</td></tr>\n",
       "<tr><td><a name=\"embarked\">embarked</a></td><td>Cherbourg</td></tr>\n",
       "<tr><td></td><td>Queenstown</td></tr>\n",
       "<tr><td></td><td>Southampton</td></tr>\n",
       "<tr><td><a name=\"boat\">boat</a></td><td></td></tr>\n",
       "<tr><td></td><td>1</td></tr>\n",
       "<tr><td></td><td>10</td></tr>\n",
       "<tr><td></td><td>11</td></tr>\n",
       "<tr><td></td><td>12</td></tr>\n",
       "<tr><td></td><td>13</td></tr>\n",
       "<tr><td></td><td>13 15</td></tr>\n",
       "<tr><td></td><td>13 15 B</td></tr>\n",
       "<tr><td></td><td>14</td></tr>\n",
       "<tr><td></td><td>15</td></tr>\n",
       "<tr><td></td><td>15 16</td></tr>\n",
       "<tr><td></td><td>16</td></tr>\n",
       "<tr><td></td><td>2</td></tr>\n",
       "<tr><td></td><td>3</td></tr>\n",
       "<tr><td></td><td>4</td></tr>\n",
       "<tr><td></td><td>5</td></tr>\n",
       "<tr><td></td><td>5 7</td></tr>\n",
       "<tr><td></td><td>5 9</td></tr>\n",
       "<tr><td></td><td>6</td></tr>\n",
       "<tr><td></td><td>7</td></tr>\n",
       "<tr><td></td><td>8</td></tr>\n",
       "<tr><td></td><td>8 10</td></tr>\n",
       "<tr><td></td><td>9</td></tr>\n",
       "<tr><td></td><td>A</td></tr>\n",
       "<tr><td></td><td>B</td></tr>\n",
       "<tr><td></td><td>C</td></tr>\n",
       "<tr><td></td><td>C D</td></tr>\n",
       "<tr><td></td><td>D</td></tr>\n",
       "</TABLE>\n",
       "<hr>\n"
      ],
      "text/plain": [
       "<IPython.core.display.HTML object>"
      ]
     },
     "execution_count": 205,
     "metadata": {},
     "output_type": "execute_result"
    }
   ],
   "source": [
    "from IPython.core.display import HTML\n",
    "HTML(filename=DATA_FOLDER+'/titanic.html')"
   ]
  },
  {
   "cell_type": "markdown",
   "metadata": {},
   "source": [
    "For each of the following questions state clearly your assumptions and discuss your findings:\n",
    "1. Describe the *type* and the *value range* of each attribute. Indicate and transform the attributes that can be `Categorical`. \n",
    "2. Plot histograms for the *travel class*, *embarkation port*, *sex* and *age* attributes. For the latter one, use *discrete decade intervals*. \n",
    "3. Calculate the proportion of passengers by *cabin floor*. Present your results in a *pie chart*.\n",
    "4. For each *travel class*, calculate the proportion of the passengers that survived. Present your results in *pie charts*.\n",
    "5. Calculate the proportion of the passengers that survived by *travel class* and *sex*. Present your results in *a single histogram*.\n",
    "6. Create 2 equally populated *age categories* and calculate survival proportions by *age category*, *travel class* and *sex*. Present your results in a `DataFrame` with unique index."
   ]
  },
  {
   "cell_type": "markdown",
   "metadata": {},
   "source": [
    "We first import the libraries that will be used in this problem."
   ]
  },
  {
   "cell_type": "markdown",
   "metadata": {},
   "source": [
    "Now, we import the data from 'titanic.xls' to the dataframe df_titanic, and then print the head of the dataframe as a visual preview of df_titanic."
   ]
  },
  {
   "cell_type": "code",
   "execution_count": 206,
   "metadata": {},
   "outputs": [
    {
     "name": "stdout",
     "output_type": "stream",
     "text": [
      "   pclass  survived                                             name     sex  \\\n",
      "0       1         1                    Allen, Miss. Elisabeth Walton  female   \n",
      "1       1         1                   Allison, Master. Hudson Trevor    male   \n",
      "2       1         0                     Allison, Miss. Helen Loraine  female   \n",
      "3       1         0             Allison, Mr. Hudson Joshua Creighton    male   \n",
      "4       1         0  Allison, Mrs. Hudson J C (Bessie Waldo Daniels)  female   \n",
      "\n",
      "      age  sibsp  parch  ticket      fare    cabin embarked boat   body  \\\n",
      "0      29      0      0   24160  211.3375       B5        S    2    NaN   \n",
      "1  0.9167      1      2  113781  151.5500  C22 C26        S   11    NaN   \n",
      "2       2      1      2  113781  151.5500  C22 C26        S  NaN    NaN   \n",
      "3      30      1      2  113781  151.5500  C22 C26        S  NaN  135.0   \n",
      "4      25      1      2  113781  151.5500  C22 C26        S  NaN    NaN   \n",
      "\n",
      "                         home.dest  \n",
      "0                     St Louis, MO  \n",
      "1  Montreal, PQ / Chesterville, ON  \n",
      "2  Montreal, PQ / Chesterville, ON  \n",
      "3  Montreal, PQ / Chesterville, ON  \n",
      "4  Montreal, PQ / Chesterville, ON  \n"
     ]
    }
   ],
   "source": [
    "df_titanic = pd.read_excel(DATA_FOLDER + \"/titanic.xls\", converters={'pclass': np.int, 'survived': np.int, 'age': np.float})\n",
    "print(df_titanic.head())"
   ]
  },
  {
   "cell_type": "markdown",
   "metadata": {},
   "source": [
    "# Answers"
   ]
  },
  {
   "cell_type": "markdown",
   "metadata": {},
   "source": [
    "### 1)\n",
    "\n",
    "For every attribute present in the data file, we will describe it in terms of type and value range, and then discuss the possibility of making it a categorical attribute."
   ]
  },
  {
   "cell_type": "markdown",
   "metadata": {},
   "source": [
    "pclass: \n",
    "- meaning: class of passenger\n",
    "- type: int64\n",
    "- values: 1, 2 and 3\n",
    "- range: (1, 3)\n",
    "- categorical: Yes, because it takes only 3 values: 1, 2 and 3"
   ]
  },
  {
   "cell_type": "code",
   "execution_count": 207,
   "metadata": {},
   "outputs": [
    {
     "name": "stdout",
     "output_type": "stream",
     "text": [
      "count    1309.000000\n",
      "mean        2.294882\n",
      "std         0.837836\n",
      "min         1.000000\n",
      "25%         2.000000\n",
      "50%         3.000000\n",
      "75%         3.000000\n",
      "max         3.000000\n",
      "Name: pclass, dtype: float64\n"
     ]
    }
   ],
   "source": [
    "pclass = df_titanic['pclass']\n",
    "print(pclass.describe())\n",
    "df_titanic['pclass'] = df_titanic.pclass.astype('category')"
   ]
  },
  {
   "cell_type": "markdown",
   "metadata": {},
   "source": [
    "survived: \n",
    "- meaning: did the passenger survive?\n",
    "- type: int64\n",
    "- values: 0 and 1\n",
    "- range: (0, 1)\n",
    "- categorical: Yes, because it takes only 2 values: 0 and 1"
   ]
  },
  {
   "cell_type": "code",
   "execution_count": 208,
   "metadata": {},
   "outputs": [
    {
     "name": "stdout",
     "output_type": "stream",
     "text": [
      "count    1309.000000\n",
      "mean        0.381971\n",
      "std         0.486055\n",
      "min         0.000000\n",
      "25%         0.000000\n",
      "50%         0.000000\n",
      "75%         1.000000\n",
      "max         1.000000\n",
      "Name: survived, dtype: float64\n"
     ]
    }
   ],
   "source": [
    "survived = df_titanic['survived']\n",
    "print(survived.describe())\n",
    "df_titanic['survived'] = df_titanic.survived.astype('category')"
   ]
  },
  {
   "cell_type": "markdown",
   "metadata": {},
   "source": [
    "sex: \n",
    "- meaning: gender of passenger\n",
    "- type: object\n",
    "- values_range: male and female\n",
    "- categorical: Yes, because it takes only 2 values: male and female"
   ]
  },
  {
   "cell_type": "code",
   "execution_count": 209,
   "metadata": {
    "scrolled": true
   },
   "outputs": [
    {
     "name": "stdout",
     "output_type": "stream",
     "text": [
      "count     1309\n",
      "unique       2\n",
      "top       male\n",
      "freq       843\n",
      "Name: sex, dtype: object\n"
     ]
    }
   ],
   "source": [
    "sex = df_titanic['sex']\n",
    "print(sex.describe())\n",
    "df_titanic['sex'] = df_titanic.sex.astype('category')"
   ]
  },
  {
   "cell_type": "markdown",
   "metadata": {},
   "source": [
    "cabin: \n",
    "- meaning: cabin of passenger\n",
    "- type: object\n",
    "- number of values: a lot (187)\n",
    "- categorical: theoretically Yes, because the cabin attribute has a finite number of discrete values => can be categorical. However, there are a lot of sub-categories (187, so maybe not worth it in our problem) and these sub-categories are not perfectly defined because some of them are a combination of several cabin numbers, and not just one (but at least the sub-categories are disjoint => could be categorical).\n",
    "\n",
    "Note: maybe a better categorical attribute would be the cabin floor (not present in data) instead of the cabin attribute itself: it has less values and the sub-categories can be well defined (take the leftmost character of every cabin entry as the cabin floor of that entry)"
   ]
  },
  {
   "cell_type": "code",
   "execution_count": 210,
   "metadata": {},
   "outputs": [
    {
     "name": "stdout",
     "output_type": "stream",
     "text": [
      "count             295\n",
      "unique            186\n",
      "top       C23 C25 C27\n",
      "freq                6\n",
      "Name: cabin, dtype: object\n"
     ]
    }
   ],
   "source": [
    "cabin = df_titanic['cabin']\n",
    "print(cabin.describe())\n",
    "#df_titanic['cabin'] = df_titanic.cabin.astype('category')"
   ]
  },
  {
   "cell_type": "markdown",
   "metadata": {},
   "source": [
    "embarked: \n",
    "- meaning: the port at which the passenger embarked\n",
    "- type: object\n",
    "- values_range: C, Q and S\n",
    "- categorical: Yes, because it takes only 3 values: C, Q and S"
   ]
  },
  {
   "cell_type": "code",
   "execution_count": 211,
   "metadata": {},
   "outputs": [
    {
     "name": "stdout",
     "output_type": "stream",
     "text": [
      "count     1307\n",
      "unique       3\n",
      "top          S\n",
      "freq       914\n",
      "Name: embarked, dtype: object\n"
     ]
    }
   ],
   "source": [
    "embarked = df_titanic['embarked']\n",
    "print(embarked.describe())\n",
    "df_titanic['embarked'] = df_titanic.embarked.astype('category')"
   ]
  },
  {
   "cell_type": "markdown",
   "metadata": {},
   "source": [
    "boat: \n",
    "- meaning: boat the passenger took\n",
    "- type: object\n",
    "- number of values: 28 (quite a few)\n",
    "- categorical: No, there are quite a few sub-categories (28, so maybe not worth it in our problem) and these sub-categories are not well defined because some of them are a combination of several boat numers, and not just one (so the sub-categories would not be disjoint => does not make much sense). e.g: 13, (13, 15), and (13, 15, B) are all subcategories."
   ]
  },
  {
   "cell_type": "code",
   "execution_count": 212,
   "metadata": {},
   "outputs": [
    {
     "name": "stdout",
     "output_type": "stream",
     "text": [
      "count     486\n",
      "unique     28\n",
      "top        13\n",
      "freq       39\n",
      "Name: boat, dtype: object\n"
     ]
    }
   ],
   "source": [
    "boat = df_titanic['boat']\n",
    "print(boat.describe())"
   ]
  },
  {
   "cell_type": "markdown",
   "metadata": {},
   "source": [
    "Name: \n",
    "- meaning: name of the passenger\n",
    "- type: object\n",
    "- number of values: 1307 distinct names out of 1309 passengers\n",
    "- categorical: No, a person's name cannot be a categorical feature, it has way many possibilities with very few repetitions"
   ]
  },
  {
   "cell_type": "code",
   "execution_count": 213,
   "metadata": {},
   "outputs": [
    {
     "name": "stdout",
     "output_type": "stream",
     "text": [
      "count                     1309\n",
      "unique                    1307\n",
      "top       Connolly, Miss. Kate\n",
      "freq                         2\n",
      "Name: name, dtype: object\n"
     ]
    }
   ],
   "source": [
    "name = df_titanic['name']\n",
    "print(name.describe())"
   ]
  },
  {
   "cell_type": "markdown",
   "metadata": {},
   "source": [
    "Age: \n",
    "- meaning: age of the passenger\n",
    "- type: float64\n",
    "- number of values: 98 distinct values\n",
    "- categorical: No, a person's age cannot be a categorical feature, it has a wide range of values (age is a numerical feature) and a lot of age entries are missing\n",
    "- We count 263 missing values, that we will not consider in our plots"
   ]
  },
  {
   "cell_type": "code",
   "execution_count": 214,
   "metadata": {},
   "outputs": [
    {
     "name": "stdout",
     "output_type": "stream",
     "text": [
      "count     1046.0\n",
      "unique      98.0\n",
      "top         24.0\n",
      "freq        47.0\n",
      "Name: age, dtype: float64\n"
     ]
    }
   ],
   "source": [
    "age = df_titanic['age']\n",
    "print(age.describe())"
   ]
  },
  {
   "cell_type": "markdown",
   "metadata": {},
   "source": [
    "sibsp: \n",
    "- meaning: number of Siblings/Spouses Aboard\n",
    "- type: float64\n",
    "- number of values: 7 distinct values\n",
    "- categorical: No, it is a numerical feature (it could be categorized given the small range of distinct values it can take, but it doesn't make much sense for this attribute to be categorical)"
   ]
  },
  {
   "cell_type": "code",
   "execution_count": 215,
   "metadata": {},
   "outputs": [
    {
     "name": "stdout",
     "output_type": "stream",
     "text": [
      "count    1309.000000\n",
      "mean        0.498854\n",
      "std         1.041658\n",
      "min         0.000000\n",
      "25%         0.000000\n",
      "50%         0.000000\n",
      "75%         1.000000\n",
      "max         8.000000\n",
      "Name: sibsp, dtype: float64\n"
     ]
    },
    {
     "data": {
      "text/plain": [
       "0    891\n",
       "1    319\n",
       "2     42\n",
       "4     22\n",
       "3     20\n",
       "8      9\n",
       "5      6\n",
       "Name: sibsp, dtype: int64"
      ]
     },
     "execution_count": 215,
     "metadata": {},
     "output_type": "execute_result"
    }
   ],
   "source": [
    "sibsp = df_titanic['sibsp']\n",
    "print(sibsp.describe())\n",
    "sibsp.value_counts()"
   ]
  },
  {
   "cell_type": "markdown",
   "metadata": {},
   "source": [
    "parch: \n",
    "- meaning: number of Parents/Children Aboard\n",
    "- type: float64\n",
    "- number of values: 8 distinct values\n",
    "- categorical: No, it is a numerical feature (it could be categorized given the small range of distinct values it can take, but it doesn't make much sense for this attribute to be categorical)"
   ]
  },
  {
   "cell_type": "code",
   "execution_count": 216,
   "metadata": {},
   "outputs": [
    {
     "name": "stdout",
     "output_type": "stream",
     "text": [
      "count    1309.000000\n",
      "mean        0.385027\n",
      "std         0.865560\n",
      "min         0.000000\n",
      "25%         0.000000\n",
      "50%         0.000000\n",
      "75%         0.000000\n",
      "max         9.000000\n",
      "Name: parch, dtype: float64\n"
     ]
    },
    {
     "data": {
      "text/plain": [
       "0    1002\n",
       "1     170\n",
       "2     113\n",
       "3       8\n",
       "5       6\n",
       "4       6\n",
       "9       2\n",
       "6       2\n",
       "Name: parch, dtype: int64"
      ]
     },
     "execution_count": 216,
     "metadata": {},
     "output_type": "execute_result"
    }
   ],
   "source": [
    "parch = df_titanic['parch']\n",
    "print(parch.describe())\n",
    "parch.value_counts()"
   ]
  },
  {
   "cell_type": "markdown",
   "metadata": {},
   "source": [
    "ticket: \n",
    "- meaning: ticket number of passenger\n",
    "- type: object\n",
    "- number of values: 939 distinct values\n",
    "- categorical: No, it is a feature that could be numerical, alphabetical or both! Too many possibilites (939 unique values)"
   ]
  },
  {
   "cell_type": "code",
   "execution_count": 217,
   "metadata": {},
   "outputs": [
    {
     "name": "stdout",
     "output_type": "stream",
     "text": [
      "count         1309\n",
      "unique         939\n",
      "top       CA. 2343\n",
      "freq            11\n",
      "Name: ticket, dtype: object\n"
     ]
    }
   ],
   "source": [
    "ticket = df_titanic['ticket']\n",
    "print(ticket.describe())\n",
    "#ticket.value_counts()"
   ]
  },
  {
   "cell_type": "markdown",
   "metadata": {},
   "source": [
    "fare: \n",
    "- meaning: fare of passenger\n",
    "- type: float64\n",
    "- number of values: 281 distinct values\n",
    "- categorical: No, it is a numerical feature with a wide range of values (281)"
   ]
  },
  {
   "cell_type": "code",
   "execution_count": 218,
   "metadata": {},
   "outputs": [
    {
     "name": "stdout",
     "output_type": "stream",
     "text": [
      "count    1308.000000\n",
      "mean       33.295479\n",
      "std        51.758668\n",
      "min         0.000000\n",
      "25%         7.895800\n",
      "50%        14.454200\n",
      "75%        31.275000\n",
      "max       512.329200\n",
      "Name: fare, dtype: float64\n"
     ]
    }
   ],
   "source": [
    "fare = df_titanic['fare']\n",
    "print(fare.describe())\n",
    "#fare.value_counts()"
   ]
  },
  {
   "cell_type": "markdown",
   "metadata": {},
   "source": [
    "body: \n",
    "- meaning: body identification number\n",
    "- type: float64\n",
    "- number of values: 121 distinct values (for 121 persons), so it has non-repeating values\n",
    "- categorical: No, it is a non-repeating numerical feature with a wide range of values (121)"
   ]
  },
  {
   "cell_type": "code",
   "execution_count": 219,
   "metadata": {},
   "outputs": [
    {
     "name": "stdout",
     "output_type": "stream",
     "text": [
      "count    121.000000\n",
      "mean     160.809917\n",
      "std       97.696922\n",
      "min        1.000000\n",
      "25%       72.000000\n",
      "50%      155.000000\n",
      "75%      256.000000\n",
      "max      328.000000\n",
      "Name: body, dtype: float64\n"
     ]
    }
   ],
   "source": [
    "body = df_titanic['body']\n",
    "print(body.describe())\n",
    "#body.value_counts()"
   ]
  },
  {
   "cell_type": "code",
   "execution_count": null,
   "metadata": {
    "collapsed": true
   },
   "outputs": [],
   "source": []
  },
  {
   "cell_type": "markdown",
   "metadata": {},
   "source": [
    "home.dest: \n",
    "- meaning: home/destination of passenger\n",
    "- type: object\n",
    "- number of values: 369 distinct values\n",
    "- categorical: No, it is a pair of strings with a wide range spanning 369 values (it could be theoretically categorical since it not numerical but it doesn't make much sense for this attribute to be categorical given the 369 unique values it can take)"
   ]
  },
  {
   "cell_type": "code",
   "execution_count": 220,
   "metadata": {},
   "outputs": [
    {
     "name": "stdout",
     "output_type": "stream",
     "text": [
      "count              745\n",
      "unique             369\n",
      "top       New York, NY\n",
      "freq                64\n",
      "Name: home.dest, dtype: object\n"
     ]
    }
   ],
   "source": [
    "home_dest = df_titanic['home.dest']\n",
    "print(home_dest.describe())\n",
    "#home_dest.value_counts()"
   ]
  },
  {
   "cell_type": "markdown",
   "metadata": {},
   "source": [
    "We finally print again the head of the dataframe as a visual preview of df_titanic, after having made some attributes categorical."
   ]
  },
  {
   "cell_type": "code",
   "execution_count": 221,
   "metadata": {},
   "outputs": [
    {
     "data": {
      "text/html": [
       "<div>\n",
       "<style>\n",
       "    .dataframe thead tr:only-child th {\n",
       "        text-align: right;\n",
       "    }\n",
       "\n",
       "    .dataframe thead th {\n",
       "        text-align: left;\n",
       "    }\n",
       "\n",
       "    .dataframe tbody tr th {\n",
       "        vertical-align: top;\n",
       "    }\n",
       "</style>\n",
       "<table border=\"1\" class=\"dataframe\">\n",
       "  <thead>\n",
       "    <tr style=\"text-align: right;\">\n",
       "      <th></th>\n",
       "      <th>pclass</th>\n",
       "      <th>survived</th>\n",
       "      <th>name</th>\n",
       "      <th>sex</th>\n",
       "      <th>age</th>\n",
       "      <th>sibsp</th>\n",
       "      <th>parch</th>\n",
       "      <th>ticket</th>\n",
       "      <th>fare</th>\n",
       "      <th>cabin</th>\n",
       "      <th>embarked</th>\n",
       "      <th>boat</th>\n",
       "      <th>body</th>\n",
       "      <th>home.dest</th>\n",
       "    </tr>\n",
       "  </thead>\n",
       "  <tbody>\n",
       "    <tr>\n",
       "      <th>0</th>\n",
       "      <td>1</td>\n",
       "      <td>1</td>\n",
       "      <td>Allen, Miss. Elisabeth Walton</td>\n",
       "      <td>female</td>\n",
       "      <td>29</td>\n",
       "      <td>0</td>\n",
       "      <td>0</td>\n",
       "      <td>24160</td>\n",
       "      <td>211.3375</td>\n",
       "      <td>B5</td>\n",
       "      <td>S</td>\n",
       "      <td>2</td>\n",
       "      <td>NaN</td>\n",
       "      <td>St Louis, MO</td>\n",
       "    </tr>\n",
       "    <tr>\n",
       "      <th>1</th>\n",
       "      <td>1</td>\n",
       "      <td>1</td>\n",
       "      <td>Allison, Master. Hudson Trevor</td>\n",
       "      <td>male</td>\n",
       "      <td>0.9167</td>\n",
       "      <td>1</td>\n",
       "      <td>2</td>\n",
       "      <td>113781</td>\n",
       "      <td>151.5500</td>\n",
       "      <td>C22 C26</td>\n",
       "      <td>S</td>\n",
       "      <td>11</td>\n",
       "      <td>NaN</td>\n",
       "      <td>Montreal, PQ / Chesterville, ON</td>\n",
       "    </tr>\n",
       "    <tr>\n",
       "      <th>2</th>\n",
       "      <td>1</td>\n",
       "      <td>0</td>\n",
       "      <td>Allison, Miss. Helen Loraine</td>\n",
       "      <td>female</td>\n",
       "      <td>2</td>\n",
       "      <td>1</td>\n",
       "      <td>2</td>\n",
       "      <td>113781</td>\n",
       "      <td>151.5500</td>\n",
       "      <td>C22 C26</td>\n",
       "      <td>S</td>\n",
       "      <td>NaN</td>\n",
       "      <td>NaN</td>\n",
       "      <td>Montreal, PQ / Chesterville, ON</td>\n",
       "    </tr>\n",
       "    <tr>\n",
       "      <th>3</th>\n",
       "      <td>1</td>\n",
       "      <td>0</td>\n",
       "      <td>Allison, Mr. Hudson Joshua Creighton</td>\n",
       "      <td>male</td>\n",
       "      <td>30</td>\n",
       "      <td>1</td>\n",
       "      <td>2</td>\n",
       "      <td>113781</td>\n",
       "      <td>151.5500</td>\n",
       "      <td>C22 C26</td>\n",
       "      <td>S</td>\n",
       "      <td>NaN</td>\n",
       "      <td>135.0</td>\n",
       "      <td>Montreal, PQ / Chesterville, ON</td>\n",
       "    </tr>\n",
       "    <tr>\n",
       "      <th>4</th>\n",
       "      <td>1</td>\n",
       "      <td>0</td>\n",
       "      <td>Allison, Mrs. Hudson J C (Bessie Waldo Daniels)</td>\n",
       "      <td>female</td>\n",
       "      <td>25</td>\n",
       "      <td>1</td>\n",
       "      <td>2</td>\n",
       "      <td>113781</td>\n",
       "      <td>151.5500</td>\n",
       "      <td>C22 C26</td>\n",
       "      <td>S</td>\n",
       "      <td>NaN</td>\n",
       "      <td>NaN</td>\n",
       "      <td>Montreal, PQ / Chesterville, ON</td>\n",
       "    </tr>\n",
       "  </tbody>\n",
       "</table>\n",
       "</div>"
      ],
      "text/plain": [
       "  pclass survived                                             name     sex  \\\n",
       "0      1        1                    Allen, Miss. Elisabeth Walton  female   \n",
       "1      1        1                   Allison, Master. Hudson Trevor    male   \n",
       "2      1        0                     Allison, Miss. Helen Loraine  female   \n",
       "3      1        0             Allison, Mr. Hudson Joshua Creighton    male   \n",
       "4      1        0  Allison, Mrs. Hudson J C (Bessie Waldo Daniels)  female   \n",
       "\n",
       "      age  sibsp  parch  ticket      fare    cabin embarked boat   body  \\\n",
       "0      29      0      0   24160  211.3375       B5        S    2    NaN   \n",
       "1  0.9167      1      2  113781  151.5500  C22 C26        S   11    NaN   \n",
       "2       2      1      2  113781  151.5500  C22 C26        S  NaN    NaN   \n",
       "3      30      1      2  113781  151.5500  C22 C26        S  NaN  135.0   \n",
       "4      25      1      2  113781  151.5500  C22 C26        S  NaN    NaN   \n",
       "\n",
       "                         home.dest  \n",
       "0                     St Louis, MO  \n",
       "1  Montreal, PQ / Chesterville, ON  \n",
       "2  Montreal, PQ / Chesterville, ON  \n",
       "3  Montreal, PQ / Chesterville, ON  \n",
       "4  Montreal, PQ / Chesterville, ON  "
      ]
     },
     "execution_count": 221,
     "metadata": {},
     "output_type": "execute_result"
    }
   ],
   "source": [
    "df_titanic.head()"
   ]
  },
  {
   "cell_type": "markdown",
   "metadata": {},
   "source": [
    "### 2)"
   ]
  },
  {
   "cell_type": "markdown",
   "metadata": {},
   "source": [
    "#### Age:\n",
    "For age, we use discrete decade intervals. But first, we have to get the min age and max age so that we know how to construct these intervals."
   ]
  },
  {
   "cell_type": "code",
   "execution_count": 222,
   "metadata": {},
   "outputs": [
    {
     "name": "stdout",
     "output_type": "stream",
     "text": [
      "0.1667\n",
      "80.0\n"
     ]
    }
   ],
   "source": [
    "print(age.min())\n",
    "print(age.max())"
   ]
  },
  {
   "cell_type": "markdown",
   "metadata": {},
   "source": [
    "The max age is 80 and min age is 0.1667, so it makes sense to take the discrete decade intervals in the following way:\n",
    "[0, 10, 20, 30, 40, 50, 60, 70, 80]\n",
    "\n",
    "Note: We know that the occurence of age 0.1667 is a mistake, but we will keep that value since it will not affect our answers (in particular this one and answer 6) since this value 0.1667 will be included in the intervals [0, 10] (this question) and [0, 28] (question 6) and will not be treated as an individual value."
   ]
  },
  {
   "cell_type": "code",
   "execution_count": 223,
   "metadata": {},
   "outputs": [
    {
     "data": {
      "text/plain": [
       "(20, 30]    290\n",
       "(0, 10]     220\n",
       "(10, 20]    179\n",
       "(30, 40]    159\n",
       "(40, 50]    111\n",
       "(50, 60]     59\n",
       "(60, 70]     23\n",
       "(70, 80]      5\n",
       "Name: age, dtype: int64"
      ]
     },
     "execution_count": 223,
     "metadata": {},
     "output_type": "execute_result"
    },
    {
     "data": {
      "image/png": "[encoded data removed]",
      "text/plain": [
       "<matplotlib.figure.Figure at 0x114bfdf98>"
      ]
     },
     "metadata": {},
     "output_type": "display_data"
    }
   ],
   "source": [
    "age_new = pd.cut(age, [0,10,20,30,40,50,60,70,80]) #discrete decade intervals\n",
    "#Plot histogram\n",
    "age_new.value_counts().sort_index().plot(kind='bar')\n",
    "age_new.value_counts()"
   ]
  },
  {
   "cell_type": "markdown",
   "metadata": {},
   "source": [
    "Note: There are a lot if missing values (as we previously mentioned), but they are not represented in this histogram. In fact, this histogram only shows the \"known\" ages of passengers, i.e. 1046 passengers out of 1309."
   ]
  },
  {
   "cell_type": "markdown",
   "metadata": {},
   "source": [
    "#### Sex:"
   ]
  },
  {
   "cell_type": "code",
   "execution_count": 224,
   "metadata": {},
   "outputs": [
    {
     "data": {
      "text/plain": [
       "male      843\n",
       "female    466\n",
       "Name: sex, dtype: int64"
      ]
     },
     "execution_count": 224,
     "metadata": {},
     "output_type": "execute_result"
    },
    {
     "data": {
      "image/png": "[encoded data removed]",
      "text/plain": [
       "<matplotlib.figure.Figure at 0x114f762e8>"
      ]
     },
     "metadata": {},
     "output_type": "display_data"
    }
   ],
   "source": [
    "#Plot histogram\n",
    "sex.value_counts().sort_index().plot(kind='bar')\n",
    "sex.value_counts()"
   ]
  },
  {
   "cell_type": "markdown",
   "metadata": {},
   "source": [
    "#### Travel Class:"
   ]
  },
  {
   "cell_type": "code",
   "execution_count": 225,
   "metadata": {},
   "outputs": [
    {
     "data": {
      "text/plain": [
       "3    709\n",
       "1    323\n",
       "2    277\n",
       "Name: pclass, dtype: int64"
      ]
     },
     "execution_count": 225,
     "metadata": {},
     "output_type": "execute_result"
    },
    {
     "data": {
      "image/png": "[encoded data removed]",
      "text/plain": [
       "<matplotlib.figure.Figure at 0x114c9b828>"
      ]
     },
     "metadata": {},
     "output_type": "display_data"
    }
   ],
   "source": [
    "#Plot histogram\n",
    "pclass.value_counts().sort_index().plot(kind='bar')\n",
    "pclass.value_counts()"
   ]
  },
  {
   "cell_type": "markdown",
   "metadata": {},
   "source": [
    "#### Embarkation Port:"
   ]
  },
  {
   "cell_type": "code",
   "execution_count": 226,
   "metadata": {},
   "outputs": [
    {
     "data": {
      "text/plain": [
       "S    914\n",
       "C    270\n",
       "Q    123\n",
       "Name: embarked, dtype: int64"
      ]
     },
     "execution_count": 226,
     "metadata": {},
     "output_type": "execute_result"
    },
    {
     "data": {
      "image/png": "[encoded data removed]",
      "text/plain": [
       "<matplotlib.figure.Figure at 0x11906ef60>"
      ]
     },
     "metadata": {},
     "output_type": "display_data"
    }
   ],
   "source": [
    "#Plot histogram\n",
    "embarked.value_counts().sort_index().plot(kind='bar')\n",
    "embarked.value_counts()"
   ]
  },
  {
   "cell_type": "markdown",
   "metadata": {},
   "source": [
    "### 3)"
   ]
  },
  {
   "cell_type": "markdown",
   "metadata": {},
   "source": [
    "We are required to present the proportion of passengers by cabin floor in a pie chart.\n",
    "However, we should note that there are a lot of missing values (NaN) in the 'cabin' column (we only have 295 non-missing entries out of 1309).\n",
    "\n",
    "So, to have a \"meaningful\" pie chart, we must exclude these missing entries and stick to the cabin floors that we know (i.e. not missing).\n",
    "\n",
    "Now, let us explain how to extract the floor from the data present in the 'cabin' column. In fact, after quickly scanning the data (and relying on logic), we can see that no passenger had cabins starting with different letters (i.e. not on the same floor).\n",
    "So, we considered the floor to be the first letter of whatever string sequence is present in the 'cabin' column.\n",
    "e.g. cabin A32 is on floor A.\n",
    "\n",
    "Note: There are some cabins which have two letters in their name, but we still assume that the first occuring letter is actually the cabin floor, e.g. cabin F E46 is on floor E."
   ]
  },
  {
   "cell_type": "code",
   "execution_count": 227,
   "metadata": {},
   "outputs": [
    {
     "data": {
      "text/plain": [
       "C    94\n",
       "B    65\n",
       "D    46\n",
       "E    41\n",
       "A    22\n",
       "F    21\n",
       "G     5\n",
       "T     1\n",
       "Name: cabin, dtype: int64"
      ]
     },
     "execution_count": 227,
     "metadata": {},
     "output_type": "execute_result"
    },
    {
     "data": {
      "image/png": "[encoded data removed]",
      "text/plain": [
       "<matplotlib.figure.Figure at 0x1191a6940>"
      ]
     },
     "metadata": {},
     "output_type": "display_data"
    }
   ],
   "source": [
    "#Reduce the cabin series by dropping all missing entries (NaN)\n",
    "cabin_reduce = cabin.dropna()\n",
    "#Consider (for every entry) the floor to be the first character of the string sequence present in the column 'cabin'\n",
    "cabin_floor = cabin_reduce.astype(str).str[0]\n",
    "#Plot pie chart\n",
    "cabin_floor.value_counts().plot(kind='pie', autopct='%.2f', fontsize=20, figsize=(12, 12))\n",
    "#Make sure results are correct\n",
    "cabin_floor.value_counts()"
   ]
  },
  {
   "cell_type": "markdown",
   "metadata": {},
   "source": [
    "As we have previously mentioned, this pie chart accounts only for 295 passengers (1014 missing values). Therefore, we must note that the results we got are not very meaningful and should not be considered to be representative of the overall distribution of passengers by cabin floor."
   ]
  },
  {
   "cell_type": "markdown",
   "metadata": {},
   "source": [
    "### 4)"
   ]
  },
  {
   "cell_type": "markdown",
   "metadata": {},
   "source": [
    "We are required to calculate the proportion of the passengers that survived for each travel class, and then present the results in three pie charts (one per class).\n",
    "\n",
    "So, we basically just build the series pclass1_survived, which really is just the 'survived' column of only the passengers that were in travel class 1. To do so, we used the (.loc) method (as shown below), and then plotting the results in a pie chart is straight forward.\n",
    "\n",
    "Same applies for classes 2 and 3."
   ]
  },
  {
   "cell_type": "code",
   "execution_count": 228,
   "metadata": {},
   "outputs": [
    {
     "name": "stdout",
     "output_type": "stream",
     "text": [
      "1    200\n",
      "0    123\n",
      "Name: survived, dtype: int64\n"
     ]
    },
    {
     "data": {
      "text/plain": [
       "<matplotlib.axes._subplots.AxesSubplot at 0x119262a20>"
      ]
     },
     "execution_count": 228,
     "metadata": {},
     "output_type": "execute_result"
    },
    {
     "data": {
      "image/png": "[encoded data removed]",
      "text/plain": [
       "<matplotlib.figure.Figure at 0x1192752e8>"
      ]
     },
     "metadata": {},
     "output_type": "display_data"
    }
   ],
   "source": [
    "#Consider only the passengers in class 1: we only include the 'survived' attribute of passengers in class 1,\n",
    "#and then combine them into a series called pclass1_survived\n",
    "pclass1_survived = df_titanic.loc[df_titanic['pclass'] == 1, 'survived']\n",
    "#These are the survival numbers of the passengers in class 1: 1 => has survived, 0 => has not survived\n",
    "print(pclass1_survived.value_counts())\n",
    "#Plot pie chart\n",
    "pclass1_survived.value_counts().plot(kind='pie', autopct='%.2f', fontsize=20, figsize=(6, 6))"
   ]
  },
  {
   "cell_type": "code",
   "execution_count": 229,
   "metadata": {},
   "outputs": [
    {
     "name": "stdout",
     "output_type": "stream",
     "text": [
      "0    158\n",
      "1    119\n",
      "Name: survived, dtype: int64\n"
     ]
    },
    {
     "data": {
      "text/plain": [
       "<matplotlib.axes._subplots.AxesSubplot at 0x1193b95c0>"
      ]
     },
     "execution_count": 229,
     "metadata": {},
     "output_type": "execute_result"
    },
    {
     "data": {
      "image/png": "[encoded data removed]",
      "text/plain": [
       "<matplotlib.figure.Figure at 0x114ed97f0>"
      ]
     },
     "metadata": {},
     "output_type": "display_data"
    }
   ],
   "source": [
    "#Consider only the passengers in class 2: we only include the 'survived' attribute of passengers in class 2,\n",
    "#and then combine them into a series called pclass2_survived\n",
    "pclass2_survived = df_titanic.loc[df_titanic['pclass'] == 2, 'survived']\n",
    "#These are the survival numbers of the passengers in class 2: 1 => has survived, 0 => has not survived\n",
    "print(pclass2_survived.value_counts())\n",
    "#Plot pie chart\n",
    "pclass2_survived.value_counts().plot(kind='pie', autopct='%.2f', fontsize=20, figsize=(6, 6))"
   ]
  },
  {
   "cell_type": "code",
   "execution_count": 230,
   "metadata": {},
   "outputs": [
    {
     "name": "stdout",
     "output_type": "stream",
     "text": [
      "0    528\n",
      "1    181\n",
      "Name: survived, dtype: int64\n"
     ]
    },
    {
     "data": {
      "text/plain": [
       "<matplotlib.axes._subplots.AxesSubplot at 0x11927a780>"
      ]
     },
     "execution_count": 230,
     "metadata": {},
     "output_type": "execute_result"
    },
    {
     "data": {
      "image/png": "[encoded data removed]",
      "text/plain": [
       "<matplotlib.figure.Figure at 0x119357e10>"
      ]
     },
     "metadata": {},
     "output_type": "display_data"
    }
   ],
   "source": [
    "#Consider only the passengers in class 3: we only include the 'survived' attribute of passengers in class 3,\n",
    "#and then combine them into a series called pclass3_survived\n",
    "pclass3_survived = df_titanic.loc[df_titanic['pclass'] == 3, 'survived']\n",
    "#These are the survival numbers of the passengers in class 3: 1 => has survived, 0 => has not survived\n",
    "print(pclass3_survived.value_counts())\n",
    "#Plot pie chart\n",
    "pclass3_survived.value_counts().plot(kind='pie', autopct='%.2f', fontsize=20, figsize=(6, 6))"
   ]
  },
  {
   "cell_type": "markdown",
   "metadata": {},
   "source": [
    "The three pie charts above show the strong correlation between the travel class of passengers and their survial rates. In fact, it is clear that as the travel class becomes more and more cheap and affordable, the survival rates increase (as expected). First class has the highest survival rate of 61.92% (good), but we can notice the difference with second class where the survival rate dropped to 42.96%. Finally, the third class clearly proves our previous point (strong correlation between travel class and survial rates), as the survival rate significantly drops to 25.53%, which is considered pretty low (compared to 61.92%)."
   ]
  },
  {
   "cell_type": "markdown",
   "metadata": {},
   "source": [
    "### 5)"
   ]
  },
  {
   "cell_type": "markdown",
   "metadata": {},
   "source": [
    "We are required to calculate the proportion of the passengers that survived by travel class and sex, and then present our results in a single histogram.\n",
    "\n",
    "This was very easy to do using sns.barplot(), as shown below.\n",
    "\n",
    "However, to show that the histogram displays correct values, we proceeded in the following way:\n",
    "- We created the dataframe df_titanic_survived, which has the entries of the total dataframe df_titanic that have the 'survived'attribute set to 1 (df_titanic_survived basically comprises all survivors)\n",
    "- We created a groupby object titanic_class_sex_obj, by which we group entries in the newly created dataframe df_titanic_survived by sex and travel class, as requested\n",
    "- We describe titanic_class_sex_obj['survived'] and look at the 'count' column, and check that it is consistent with the values provided in the histogram"
   ]
  },
  {
   "cell_type": "code",
   "execution_count": 231,
   "metadata": {},
   "outputs": [
    {
     "data": {
      "text/html": [
       "<div>\n",
       "<style>\n",
       "    .dataframe thead tr:only-child th {\n",
       "        text-align: right;\n",
       "    }\n",
       "\n",
       "    .dataframe thead th {\n",
       "        text-align: left;\n",
       "    }\n",
       "\n",
       "    .dataframe tbody tr th {\n",
       "        vertical-align: top;\n",
       "    }\n",
       "</style>\n",
       "<table border=\"1\" class=\"dataframe\">\n",
       "  <thead>\n",
       "    <tr style=\"text-align: right;\">\n",
       "      <th></th>\n",
       "      <th></th>\n",
       "      <th>count</th>\n",
       "      <th>unique</th>\n",
       "      <th>top</th>\n",
       "      <th>freq</th>\n",
       "    </tr>\n",
       "    <tr>\n",
       "      <th>sex</th>\n",
       "      <th>pclass</th>\n",
       "      <th></th>\n",
       "      <th></th>\n",
       "      <th></th>\n",
       "      <th></th>\n",
       "    </tr>\n",
       "  </thead>\n",
       "  <tbody>\n",
       "    <tr>\n",
       "      <th rowspan=\"3\" valign=\"top\">female</th>\n",
       "      <th>1</th>\n",
       "      <td>139</td>\n",
       "      <td>1</td>\n",
       "      <td>1</td>\n",
       "      <td>139</td>\n",
       "    </tr>\n",
       "    <tr>\n",
       "      <th>2</th>\n",
       "      <td>94</td>\n",
       "      <td>1</td>\n",
       "      <td>1</td>\n",
       "      <td>94</td>\n",
       "    </tr>\n",
       "    <tr>\n",
       "      <th>3</th>\n",
       "      <td>106</td>\n",
       "      <td>1</td>\n",
       "      <td>1</td>\n",
       "      <td>106</td>\n",
       "    </tr>\n",
       "    <tr>\n",
       "      <th rowspan=\"3\" valign=\"top\">male</th>\n",
       "      <th>1</th>\n",
       "      <td>61</td>\n",
       "      <td>1</td>\n",
       "      <td>1</td>\n",
       "      <td>61</td>\n",
       "    </tr>\n",
       "    <tr>\n",
       "      <th>2</th>\n",
       "      <td>25</td>\n",
       "      <td>1</td>\n",
       "      <td>1</td>\n",
       "      <td>25</td>\n",
       "    </tr>\n",
       "    <tr>\n",
       "      <th>3</th>\n",
       "      <td>75</td>\n",
       "      <td>1</td>\n",
       "      <td>1</td>\n",
       "      <td>75</td>\n",
       "    </tr>\n",
       "  </tbody>\n",
       "</table>\n",
       "</div>"
      ],
      "text/plain": [
       "               count  unique  top  freq\n",
       "sex    pclass                          \n",
       "female 1         139       1    1   139\n",
       "       2          94       1    1    94\n",
       "       3         106       1    1   106\n",
       "male   1          61       1    1    61\n",
       "       2          25       1    1    25\n",
       "       3          75       1    1    75"
      ]
     },
     "execution_count": 231,
     "metadata": {},
     "output_type": "execute_result"
    },
    {
     "data": {
      "image/png": "[encoded data removed]",
      "text/plain": [
       "<matplotlib.figure.Figure at 0x114f46748>"
      ]
     },
     "metadata": {},
     "output_type": "display_data"
    }
   ],
   "source": [
    "#This is a temporary dataframe that is only used to plot the histogram (and also partly in question 6).\n",
    "#The way we built the original dataframe df_titanic is not appropriate for the way we are plotting the histogram\n",
    "#(using sns.barplot())\n",
    "df_titanic_temp = pd.read_excel(DATA_FOLDER + \"/titanic.xls\")\n",
    "\n",
    "#Plot histogram\n",
    "sns.barplot(x=\"sex\", y=\"survived\", hue=\"pclass\", data=df_titanic_temp, estimator=sum, ci=None)\n",
    "\n",
    "#Make sure the results of the histogram are correct\n",
    "df_titanic_survived = df_titanic.loc[df_titanic['survived'] == 1]\n",
    "titanic_class_sex_obj = df_titanic_survived.groupby(['sex','pclass'])\n",
    "titanic_class_sex_obj['survived'].describe()"
   ]
  },
  {
   "cell_type": "markdown",
   "metadata": {},
   "source": [
    "It is clear from our results that a woman is much more likely to survive than a man, for any class."
   ]
  },
  {
   "cell_type": "markdown",
   "metadata": {},
   "source": [
    "### 6)"
   ]
  },
  {
   "cell_type": "markdown",
   "metadata": {},
   "source": [
    "We are required to create 2 (approximately) equally populated age categories and then calculate survival proportions by age category, travel class and sex. Then, we present our results in a DataFrame with unique index."
   ]
  },
  {
   "cell_type": "markdown",
   "metadata": {},
   "source": [
    "To create two equally populated age categories, it is obvious that we must look at the median value of the 'age' attribute."
   ]
  },
  {
   "cell_type": "code",
   "execution_count": 232,
   "metadata": {},
   "outputs": [
    {
     "name": "stdout",
     "output_type": "stream",
     "text": [
      "28.0\n"
     ]
    }
   ],
   "source": [
    "#Get the median\n",
    "age_median = df_titanic_temp['age'].median()\n",
    "print(age_median)\n",
    "#age.value_counts()"
   ]
  },
  {
   "cell_type": "markdown",
   "metadata": {},
   "source": [
    "If we print the age value counts, we can see that there are 32 occurences of the median in the data, i.e. 32 people had 28 years old at that time. So, it means that one of these 32 occurences is actually the median, but we don't know which one.\n",
    "Also, to get meaningful age categories, people with the same age should belong to the same category. Therefore, all these 32 occurences of the median will be included in the same category, making the two categories (that we will create) not equally populated anymore."
   ]
  },
  {
   "cell_type": "markdown",
   "metadata": {},
   "source": [
    "However, a small difference in the sizes of the age categories is acceptable (as mentioned on Mattermost). But to make sure that the categories are as much equal in size as possible, we tried including the median in category 1 (age1 <= 28 and age2 > 28) at first, and we got a difference of 26 in the sizes."
   ]
  },
  {
   "cell_type": "code",
   "execution_count": 233,
   "metadata": {},
   "outputs": [
    {
     "name": "stdout",
     "output_type": "stream",
     "text": [
      "536\n",
      "510\n"
     ]
    }
   ],
   "source": [
    "age_category1 = df_titanic_temp.loc[df_titanic_temp['age'] <= age_median, 'age']\n",
    "age_category2 = df_titanic_temp.loc[df_titanic_temp['age'] > age_median, 'age']\n",
    "print(len(age_category1))\n",
    "print(len(age_category2))"
   ]
  },
  {
   "cell_type": "markdown",
   "metadata": {},
   "source": [
    "Then, we included the median in category 2 (age1 < 28 and age2 >= 28), and we got a difference of 38 in the sizes."
   ]
  },
  {
   "cell_type": "code",
   "execution_count": 234,
   "metadata": {},
   "outputs": [
    {
     "name": "stdout",
     "output_type": "stream",
     "text": [
      "504\n",
      "542\n"
     ]
    }
   ],
   "source": [
    "age_category1 = df_titanic_temp.loc[df_titanic_temp['age'] < age_median, 'age']\n",
    "age_category2 = df_titanic_temp.loc[df_titanic_temp['age'] >= age_median, 'age']\n",
    "print(len(age_category1))\n",
    "print(len(age_category2))"
   ]
  },
  {
   "cell_type": "markdown",
   "metadata": {},
   "source": [
    "So, the first approach we took was more appropriate, and the two age categories we created were the following:\n",
    "- Category 1: age <= median (28), with a size of 536\n",
    "- Category 2: age > median (28), with a size of 510"
   ]
  },
  {
   "cell_type": "code",
   "execution_count": 235,
   "metadata": {},
   "outputs": [
    {
     "name": "stdout",
     "output_type": "stream",
     "text": [
      "category1    536\n",
      "category2    510\n",
      "Name: age, dtype: int64\n"
     ]
    }
   ],
   "source": [
    "#These are the two categories we created\n",
    "categories = pd.cut(df_titanic_temp.age, [0,age_median,80], labels=['category1','category2'])\n",
    "print(categories.value_counts())"
   ]
  },
  {
   "cell_type": "markdown",
   "metadata": {},
   "source": [
    "We now populate the values of 'age' column of df_titanic with these newly created categories, depending on the age value. Then, we print the head of df_titanic dataframe, to show how the 'age' attribute got populated with the category1 and category2 labels.\n",
    "\n",
    "Note: The previously missing values are still considered missing (NaN), and we did not give them any of the two labels category1 or category2 (as expected). "
   ]
  },
  {
   "cell_type": "code",
   "execution_count": 236,
   "metadata": {},
   "outputs": [
    {
     "data": {
      "text/html": [
       "<div>\n",
       "<style>\n",
       "    .dataframe thead tr:only-child th {\n",
       "        text-align: right;\n",
       "    }\n",
       "\n",
       "    .dataframe thead th {\n",
       "        text-align: left;\n",
       "    }\n",
       "\n",
       "    .dataframe tbody tr th {\n",
       "        vertical-align: top;\n",
       "    }\n",
       "</style>\n",
       "<table border=\"1\" class=\"dataframe\">\n",
       "  <thead>\n",
       "    <tr style=\"text-align: right;\">\n",
       "      <th></th>\n",
       "      <th>pclass</th>\n",
       "      <th>survived</th>\n",
       "      <th>name</th>\n",
       "      <th>sex</th>\n",
       "      <th>age</th>\n",
       "      <th>sibsp</th>\n",
       "      <th>parch</th>\n",
       "      <th>ticket</th>\n",
       "      <th>fare</th>\n",
       "      <th>cabin</th>\n",
       "      <th>embarked</th>\n",
       "      <th>boat</th>\n",
       "      <th>body</th>\n",
       "      <th>home.dest</th>\n",
       "    </tr>\n",
       "  </thead>\n",
       "  <tbody>\n",
       "    <tr>\n",
       "      <th>0</th>\n",
       "      <td>1</td>\n",
       "      <td>1</td>\n",
       "      <td>Allen, Miss. Elisabeth Walton</td>\n",
       "      <td>female</td>\n",
       "      <td>category2</td>\n",
       "      <td>0</td>\n",
       "      <td>0</td>\n",
       "      <td>24160</td>\n",
       "      <td>211.3375</td>\n",
       "      <td>B5</td>\n",
       "      <td>S</td>\n",
       "      <td>2</td>\n",
       "      <td>NaN</td>\n",
       "      <td>St Louis, MO</td>\n",
       "    </tr>\n",
       "    <tr>\n",
       "      <th>1</th>\n",
       "      <td>1</td>\n",
       "      <td>1</td>\n",
       "      <td>Allison, Master. Hudson Trevor</td>\n",
       "      <td>male</td>\n",
       "      <td>category1</td>\n",
       "      <td>1</td>\n",
       "      <td>2</td>\n",
       "      <td>113781</td>\n",
       "      <td>151.5500</td>\n",
       "      <td>C22 C26</td>\n",
       "      <td>S</td>\n",
       "      <td>11</td>\n",
       "      <td>NaN</td>\n",
       "      <td>Montreal, PQ / Chesterville, ON</td>\n",
       "    </tr>\n",
       "    <tr>\n",
       "      <th>2</th>\n",
       "      <td>1</td>\n",
       "      <td>0</td>\n",
       "      <td>Allison, Miss. Helen Loraine</td>\n",
       "      <td>female</td>\n",
       "      <td>category1</td>\n",
       "      <td>1</td>\n",
       "      <td>2</td>\n",
       "      <td>113781</td>\n",
       "      <td>151.5500</td>\n",
       "      <td>C22 C26</td>\n",
       "      <td>S</td>\n",
       "      <td>NaN</td>\n",
       "      <td>NaN</td>\n",
       "      <td>Montreal, PQ / Chesterville, ON</td>\n",
       "    </tr>\n",
       "    <tr>\n",
       "      <th>3</th>\n",
       "      <td>1</td>\n",
       "      <td>0</td>\n",
       "      <td>Allison, Mr. Hudson Joshua Creighton</td>\n",
       "      <td>male</td>\n",
       "      <td>category2</td>\n",
       "      <td>1</td>\n",
       "      <td>2</td>\n",
       "      <td>113781</td>\n",
       "      <td>151.5500</td>\n",
       "      <td>C22 C26</td>\n",
       "      <td>S</td>\n",
       "      <td>NaN</td>\n",
       "      <td>135.0</td>\n",
       "      <td>Montreal, PQ / Chesterville, ON</td>\n",
       "    </tr>\n",
       "    <tr>\n",
       "      <th>4</th>\n",
       "      <td>1</td>\n",
       "      <td>0</td>\n",
       "      <td>Allison, Mrs. Hudson J C (Bessie Waldo Daniels)</td>\n",
       "      <td>female</td>\n",
       "      <td>category1</td>\n",
       "      <td>1</td>\n",
       "      <td>2</td>\n",
       "      <td>113781</td>\n",
       "      <td>151.5500</td>\n",
       "      <td>C22 C26</td>\n",
       "      <td>S</td>\n",
       "      <td>NaN</td>\n",
       "      <td>NaN</td>\n",
       "      <td>Montreal, PQ / Chesterville, ON</td>\n",
       "    </tr>\n",
       "  </tbody>\n",
       "</table>\n",
       "</div>"
      ],
      "text/plain": [
       "   pclass  survived                                             name     sex  \\\n",
       "0       1         1                    Allen, Miss. Elisabeth Walton  female   \n",
       "1       1         1                   Allison, Master. Hudson Trevor    male   \n",
       "2       1         0                     Allison, Miss. Helen Loraine  female   \n",
       "3       1         0             Allison, Mr. Hudson Joshua Creighton    male   \n",
       "4       1         0  Allison, Mrs. Hudson J C (Bessie Waldo Daniels)  female   \n",
       "\n",
       "         age  sibsp  parch  ticket      fare    cabin embarked boat   body  \\\n",
       "0  category2      0      0   24160  211.3375       B5        S    2    NaN   \n",
       "1  category1      1      2  113781  151.5500  C22 C26        S   11    NaN   \n",
       "2  category1      1      2  113781  151.5500  C22 C26        S  NaN    NaN   \n",
       "3  category2      1      2  113781  151.5500  C22 C26        S  NaN  135.0   \n",
       "4  category1      1      2  113781  151.5500  C22 C26        S  NaN    NaN   \n",
       "\n",
       "                         home.dest  \n",
       "0                     St Louis, MO  \n",
       "1  Montreal, PQ / Chesterville, ON  \n",
       "2  Montreal, PQ / Chesterville, ON  \n",
       "3  Montreal, PQ / Chesterville, ON  \n",
       "4  Montreal, PQ / Chesterville, ON  "
      ]
     },
     "execution_count": 236,
     "metadata": {},
     "output_type": "execute_result"
    }
   ],
   "source": [
    "df_titanic_temp.age = categories\n",
    "df_titanic_temp.head()"
   ]
  },
  {
   "cell_type": "markdown",
   "metadata": {},
   "source": [
    "We then group the df_titanic dataframe entries by age, sex and travel class (as required), and obtain the titanic_class_sex_age object, as described below."
   ]
  },
  {
   "cell_type": "code",
   "execution_count": 237,
   "metadata": {
    "scrolled": true
   },
   "outputs": [
    {
     "name": "stdout",
     "output_type": "stream",
     "text": [
      "                         body                                                \\\n",
      "                        count        mean         std    min     25%    50%   \n",
      "age       sex    pclass                                                       \n",
      "category1 female 1        0.0         NaN         NaN    NaN     NaN    NaN   \n",
      "                 2        0.0         NaN         NaN    NaN     NaN    NaN   \n",
      "                 3        3.0  226.666667  151.097099   53.0  176.00  299.0   \n",
      "          male   1        3.0  183.000000   43.714986  148.0  158.50  169.0   \n",
      "                 2       10.0  173.100000  108.223483   18.0   98.00  131.5   \n",
      "                 3       21.0  149.523810  109.755009    1.0   67.00  131.0   \n",
      "category2 female 1        0.0         NaN         NaN    NaN     NaN    NaN   \n",
      "                 2        1.0   52.000000         NaN   52.0   52.00   52.0   \n",
      "                 3        4.0  150.250000  144.723587    7.0   47.50  133.5   \n",
      "          male   1       32.0  160.937500   85.592786   16.0  105.75  156.5   \n",
      "                 2       20.0  170.300000  108.760529   15.0   67.00  169.5   \n",
      "                 3       26.0  153.692308   89.602129   14.0   70.50  157.0   \n",
      "\n",
      "                                         fare             ...  sibsp       \\\n",
      "                            75%    max  count        mean ...    75%  max   \n",
      "age       sex    pclass                                   ...               \n",
      "category1 female 1          NaN    NaN   41.0  110.602339 ...    1.0  3.0   \n",
      "                 2          NaN    NaN   56.0   24.778275 ...    1.0  2.0   \n",
      "                 3       313.50  328.0  109.0   14.055277 ...    1.0  5.0   \n",
      "          male   1       200.50  232.0   32.0   97.995703 ...    1.0  3.0   \n",
      "                 2       291.50  297.0   74.0   22.986824 ...    1.0  2.0   \n",
      "                 3       259.00  314.0  224.0   12.813781 ...    1.0  8.0   \n",
      "category2 female 1          NaN    NaN   92.0  112.618389 ...    1.0  2.0   \n",
      "                 2        52.00   52.0   47.0   21.467198 ...    1.0  3.0   \n",
      "                 3       236.25  327.0   43.0   16.177907 ...    1.0  4.0   \n",
      "          male   1       236.75  307.0  119.0   68.585610 ...    1.0  2.0   \n",
      "                 2       274.00  322.0   84.0   19.126189 ...    1.0  2.0   \n",
      "                 3       200.00  312.0  124.0   10.820059 ...    0.0  3.0   \n",
      "\n",
      "                        survived                                               \n",
      "                           count      mean       std  min  25%  50%  75%  max  \n",
      "age       sex    pclass                                                        \n",
      "category1 female 1          41.0  0.951220  0.218085  0.0  1.0  1.0  1.0  1.0  \n",
      "                 2          56.0  0.910714  0.287736  0.0  1.0  1.0  1.0  1.0  \n",
      "                 3         109.0  0.513761  0.502119  0.0  0.0  1.0  1.0  1.0  \n",
      "          male   1          32.0  0.531250  0.507007  0.0  0.0  1.0  1.0  1.0  \n",
      "                 2          74.0  0.216216  0.414473  0.0  0.0  0.0  0.0  1.0  \n",
      "                 3         224.0  0.183036  0.387562  0.0  0.0  0.0  0.0  1.0  \n",
      "category2 female 1          92.0  0.967391  0.178583  0.0  1.0  1.0  1.0  1.0  \n",
      "                 2          47.0  0.872340  0.337318  0.0  1.0  1.0  1.0  1.0  \n",
      "                 3          43.0  0.372093  0.489083  0.0  0.0  0.0  1.0  1.0  \n",
      "          male   1         119.0  0.302521  0.461292  0.0  0.0  0.0  1.0  1.0  \n",
      "                 2          84.0  0.083333  0.278045  0.0  0.0  0.0  0.0  1.0  \n",
      "                 3         125.0  0.144000  0.352503  0.0  0.0  0.0  0.0  1.0  \n",
      "\n",
      "[12 rows x 40 columns]\n"
     ]
    }
   ],
   "source": [
    "titanic_class_sex_age = df_titanic_temp.groupby(['age', 'sex','pclass'])\n",
    "print(titanic_class_sex_age.describe())"
   ]
  },
  {
   "cell_type": "markdown",
   "metadata": {},
   "source": [
    "By looking at the previous description of titanic_class_sex_age, we noticed that what we are really interested in is the mean column of the 'survived' part of the description.\n",
    "\n",
    "Note: the mean column of the 'survived' attribute is what we are looking for in that case, because since 'survived' only takes 0 and 1 values, its mean over all the passengers is actually a survival rate (a percentage).\n",
    "\n",
    "So, we set our final dataframe (the one in which we need to calculate survival proportions by age category, travel class and sex) to be the 'mean' column of the 'survived' portion of titanic_class_sex_age, which happens to be actually a uniquely indexed dataframe (as can be checked below)!"
   ]
  },
  {
   "cell_type": "code",
   "execution_count": 238,
   "metadata": {},
   "outputs": [
    {
     "name": "stdout",
     "output_type": "stream",
     "text": [
      "age        sex     pclass\n",
      "category1  female  1         0.951220\n",
      "                   2         0.910714\n",
      "                   3         0.513761\n",
      "           male    1         0.531250\n",
      "                   2         0.216216\n",
      "                   3         0.183036\n",
      "category2  female  1         0.967391\n",
      "                   2         0.872340\n",
      "                   3         0.372093\n",
      "           male    1         0.302521\n",
      "                   2         0.083333\n",
      "                   3         0.144000\n",
      "Name: survived, dtype: float64\n",
      "True\n"
     ]
    }
   ],
   "source": [
    "df_final = titanic_class_sex_age.survived.mean()\n",
    "print(df_final)\n",
    "print(df_final.index.is_unique)"
   ]
  }
 ],
 "metadata": {
  "kernelspec": {
   "display_name": "Python 3",
   "language": "python",
   "name": "python3"
  },
  "language_info": {
   "codemirror_mode": {
    "name": "ipython",
    "version": 3
   },
   "file_extension": ".py",
   "mimetype": "text/x-python",
   "name": "python",
   "nbconvert_exporter": "python",
   "pygments_lexer": "ipython3",
   "version": "3.6.1"
  }
 },
 "nbformat": 4,
 "nbformat_minor": 2
}
