{
 "cells": [
  {
   "cell_type": "code",
   "execution_count": 1,
   "metadata": {
    "collapsed": true
   },
   "outputs": [],
   "source": [
    "import numpy as np\n",
    "import pandas as pd\n",
    "from sklearn import linear_model\n",
    "import networkx as nx\n",
    "import warnings\n",
    "import collections\n",
    "from sklearn.datasets import fetch_20newsgroups\n",
    "from pprint import pprint\n",
    "import re\n",
    "from gensim.parsing.preprocessing import STOPWORDS\n",
    "from nltk.stem import WordNetLemmatizer\n",
    "from sklearn.feature_extraction.text import TfidfVectorizer\n",
    "from nltk.stem.snowball import EnglishStemmer\n",
    "from sklearn.model_selection import train_test_split,GridSearchCV\n",
    "from sklearn.ensemble import RandomForestClassifier\n",
    "import matplotlib.pyplot as plt\n",
    "from sklearn.metrics import accuracy_score,confusion_matrix\n",
    "import itertools\n",
    "%matplotlib inline\n",
    "warnings.filterwarnings('ignore')"
   ]
  },
  {
   "cell_type": "markdown",
   "metadata": {},
   "source": [
    "# Part 1"
   ]
  },
  {
   "cell_type": "markdown",
   "metadata": {},
   "source": [
    "#### NOTE: For better visualization, we will always draw the samples treated by blue and the ones not treated by orange"
   ]
  },
  {
   "cell_type": "code",
   "execution_count": 2,
   "metadata": {},
   "outputs": [
    {
     "data": {
      "text/html": [
       "<div>\n",
       "<style>\n",
       "    .dataframe thead tr:only-child th {\n",
       "        text-align: right;\n",
       "    }\n",
       "\n",
       "    .dataframe thead th {\n",
       "        text-align: left;\n",
       "    }\n",
       "\n",
       "    .dataframe tbody tr th {\n",
       "        vertical-align: top;\n",
       "    }\n",
       "</style>\n",
       "<table border=\"1\" class=\"dataframe\">\n",
       "  <thead>\n",
       "    <tr style=\"text-align: right;\">\n",
       "      <th></th>\n",
       "      <th>id</th>\n",
       "      <th>treat</th>\n",
       "      <th>age</th>\n",
       "      <th>educ</th>\n",
       "      <th>black</th>\n",
       "      <th>hispan</th>\n",
       "      <th>married</th>\n",
       "      <th>nodegree</th>\n",
       "      <th>re74</th>\n",
       "      <th>re75</th>\n",
       "      <th>re78</th>\n",
       "    </tr>\n",
       "  </thead>\n",
       "  <tbody>\n",
       "    <tr>\n",
       "      <th>0</th>\n",
       "      <td>NSW1</td>\n",
       "      <td>1</td>\n",
       "      <td>37</td>\n",
       "      <td>11</td>\n",
       "      <td>1</td>\n",
       "      <td>0</td>\n",
       "      <td>1</td>\n",
       "      <td>1</td>\n",
       "      <td>0.0</td>\n",
       "      <td>0.0</td>\n",
       "      <td>9930.0460</td>\n",
       "    </tr>\n",
       "    <tr>\n",
       "      <th>1</th>\n",
       "      <td>NSW2</td>\n",
       "      <td>1</td>\n",
       "      <td>22</td>\n",
       "      <td>9</td>\n",
       "      <td>0</td>\n",
       "      <td>1</td>\n",
       "      <td>0</td>\n",
       "      <td>1</td>\n",
       "      <td>0.0</td>\n",
       "      <td>0.0</td>\n",
       "      <td>3595.8940</td>\n",
       "    </tr>\n",
       "    <tr>\n",
       "      <th>2</th>\n",
       "      <td>NSW3</td>\n",
       "      <td>1</td>\n",
       "      <td>30</td>\n",
       "      <td>12</td>\n",
       "      <td>1</td>\n",
       "      <td>0</td>\n",
       "      <td>0</td>\n",
       "      <td>0</td>\n",
       "      <td>0.0</td>\n",
       "      <td>0.0</td>\n",
       "      <td>24909.4500</td>\n",
       "    </tr>\n",
       "    <tr>\n",
       "      <th>3</th>\n",
       "      <td>NSW4</td>\n",
       "      <td>1</td>\n",
       "      <td>27</td>\n",
       "      <td>11</td>\n",
       "      <td>1</td>\n",
       "      <td>0</td>\n",
       "      <td>0</td>\n",
       "      <td>1</td>\n",
       "      <td>0.0</td>\n",
       "      <td>0.0</td>\n",
       "      <td>7506.1460</td>\n",
       "    </tr>\n",
       "    <tr>\n",
       "      <th>4</th>\n",
       "      <td>NSW5</td>\n",
       "      <td>1</td>\n",
       "      <td>33</td>\n",
       "      <td>8</td>\n",
       "      <td>1</td>\n",
       "      <td>0</td>\n",
       "      <td>0</td>\n",
       "      <td>1</td>\n",
       "      <td>0.0</td>\n",
       "      <td>0.0</td>\n",
       "      <td>289.7899</td>\n",
       "    </tr>\n",
       "  </tbody>\n",
       "</table>\n",
       "</div>"
      ],
      "text/plain": [
       "     id  treat  age  educ  black  hispan  married  nodegree  re74  re75  \\\n",
       "0  NSW1      1   37    11      1       0        1         1   0.0   0.0   \n",
       "1  NSW2      1   22     9      0       1        0         1   0.0   0.0   \n",
       "2  NSW3      1   30    12      1       0        0         0   0.0   0.0   \n",
       "3  NSW4      1   27    11      1       0        0         1   0.0   0.0   \n",
       "4  NSW5      1   33     8      1       0        0         1   0.0   0.0   \n",
       "\n",
       "         re78  \n",
       "0   9930.0460  \n",
       "1   3595.8940  \n",
       "2  24909.4500  \n",
       "3   7506.1460  \n",
       "4    289.7899  "
      ]
     },
     "execution_count": 2,
     "metadata": {},
     "output_type": "execute_result"
    }
   ],
   "source": [
    "df = pd.read_csv(\"lalonde.csv\")\n",
    "df.head()"
   ]
  },
  {
   "cell_type": "markdown",
   "metadata": {},
   "source": [
    "# 1. A naive analysis"
   ]
  },
  {
   "cell_type": "code",
   "execution_count": 3,
   "metadata": {},
   "outputs": [
    {
     "data": {
      "text/html": [
       "<div>\n",
       "<style>\n",
       "    .dataframe thead tr:only-child th {\n",
       "        text-align: right;\n",
       "    }\n",
       "\n",
       "    .dataframe thead th {\n",
       "        text-align: left;\n",
       "    }\n",
       "\n",
       "    .dataframe tbody tr th {\n",
       "        vertical-align: top;\n",
       "    }\n",
       "</style>\n",
       "<table border=\"1\" class=\"dataframe\">\n",
       "  <thead>\n",
       "    <tr style=\"text-align: right;\">\n",
       "      <th></th>\n",
       "      <th>treat</th>\n",
       "      <th>age</th>\n",
       "      <th>educ</th>\n",
       "      <th>black</th>\n",
       "      <th>hispan</th>\n",
       "      <th>married</th>\n",
       "      <th>nodegree</th>\n",
       "      <th>re74</th>\n",
       "      <th>re75</th>\n",
       "      <th>re78</th>\n",
       "    </tr>\n",
       "  </thead>\n",
       "  <tbody>\n",
       "    <tr>\n",
       "      <th>count</th>\n",
       "      <td>185.0</td>\n",
       "      <td>185.000000</td>\n",
       "      <td>185.000000</td>\n",
       "      <td>185.000000</td>\n",
       "      <td>185.000000</td>\n",
       "      <td>185.000000</td>\n",
       "      <td>185.000000</td>\n",
       "      <td>185.000000</td>\n",
       "      <td>185.000000</td>\n",
       "      <td>185.000000</td>\n",
       "    </tr>\n",
       "    <tr>\n",
       "      <th>mean</th>\n",
       "      <td>1.0</td>\n",
       "      <td>25.816216</td>\n",
       "      <td>10.345946</td>\n",
       "      <td>0.843243</td>\n",
       "      <td>0.059459</td>\n",
       "      <td>0.189189</td>\n",
       "      <td>0.708108</td>\n",
       "      <td>2095.573689</td>\n",
       "      <td>1532.055314</td>\n",
       "      <td>6349.143530</td>\n",
       "    </tr>\n",
       "    <tr>\n",
       "      <th>std</th>\n",
       "      <td>0.0</td>\n",
       "      <td>7.155019</td>\n",
       "      <td>2.010650</td>\n",
       "      <td>0.364558</td>\n",
       "      <td>0.237124</td>\n",
       "      <td>0.392722</td>\n",
       "      <td>0.455867</td>\n",
       "      <td>4886.620353</td>\n",
       "      <td>3219.250870</td>\n",
       "      <td>7867.402218</td>\n",
       "    </tr>\n",
       "    <tr>\n",
       "      <th>min</th>\n",
       "      <td>1.0</td>\n",
       "      <td>17.000000</td>\n",
       "      <td>4.000000</td>\n",
       "      <td>0.000000</td>\n",
       "      <td>0.000000</td>\n",
       "      <td>0.000000</td>\n",
       "      <td>0.000000</td>\n",
       "      <td>0.000000</td>\n",
       "      <td>0.000000</td>\n",
       "      <td>0.000000</td>\n",
       "    </tr>\n",
       "    <tr>\n",
       "      <th>25%</th>\n",
       "      <td>1.0</td>\n",
       "      <td>20.000000</td>\n",
       "      <td>9.000000</td>\n",
       "      <td>1.000000</td>\n",
       "      <td>0.000000</td>\n",
       "      <td>0.000000</td>\n",
       "      <td>0.000000</td>\n",
       "      <td>0.000000</td>\n",
       "      <td>0.000000</td>\n",
       "      <td>485.229800</td>\n",
       "    </tr>\n",
       "    <tr>\n",
       "      <th>50%</th>\n",
       "      <td>1.0</td>\n",
       "      <td>25.000000</td>\n",
       "      <td>11.000000</td>\n",
       "      <td>1.000000</td>\n",
       "      <td>0.000000</td>\n",
       "      <td>0.000000</td>\n",
       "      <td>1.000000</td>\n",
       "      <td>0.000000</td>\n",
       "      <td>0.000000</td>\n",
       "      <td>4232.309000</td>\n",
       "    </tr>\n",
       "    <tr>\n",
       "      <th>75%</th>\n",
       "      <td>1.0</td>\n",
       "      <td>29.000000</td>\n",
       "      <td>12.000000</td>\n",
       "      <td>1.000000</td>\n",
       "      <td>0.000000</td>\n",
       "      <td>0.000000</td>\n",
       "      <td>1.000000</td>\n",
       "      <td>1291.468000</td>\n",
       "      <td>1817.284000</td>\n",
       "      <td>9642.999000</td>\n",
       "    </tr>\n",
       "    <tr>\n",
       "      <th>max</th>\n",
       "      <td>1.0</td>\n",
       "      <td>48.000000</td>\n",
       "      <td>16.000000</td>\n",
       "      <td>1.000000</td>\n",
       "      <td>1.000000</td>\n",
       "      <td>1.000000</td>\n",
       "      <td>1.000000</td>\n",
       "      <td>35040.070000</td>\n",
       "      <td>25142.240000</td>\n",
       "      <td>60307.930000</td>\n",
       "    </tr>\n",
       "  </tbody>\n",
       "</table>\n",
       "</div>"
      ],
      "text/plain": [
       "       treat         age        educ       black      hispan     married  \\\n",
       "count  185.0  185.000000  185.000000  185.000000  185.000000  185.000000   \n",
       "mean     1.0   25.816216   10.345946    0.843243    0.059459    0.189189   \n",
       "std      0.0    7.155019    2.010650    0.364558    0.237124    0.392722   \n",
       "min      1.0   17.000000    4.000000    0.000000    0.000000    0.000000   \n",
       "25%      1.0   20.000000    9.000000    1.000000    0.000000    0.000000   \n",
       "50%      1.0   25.000000   11.000000    1.000000    0.000000    0.000000   \n",
       "75%      1.0   29.000000   12.000000    1.000000    0.000000    0.000000   \n",
       "max      1.0   48.000000   16.000000    1.000000    1.000000    1.000000   \n",
       "\n",
       "         nodegree          re74          re75          re78  \n",
       "count  185.000000    185.000000    185.000000    185.000000  \n",
       "mean     0.708108   2095.573689   1532.055314   6349.143530  \n",
       "std      0.455867   4886.620353   3219.250870   7867.402218  \n",
       "min      0.000000      0.000000      0.000000      0.000000  \n",
       "25%      0.000000      0.000000      0.000000    485.229800  \n",
       "50%      1.000000      0.000000      0.000000   4232.309000  \n",
       "75%      1.000000   1291.468000   1817.284000   9642.999000  \n",
       "max      1.000000  35040.070000  25142.240000  60307.930000  "
      ]
     },
     "execution_count": 3,
     "metadata": {},
     "output_type": "execute_result"
    }
   ],
   "source": [
    "df[df['treat'] == 1].describe()"
   ]
  },
  {
   "cell_type": "code",
   "execution_count": 4,
   "metadata": {},
   "outputs": [
    {
     "data": {
      "text/html": [
       "<div>\n",
       "<style>\n",
       "    .dataframe thead tr:only-child th {\n",
       "        text-align: right;\n",
       "    }\n",
       "\n",
       "    .dataframe thead th {\n",
       "        text-align: left;\n",
       "    }\n",
       "\n",
       "    .dataframe tbody tr th {\n",
       "        vertical-align: top;\n",
       "    }\n",
       "</style>\n",
       "<table border=\"1\" class=\"dataframe\">\n",
       "  <thead>\n",
       "    <tr style=\"text-align: right;\">\n",
       "      <th></th>\n",
       "      <th>treat</th>\n",
       "      <th>age</th>\n",
       "      <th>educ</th>\n",
       "      <th>black</th>\n",
       "      <th>hispan</th>\n",
       "      <th>married</th>\n",
       "      <th>nodegree</th>\n",
       "      <th>re74</th>\n",
       "      <th>re75</th>\n",
       "      <th>re78</th>\n",
       "    </tr>\n",
       "  </thead>\n",
       "  <tbody>\n",
       "    <tr>\n",
       "      <th>count</th>\n",
       "      <td>429.0</td>\n",
       "      <td>429.000000</td>\n",
       "      <td>429.000000</td>\n",
       "      <td>429.000000</td>\n",
       "      <td>429.000000</td>\n",
       "      <td>429.000000</td>\n",
       "      <td>429.000000</td>\n",
       "      <td>429.000000</td>\n",
       "      <td>429.000000</td>\n",
       "      <td>429.000000</td>\n",
       "    </tr>\n",
       "    <tr>\n",
       "      <th>mean</th>\n",
       "      <td>0.0</td>\n",
       "      <td>28.030303</td>\n",
       "      <td>10.235431</td>\n",
       "      <td>0.202797</td>\n",
       "      <td>0.142191</td>\n",
       "      <td>0.512821</td>\n",
       "      <td>0.596737</td>\n",
       "      <td>5619.236506</td>\n",
       "      <td>2466.484443</td>\n",
       "      <td>6984.169742</td>\n",
       "    </tr>\n",
       "    <tr>\n",
       "      <th>std</th>\n",
       "      <td>0.0</td>\n",
       "      <td>10.786653</td>\n",
       "      <td>2.855238</td>\n",
       "      <td>0.402552</td>\n",
       "      <td>0.349654</td>\n",
       "      <td>0.500419</td>\n",
       "      <td>0.491126</td>\n",
       "      <td>6788.750796</td>\n",
       "      <td>3291.996183</td>\n",
       "      <td>7294.161791</td>\n",
       "    </tr>\n",
       "    <tr>\n",
       "      <th>min</th>\n",
       "      <td>0.0</td>\n",
       "      <td>16.000000</td>\n",
       "      <td>0.000000</td>\n",
       "      <td>0.000000</td>\n",
       "      <td>0.000000</td>\n",
       "      <td>0.000000</td>\n",
       "      <td>0.000000</td>\n",
       "      <td>0.000000</td>\n",
       "      <td>0.000000</td>\n",
       "      <td>0.000000</td>\n",
       "    </tr>\n",
       "    <tr>\n",
       "      <th>25%</th>\n",
       "      <td>0.0</td>\n",
       "      <td>19.000000</td>\n",
       "      <td>9.000000</td>\n",
       "      <td>0.000000</td>\n",
       "      <td>0.000000</td>\n",
       "      <td>0.000000</td>\n",
       "      <td>0.000000</td>\n",
       "      <td>0.000000</td>\n",
       "      <td>0.000000</td>\n",
       "      <td>220.181300</td>\n",
       "    </tr>\n",
       "    <tr>\n",
       "      <th>50%</th>\n",
       "      <td>0.0</td>\n",
       "      <td>25.000000</td>\n",
       "      <td>11.000000</td>\n",
       "      <td>0.000000</td>\n",
       "      <td>0.000000</td>\n",
       "      <td>1.000000</td>\n",
       "      <td>1.000000</td>\n",
       "      <td>2547.047000</td>\n",
       "      <td>1086.726000</td>\n",
       "      <td>4975.505000</td>\n",
       "    </tr>\n",
       "    <tr>\n",
       "      <th>75%</th>\n",
       "      <td>0.0</td>\n",
       "      <td>35.000000</td>\n",
       "      <td>12.000000</td>\n",
       "      <td>0.000000</td>\n",
       "      <td>0.000000</td>\n",
       "      <td>1.000000</td>\n",
       "      <td>1.000000</td>\n",
       "      <td>9277.128000</td>\n",
       "      <td>3881.419000</td>\n",
       "      <td>11688.820000</td>\n",
       "    </tr>\n",
       "    <tr>\n",
       "      <th>max</th>\n",
       "      <td>0.0</td>\n",
       "      <td>55.000000</td>\n",
       "      <td>18.000000</td>\n",
       "      <td>1.000000</td>\n",
       "      <td>1.000000</td>\n",
       "      <td>1.000000</td>\n",
       "      <td>1.000000</td>\n",
       "      <td>25862.320000</td>\n",
       "      <td>18347.230000</td>\n",
       "      <td>25564.670000</td>\n",
       "    </tr>\n",
       "  </tbody>\n",
       "</table>\n",
       "</div>"
      ],
      "text/plain": [
       "       treat         age        educ       black      hispan     married  \\\n",
       "count  429.0  429.000000  429.000000  429.000000  429.000000  429.000000   \n",
       "mean     0.0   28.030303   10.235431    0.202797    0.142191    0.512821   \n",
       "std      0.0   10.786653    2.855238    0.402552    0.349654    0.500419   \n",
       "min      0.0   16.000000    0.000000    0.000000    0.000000    0.000000   \n",
       "25%      0.0   19.000000    9.000000    0.000000    0.000000    0.000000   \n",
       "50%      0.0   25.000000   11.000000    0.000000    0.000000    1.000000   \n",
       "75%      0.0   35.000000   12.000000    0.000000    0.000000    1.000000   \n",
       "max      0.0   55.000000   18.000000    1.000000    1.000000    1.000000   \n",
       "\n",
       "         nodegree          re74          re75          re78  \n",
       "count  429.000000    429.000000    429.000000    429.000000  \n",
       "mean     0.596737   5619.236506   2466.484443   6984.169742  \n",
       "std      0.491126   6788.750796   3291.996183   7294.161791  \n",
       "min      0.000000      0.000000      0.000000      0.000000  \n",
       "25%      0.000000      0.000000      0.000000    220.181300  \n",
       "50%      1.000000   2547.047000   1086.726000   4975.505000  \n",
       "75%      1.000000   9277.128000   3881.419000  11688.820000  \n",
       "max      1.000000  25862.320000  18347.230000  25564.670000  "
      ]
     },
     "execution_count": 4,
     "metadata": {},
     "output_type": "execute_result"
    }
   ],
   "source": [
    "df[df['treat'] == 0].describe()"
   ]
  },
  {
   "cell_type": "code",
   "execution_count": 5,
   "metadata": {},
   "outputs": [
    {
     "data": {
      "image/png": "[encoded data removed]",
      "text/plain": [
       "<matplotlib.figure.Figure at 0x1a21a8fb38>"
      ]
     },
     "metadata": {},
     "output_type": "display_data"
    },
    {
     "name": "stdout",
     "output_type": "stream",
     "text": [
      "The mean income for the people who took the workshope is 6349.14 and standard deviation is 7867.4\n",
      "The mean income for the people who didn't take the workshope is 6984.17 and standard deviation is 7294.16\n"
     ]
    }
   ],
   "source": [
    "#Plot the two graphs on the same --> better for scale\n",
    "plt.hist(df[df['treat'] == 1]['re78'],color=\"blue\",alpha=0.5)\n",
    "plt.hist(df[df['treat'] == 0]['re78'],color=\"orange\",alpha=0.5)\n",
    "plt.ylabel(\"Number of individuals\")\n",
    "plt.xlabel(\"Income in 1978\")\n",
    "plt.suptitle(\"Income in 1978 distribution\")\n",
    "plt.show()\n",
    "print (\"The mean income for the people who took the workshope is {} and standard deviation is {}\".format(round(df[df['treat'] == 1]['re78'].mean(),2), round(df[df['treat'] == 1]['re78'].std(),2)))\n",
    "print (\"The mean income for the people who didn't take the workshope is {} and standard deviation is {}\".format(round(df[df['treat'] == 0]['re78'].mean(),2), round(df[df['treat'] == 0]['re78'].std(),2)))\n"
   ]
  },
  {
   "cell_type": "markdown",
   "metadata": {},
   "source": [
    "#### Conclusion : A naive data scientist would conclude that a job training program resulted in a decrease of the earnings"
   ]
  },
  {
   "cell_type": "markdown",
   "metadata": {},
   "source": [
    "# 2. A closer look at the data"
   ]
  },
  {
   "cell_type": "code",
   "execution_count": 6,
   "metadata": {
    "collapsed": true
   },
   "outputs": [],
   "source": [
    "#Initialize new dataframes for treated and untreated\n",
    "untreated_df = df[df['treat'] == 0]\n",
    "treated_df = df[df['treat'] == 1]"
   ]
  },
  {
   "cell_type": "code",
   "execution_count": 7,
   "metadata": {},
   "outputs": [
    {
     "data": {
      "text/html": [
       "<div>\n",
       "<style>\n",
       "    .dataframe thead tr:only-child th {\n",
       "        text-align: right;\n",
       "    }\n",
       "\n",
       "    .dataframe thead th {\n",
       "        text-align: left;\n",
       "    }\n",
       "\n",
       "    .dataframe tbody tr th {\n",
       "        vertical-align: top;\n",
       "    }\n",
       "</style>\n",
       "<table border=\"1\" class=\"dataframe\">\n",
       "  <thead>\n",
       "    <tr>\n",
       "      <th></th>\n",
       "      <th colspan=\"2\" halign=\"left\">age</th>\n",
       "      <th colspan=\"2\" halign=\"left\">educ</th>\n",
       "      <th colspan=\"2\" halign=\"left\">black</th>\n",
       "      <th colspan=\"2\" halign=\"left\">hispan</th>\n",
       "      <th colspan=\"2\" halign=\"left\">married</th>\n",
       "      <th colspan=\"2\" halign=\"left\">nodegree</th>\n",
       "      <th colspan=\"2\" halign=\"left\">re74</th>\n",
       "      <th colspan=\"2\" halign=\"left\">re75</th>\n",
       "    </tr>\n",
       "    <tr>\n",
       "      <th></th>\n",
       "      <th>Treated Group</th>\n",
       "      <th>Untreated Group</th>\n",
       "      <th>Treated Group</th>\n",
       "      <th>Untreated Group</th>\n",
       "      <th>Treated Group</th>\n",
       "      <th>Untreated Group</th>\n",
       "      <th>Treated Group</th>\n",
       "      <th>Untreated Group</th>\n",
       "      <th>Treated Group</th>\n",
       "      <th>Untreated Group</th>\n",
       "      <th>Treated Group</th>\n",
       "      <th>Untreated Group</th>\n",
       "      <th>Treated Group</th>\n",
       "      <th>Untreated Group</th>\n",
       "      <th>Treated Group</th>\n",
       "      <th>Untreated Group</th>\n",
       "    </tr>\n",
       "  </thead>\n",
       "  <tbody>\n",
       "    <tr>\n",
       "      <th>count</th>\n",
       "      <td>185.000000</td>\n",
       "      <td>429.000000</td>\n",
       "      <td>185.000000</td>\n",
       "      <td>429.000000</td>\n",
       "      <td>185.000000</td>\n",
       "      <td>429.000000</td>\n",
       "      <td>185.000000</td>\n",
       "      <td>429.000000</td>\n",
       "      <td>185.000000</td>\n",
       "      <td>429.000000</td>\n",
       "      <td>185.000000</td>\n",
       "      <td>429.000000</td>\n",
       "      <td>185.000000</td>\n",
       "      <td>429.000000</td>\n",
       "      <td>185.000000</td>\n",
       "      <td>429.000000</td>\n",
       "    </tr>\n",
       "    <tr>\n",
       "      <th>mean</th>\n",
       "      <td>25.816216</td>\n",
       "      <td>28.030303</td>\n",
       "      <td>10.345946</td>\n",
       "      <td>10.235431</td>\n",
       "      <td>0.843243</td>\n",
       "      <td>0.202797</td>\n",
       "      <td>0.059459</td>\n",
       "      <td>0.142191</td>\n",
       "      <td>0.189189</td>\n",
       "      <td>0.512821</td>\n",
       "      <td>0.708108</td>\n",
       "      <td>0.596737</td>\n",
       "      <td>2095.573689</td>\n",
       "      <td>5619.236506</td>\n",
       "      <td>1532.055314</td>\n",
       "      <td>2466.484443</td>\n",
       "    </tr>\n",
       "    <tr>\n",
       "      <th>std</th>\n",
       "      <td>7.155019</td>\n",
       "      <td>10.786653</td>\n",
       "      <td>2.010650</td>\n",
       "      <td>2.855238</td>\n",
       "      <td>0.364558</td>\n",
       "      <td>0.402552</td>\n",
       "      <td>0.237124</td>\n",
       "      <td>0.349654</td>\n",
       "      <td>0.392722</td>\n",
       "      <td>0.500419</td>\n",
       "      <td>0.455867</td>\n",
       "      <td>0.491126</td>\n",
       "      <td>4886.620353</td>\n",
       "      <td>6788.750796</td>\n",
       "      <td>3219.250870</td>\n",
       "      <td>3291.996183</td>\n",
       "    </tr>\n",
       "    <tr>\n",
       "      <th>min</th>\n",
       "      <td>17.000000</td>\n",
       "      <td>16.000000</td>\n",
       "      <td>4.000000</td>\n",
       "      <td>0.000000</td>\n",
       "      <td>0.000000</td>\n",
       "      <td>0.000000</td>\n",
       "      <td>0.000000</td>\n",
       "      <td>0.000000</td>\n",
       "      <td>0.000000</td>\n",
       "      <td>0.000000</td>\n",
       "      <td>0.000000</td>\n",
       "      <td>0.000000</td>\n",
       "      <td>0.000000</td>\n",
       "      <td>0.000000</td>\n",
       "      <td>0.000000</td>\n",
       "      <td>0.000000</td>\n",
       "    </tr>\n",
       "    <tr>\n",
       "      <th>25%</th>\n",
       "      <td>20.000000</td>\n",
       "      <td>19.000000</td>\n",
       "      <td>9.000000</td>\n",
       "      <td>9.000000</td>\n",
       "      <td>1.000000</td>\n",
       "      <td>0.000000</td>\n",
       "      <td>0.000000</td>\n",
       "      <td>0.000000</td>\n",
       "      <td>0.000000</td>\n",
       "      <td>0.000000</td>\n",
       "      <td>0.000000</td>\n",
       "      <td>0.000000</td>\n",
       "      <td>0.000000</td>\n",
       "      <td>0.000000</td>\n",
       "      <td>0.000000</td>\n",
       "      <td>0.000000</td>\n",
       "    </tr>\n",
       "    <tr>\n",
       "      <th>50%</th>\n",
       "      <td>25.000000</td>\n",
       "      <td>25.000000</td>\n",
       "      <td>11.000000</td>\n",
       "      <td>11.000000</td>\n",
       "      <td>1.000000</td>\n",
       "      <td>0.000000</td>\n",
       "      <td>0.000000</td>\n",
       "      <td>0.000000</td>\n",
       "      <td>0.000000</td>\n",
       "      <td>1.000000</td>\n",
       "      <td>1.000000</td>\n",
       "      <td>1.000000</td>\n",
       "      <td>0.000000</td>\n",
       "      <td>2547.047000</td>\n",
       "      <td>0.000000</td>\n",
       "      <td>1086.726000</td>\n",
       "    </tr>\n",
       "    <tr>\n",
       "      <th>75%</th>\n",
       "      <td>29.000000</td>\n",
       "      <td>35.000000</td>\n",
       "      <td>12.000000</td>\n",
       "      <td>12.000000</td>\n",
       "      <td>1.000000</td>\n",
       "      <td>0.000000</td>\n",
       "      <td>0.000000</td>\n",
       "      <td>0.000000</td>\n",
       "      <td>0.000000</td>\n",
       "      <td>1.000000</td>\n",
       "      <td>1.000000</td>\n",
       "      <td>1.000000</td>\n",
       "      <td>1291.468000</td>\n",
       "      <td>9277.128000</td>\n",
       "      <td>1817.284000</td>\n",
       "      <td>3881.419000</td>\n",
       "    </tr>\n",
       "    <tr>\n",
       "      <th>max</th>\n",
       "      <td>48.000000</td>\n",
       "      <td>55.000000</td>\n",
       "      <td>16.000000</td>\n",
       "      <td>18.000000</td>\n",
       "      <td>1.000000</td>\n",
       "      <td>1.000000</td>\n",
       "      <td>1.000000</td>\n",
       "      <td>1.000000</td>\n",
       "      <td>1.000000</td>\n",
       "      <td>1.000000</td>\n",
       "      <td>1.000000</td>\n",
       "      <td>1.000000</td>\n",
       "      <td>35040.070000</td>\n",
       "      <td>25862.320000</td>\n",
       "      <td>25142.240000</td>\n",
       "      <td>18347.230000</td>\n",
       "    </tr>\n",
       "  </tbody>\n",
       "</table>\n",
       "</div>"
      ],
      "text/plain": [
       "                age                          educ                  \\\n",
       "      Treated Group Untreated Group Treated Group Untreated Group   \n",
       "count    185.000000      429.000000    185.000000      429.000000   \n",
       "mean      25.816216       28.030303     10.345946       10.235431   \n",
       "std        7.155019       10.786653      2.010650        2.855238   \n",
       "min       17.000000       16.000000      4.000000        0.000000   \n",
       "25%       20.000000       19.000000      9.000000        9.000000   \n",
       "50%       25.000000       25.000000     11.000000       11.000000   \n",
       "75%       29.000000       35.000000     12.000000       12.000000   \n",
       "max       48.000000       55.000000     16.000000       18.000000   \n",
       "\n",
       "              black                        hispan                  \\\n",
       "      Treated Group Untreated Group Treated Group Untreated Group   \n",
       "count    185.000000      429.000000    185.000000      429.000000   \n",
       "mean       0.843243        0.202797      0.059459        0.142191   \n",
       "std        0.364558        0.402552      0.237124        0.349654   \n",
       "min        0.000000        0.000000      0.000000        0.000000   \n",
       "25%        1.000000        0.000000      0.000000        0.000000   \n",
       "50%        1.000000        0.000000      0.000000        0.000000   \n",
       "75%        1.000000        0.000000      0.000000        0.000000   \n",
       "max        1.000000        1.000000      1.000000        1.000000   \n",
       "\n",
       "            married                      nodegree                  \\\n",
       "      Treated Group Untreated Group Treated Group Untreated Group   \n",
       "count    185.000000      429.000000    185.000000      429.000000   \n",
       "mean       0.189189        0.512821      0.708108        0.596737   \n",
       "std        0.392722        0.500419      0.455867        0.491126   \n",
       "min        0.000000        0.000000      0.000000        0.000000   \n",
       "25%        0.000000        0.000000      0.000000        0.000000   \n",
       "50%        0.000000        1.000000      1.000000        1.000000   \n",
       "75%        0.000000        1.000000      1.000000        1.000000   \n",
       "max        1.000000        1.000000      1.000000        1.000000   \n",
       "\n",
       "               re74                          re75                  \n",
       "      Treated Group Untreated Group Treated Group Untreated Group  \n",
       "count    185.000000      429.000000    185.000000      429.000000  \n",
       "mean    2095.573689     5619.236506   1532.055314     2466.484443  \n",
       "std     4886.620353     6788.750796   3219.250870     3291.996183  \n",
       "min        0.000000        0.000000      0.000000        0.000000  \n",
       "25%        0.000000        0.000000      0.000000        0.000000  \n",
       "50%        0.000000     2547.047000      0.000000     1086.726000  \n",
       "75%     1291.468000     9277.128000   1817.284000     3881.419000  \n",
       "max    35040.070000    25862.320000  25142.240000    18347.230000  "
      ]
     },
     "execution_count": 7,
     "metadata": {},
     "output_type": "execute_result"
    }
   ],
   "source": [
    "#Display both descriptions in one table -- for better visualization\n",
    "index_array = treated_df.describe().index\n",
    "sum_df = pd.DataFrame(index = index_array)\n",
    "attributes = ['age','age','educ','educ','black','black','hispan','hispan','married', 'married'\n",
    "              ,'nodegree','nodegree','re74','re74','re75','re75']\n",
    "columns = [('age','Treated Group'),('age','Untreated Group'),('educ','Treated Group'),('educ','Untreated Group')\n",
    "           ,('black','Treated Group'),('black','Untreated Group'),('hispan','Treated Group'),('hispan','Untreated Group')\n",
    "           ,('married','Treated Group'),('married','Untreated Group'),('nodegree','Treated Group'),('nodegree','Untreated Group')\n",
    "          ,('re74','Treated Group'),('re74','Untreated Group'),('re75','Treated Group'),('re75','Untreated Group')]\n",
    "\n",
    "combination_df  = pd.DataFrame(index = index_array, columns = columns)\n",
    "combination_df.columns=pd.MultiIndex.from_tuples(columns)\n",
    "i = 0\n",
    "for col, att in zip(columns, attributes):\n",
    "    if i%2==0:\n",
    "        combination_df[col] = np.array(treated_df[att].describe())\n",
    "    else: \n",
    "        combination_df[col] = np.array(untreated_df[att].describe())\n",
    "    i+=1\n",
    "        \n",
    "combination_df"
   ]
  },
  {
   "cell_type": "markdown",
   "metadata": {},
   "source": [
    "We found that on average, the people who did not do the training were already earning higher than the people who did the training. The reason that might explain this phenomena is that ***people who did the training were motivated to do the training because they had lower income, while people with already higher income (on average) didn't have the same motivation***"
   ]
  },
  {
   "cell_type": "markdown",
   "metadata": {},
   "source": [
    "Another thing we would like to note is that the number of people who did the training was ***185*** where the number of people who didn't do the training were ***429***."
   ]
  },
  {
   "cell_type": "markdown",
   "metadata": {},
   "source": [
    "For the \"treated\" individuals, we note that the median (50%) is smaller than the mean, indicating that the data is ***positvely skewed***. Same goes for the individuals that were not treated."
   ]
  },
  {
   "cell_type": "markdown",
   "metadata": {},
   "source": [
    "### Feature : age"
   ]
  },
  {
   "cell_type": "code",
   "execution_count": 8,
   "metadata": {},
   "outputs": [
    {
     "data": {
      "image/png": "[encoded data removed]",
      "text/plain": [
       "<matplotlib.figure.Figure at 0x1a21a79e48>"
      ]
     },
     "metadata": {},
     "output_type": "display_data"
    }
   ],
   "source": [
    "#Description of treated group w.r.t feature age\n",
    "plt.hist(treated_df['age'],color=\"blue\",alpha=0.5)\n",
    "plt.hist(untreated_df['age'],color=\"orange\",alpha=0.5)\n",
    "plt.ylabel(\"Number of individuals\")\n",
    "plt.xlabel(\"Age\")\n",
    "plt.suptitle(\"Age distribution\")\n",
    "plt.show()"
   ]
  },
  {
   "cell_type": "markdown",
   "metadata": {},
   "source": [
    "The distribution visually looks the same. The difference between the numbers is due to the unbalanced number of samples as mentioned before : ***Treated is 180 while Untreated is 429*** <br/>\n",
    "In addition, from the previous table, ***the range of the untreated samples is larger where the min and max are 16 and 55 respectively while in the treated samples it corresponds to 17 and 48. The means and standard deviation of the two samples are similar, however the treated sample has a smaller standard deviation which means it's more centered around the mean while the untreated has a larger distribution, this may be because we have a wider range of values for the second untreated sample. The mean of the untreated sample is 28 while that of the treated sample is 25, the age difference is significant since 3 additional years of experience should lead to a higher income.***"
   ]
  },
  {
   "cell_type": "markdown",
   "metadata": {},
   "source": [
    "***In addition, we would like to note that the two distributions are found to be positively skewed.***"
   ]
  },
  {
   "cell_type": "markdown",
   "metadata": {},
   "source": [
    "### Feature : educ"
   ]
  },
  {
   "cell_type": "code",
   "execution_count": 9,
   "metadata": {},
   "outputs": [
    {
     "data": {
      "image/png": "[encoded data removed]",
      "text/plain": [
       "<matplotlib.figure.Figure at 0x1a21f8de48>"
      ]
     },
     "metadata": {},
     "output_type": "display_data"
    }
   ],
   "source": [
    "#Description of treated group w.r.t feature age\n",
    "plt.hist(treated_df['educ'],color=\"blue\",alpha=0.5)\n",
    "plt.hist(untreated_df['educ'],color=\"orange\",alpha=0.5)\n",
    "plt.ylabel(\"Number of individuals\")\n",
    "plt.xlabel(\"Years of education\")\n",
    "plt.suptitle(\"Years of education distribution\")\n",
    "plt.show()"
   ]
  },
  {
   "cell_type": "markdown",
   "metadata": {},
   "source": [
    "Similar to the previously mentioned commment, distribution is similar but there's an unbalance in the number of samples. In addition, we note that ***the mean and standard deviation for both treated and untreated samples are similar and that the range of for the untreated sample is bigger. The two distributions look close to a normal distribution***"
   ]
  },
  {
   "cell_type": "markdown",
   "metadata": {},
   "source": [
    "### Feature : black"
   ]
  },
  {
   "cell_type": "code",
   "execution_count": 10,
   "metadata": {},
   "outputs": [
    {
     "data": {
      "image/png": "[encoded data removed]",
      "text/plain": [
       "<matplotlib.figure.Figure at 0x1a220d5198>"
      ]
     },
     "metadata": {},
     "output_type": "display_data"
    }
   ],
   "source": [
    "#Description of treated group w.r.t feature black\n",
    "plt.hist(treated_df['black'],color=\"blue\")\n",
    "plt.ylabel(\"Number of individuals\")\n",
    "plt.xlabel(\"Black\")\n",
    "plt.suptitle(\"Black distribution in treated group\")\n",
    "plt.show()"
   ]
  },
  {
   "cell_type": "code",
   "execution_count": 11,
   "metadata": {},
   "outputs": [
    {
     "data": {
      "image/png": "[encoded data removed]",
      "text/plain": [
       "<matplotlib.figure.Figure at 0x1a21a9bf28>"
      ]
     },
     "metadata": {},
     "output_type": "display_data"
    }
   ],
   "source": [
    "#Description of untreated group w.r.t feature black\n",
    "plt.hist(untreated_df['black'],color=\"orange\")\n",
    "plt.ylabel(\"Number of individuals\")\n",
    "plt.xlabel(\"Black\")\n",
    "plt.suptitle(\"Black distribution in untreated group\")\n",
    "plt.show()"
   ]
  },
  {
   "cell_type": "markdown",
   "metadata": {},
   "source": [
    "Since the number of samples is not the same for the two population, we will take into account the ration of black to non black"
   ]
  },
  {
   "cell_type": "code",
   "execution_count": 12,
   "metadata": {},
   "outputs": [
    {
     "name": "stdout",
     "output_type": "stream",
     "text": [
      "The ratio of black to non-black in the treated is 5.38\n",
      "The ratio of black to non-black in the untreated is 0.25\n"
     ]
    }
   ],
   "source": [
    "print (\"The ratio of black to non-black in the treated is {}\".format(round(len(treated_df[treated_df['black']==1])/len(treated_df[treated_df['black']==0]),2)))\n",
    "print (\"The ratio of black to non-black in the untreated is {}\".format(round(len(untreated_df[untreated_df['black']==1])/len(untreated_df[untreated_df['black']==0]),2)))\n"
   ]
  },
  {
   "cell_type": "markdown",
   "metadata": {},
   "source": [
    "There's a clear discrepancy between the \"treated\" and \"untreated\" groups w.r.t. the feature black. ***Both distributions are \"skewed\" but the skeweness is opposite for the treated and untreated.***"
   ]
  },
  {
   "cell_type": "markdown",
   "metadata": {},
   "source": [
    "### Feature : hispanic"
   ]
  },
  {
   "cell_type": "code",
   "execution_count": 13,
   "metadata": {},
   "outputs": [
    {
     "data": {
      "image/png": "[encoded data removed]",
      "text/plain": [
       "<matplotlib.figure.Figure at 0x1a220e1588>"
      ]
     },
     "metadata": {},
     "output_type": "display_data"
    }
   ],
   "source": [
    "#Description of treated group w.r.t feature hispan\n",
    "plt.hist(treated_df['hispan'],color=\"blue\")\n",
    "plt.ylabel(\"Number of individuals\")\n",
    "plt.xlabel(\"Hispanic\")\n",
    "plt.suptitle(\"Hispanic distribution in treated group\")\n",
    "plt.show()"
   ]
  },
  {
   "cell_type": "code",
   "execution_count": 14,
   "metadata": {},
   "outputs": [
    {
     "data": {
      "image/png": "[encoded data removed]",
      "text/plain": [
       "<matplotlib.figure.Figure at 0x1a224091d0>"
      ]
     },
     "metadata": {},
     "output_type": "display_data"
    }
   ],
   "source": [
    "#Description of untreated group w.r.t feature hispan\n",
    "plt.hist(untreated_df['hispan'],color=\"orange\")\n",
    "plt.ylabel(\"Number of individuals\")\n",
    "plt.xlabel(\"Hispanic\")\n",
    "plt.suptitle(\"Hispanic distribution in untreated group\")\n",
    "plt.show()"
   ]
  },
  {
   "cell_type": "code",
   "execution_count": 15,
   "metadata": {},
   "outputs": [
    {
     "name": "stdout",
     "output_type": "stream",
     "text": [
      "The ratio of hispanic to non-hispanic in the treated is 0.06\n",
      "The ratio of hispanic to non-hispanic in the untreated is 0.17\n"
     ]
    }
   ],
   "source": [
    "print (\"The ratio of hispanic to non-hispanic in the treated is {}\".format(round(len(treated_df[treated_df['hispan']==1])/len(treated_df[treated_df['hispan']==0]),2)))\n",
    "print (\"The ratio of hispanic to non-hispanic in the untreated is {}\".format(round(len(untreated_df[untreated_df['hispan']==1])/len(untreated_df[untreated_df['hispan']==0]),2)))\n"
   ]
  },
  {
   "cell_type": "markdown",
   "metadata": {},
   "source": [
    "In this case and similar, it is more indicative to consider the ratio of hispanic to non-hispanic in the treated to the untreated samples. The ratio of hispanic to non-hispanic in the treated is 3 times less than the one in the untreated. ***Both treated and untreated have the same \"positively skewed\" distribution with the ratio of hispanic to non-hispanic very low***, indicating the presence of a small number of hispanic in both samples."
   ]
  },
  {
   "cell_type": "markdown",
   "metadata": {},
   "source": [
    "### Feature : married"
   ]
  },
  {
   "cell_type": "code",
   "execution_count": 16,
   "metadata": {},
   "outputs": [
    {
     "data": {
      "image/png": "[encoded data removed]",
      "text/plain": [
       "<matplotlib.figure.Figure at 0x1a22402cc0>"
      ]
     },
     "metadata": {},
     "output_type": "display_data"
    }
   ],
   "source": [
    "#Description of treated group w.r.t feature married\n",
    "plt.hist(treated_df['married'],color=\"blue\")\n",
    "plt.ylabel(\"Number of individuals\")\n",
    "plt.xlabel(\"Married\")\n",
    "plt.suptitle(\"Married distribution in treated group\")\n",
    "plt.show()"
   ]
  },
  {
   "cell_type": "code",
   "execution_count": 17,
   "metadata": {},
   "outputs": [
    {
     "data": {
      "image/png": "[encoded data removed]",
      "text/plain": [
       "<matplotlib.figure.Figure at 0x1a21d182b0>"
      ]
     },
     "metadata": {},
     "output_type": "display_data"
    }
   ],
   "source": [
    "#Description of untreated group w.r.t feature married\n",
    "plt.hist(untreated_df['married'],color=\"orange\")\n",
    "plt.ylabel(\"Number of individuals\")\n",
    "plt.xlabel(\"Married\")\n",
    "plt.suptitle(\"Married distribution in untreated group\")\n",
    "plt.show()"
   ]
  },
  {
   "cell_type": "markdown",
   "metadata": {},
   "source": [
    "The ratio of unmarried (at the time of the training) in the treated group is bigger than the ratio in the untreated group (which is clear by the histogram alone). We noted before that the treated group had on average lower income and that this may be the motivation to take the training program at the first place. ***We might think that the treated group having at the time of the training program lower income would tend to be unmarried***"
   ]
  },
  {
   "cell_type": "markdown",
   "metadata": {},
   "source": [
    "### Feature : no degree"
   ]
  },
  {
   "cell_type": "code",
   "execution_count": 18,
   "metadata": {},
   "outputs": [
    {
     "data": {
      "image/png": "[encoded data removed]",
      "text/plain": [
       "<matplotlib.figure.Figure at 0x1a21cb1b00>"
      ]
     },
     "metadata": {},
     "output_type": "display_data"
    }
   ],
   "source": [
    "#Description of treated group w.r.t feature nodegree\n",
    "plt.hist(treated_df['nodegree'],color=\"blue\")\n",
    "plt.ylabel(\"Number of individuals\")\n",
    "plt.xlabel(\"No degree\")\n",
    "plt.suptitle(\"No degree distribution in treated group\")\n",
    "plt.show()"
   ]
  },
  {
   "cell_type": "code",
   "execution_count": 19,
   "metadata": {},
   "outputs": [
    {
     "data": {
      "image/png": "[encoded data removed]",
      "text/plain": [
       "<matplotlib.figure.Figure at 0x1a22237fd0>"
      ]
     },
     "metadata": {},
     "output_type": "display_data"
    }
   ],
   "source": [
    "#Description of untreated group w.r.t feature nodegree\n",
    "plt.hist(untreated_df['nodegree'],color=\"orange\")\n",
    "plt.ylabel(\"Number of individuals\")\n",
    "plt.xlabel(\"No degree\")\n",
    "plt.suptitle(\"No degree distribution in untreated group\")\n",
    "plt.show()"
   ]
  },
  {
   "cell_type": "code",
   "execution_count": 20,
   "metadata": {},
   "outputs": [
    {
     "name": "stdout",
     "output_type": "stream",
     "text": [
      "The ratio of nodegree to degree in the treated is 2.43\n",
      "The ratio of nodegree to degree in the untreated is 1.48\n"
     ]
    }
   ],
   "source": [
    "print (\"The ratio of nodegree to degree in the treated is {}\".format(round(len(treated_df[treated_df['nodegree']==1])/len(treated_df[treated_df['nodegree']==0]),2)))\n",
    "print (\"The ratio of nodegree to degree in the untreated is {}\".format(round(len(untreated_df[untreated_df['nodegree']==1])/len(untreated_df[untreated_df['nodegree']==0]),2)))\n"
   ]
  },
  {
   "cell_type": "markdown",
   "metadata": {},
   "source": [
    "The ratio is a more indicative statistic to consider, we find that the people in the treated group are less educated than the ones in the untreated group"
   ]
  },
  {
   "cell_type": "markdown",
   "metadata": {},
   "source": [
    "### Feature : re74"
   ]
  },
  {
   "cell_type": "code",
   "execution_count": 21,
   "metadata": {},
   "outputs": [
    {
     "data": {
      "image/png": "[encoded data removed]",
      "text/plain": [
       "<matplotlib.figure.Figure at 0x1a223e77f0>"
      ]
     },
     "metadata": {},
     "output_type": "display_data"
    }
   ],
   "source": [
    "#Comparing treated and untreated group w.r.t feature re74\n",
    "plt.hist(treated_df['re74'],color=\"blue\",alpha=0.5)\n",
    "plt.hist(untreated_df['re74'],color=\"orange\",alpha=0.5)\n",
    "plt.ylabel(\"Number of individuals\")\n",
    "plt.xlabel(\"Income in 1974\")\n",
    "plt.suptitle(\"Income in 1974 distribution\")\n",
    "plt.show()"
   ]
  },
  {
   "cell_type": "code",
   "execution_count": 22,
   "metadata": {},
   "outputs": [
    {
     "data": {
      "image/png": "[encoded data removed]",
      "text/plain": [
       "<matplotlib.figure.Figure at 0x1a223cdc50>"
      ]
     },
     "metadata": {},
     "output_type": "display_data"
    }
   ],
   "source": [
    "#Comparing treated and untreated group w.r.t feature re75\n",
    "plt.hist(treated_df['re75'],color=\"blue\",alpha=0.5)\n",
    "plt.hist(untreated_df['re75'],color=\"orange\",alpha=0.5)\n",
    "plt.ylabel(\"Number of individuals\")\n",
    "plt.xlabel(\"Income in 1975\")\n",
    "plt.suptitle(\"Income in 1975 distribution\")\n",
    "plt.show()"
   ]
  },
  {
   "cell_type": "markdown",
   "metadata": {},
   "source": [
    "We decided to plot the two graphs on the same one to be able to see them on the same scale. We notice that there a bit more than 50% (median) of the treated group had an income of 0 while the median of the untreated group was bigger than zero. ***We note that the average re74 and re75 for the untreated group is bigger than the treated group, which might be due to the fact that people with lower income would tend to do the job training more than the ones with already \"high\" income***"
   ]
  },
  {
   "cell_type": "markdown",
   "metadata": {},
   "source": [
    "### All features conclusion:"
   ]
  },
  {
   "cell_type": "markdown",
   "metadata": {},
   "source": [
    "The naive data scientist would have assumed that given the training program doesn't benefit the individuals by much, since people who didn't take the training had a higher salary. <br/>\n",
    "Opposite to this conclusion, we noted that the population studied as \"treated\" and \"untreated\" differ to a point that we cannot compare the two dataset. Some of the things that enforces this idea is that race/gender may influence the salary of a person (due to discrimination) and having very different distribution between the treated and untreated it is difficult to compare them without any pre-processing. In addition, we noted that people who were labeled as treated had a lower income with comparison to the people who didn't take it during the re74 and re75, this may be because people with lower income wanted to take the training to increase their salary (opposed to people who had relatively higher salary). We also note that some salaries include very large outliers that is influencing the mean in both samples that should be taken into account. Finally, we like to note that the number of people who were untreated is 2.3 times higher than the treated ones."
   ]
  },
  {
   "cell_type": "markdown",
   "metadata": {},
   "source": [
    "# 3. A propensity score model"
   ]
  },
  {
   "cell_type": "code",
   "execution_count": 23,
   "metadata": {},
   "outputs": [
    {
     "data": {
      "image/png": "[encoded data removed]",
      "text/plain": [
       "<matplotlib.figure.Figure at 0x1a223fa8d0>"
      ]
     },
     "metadata": {},
     "output_type": "display_data"
    }
   ],
   "source": [
    "logistic = linear_model.LogisticRegression()\n",
    "#Get target and features\n",
    "df_target = df.iloc[:,1]\n",
    "df_features = df.iloc[:,2:10]\n",
    "\n",
    "#Fit model\n",
    "logistic.fit(df_features,df_target)\n",
    "y_prob = logistic.predict_proba(df_features)\n",
    "\n",
    "#Get predicted labels\n",
    "y_pred = logistic.predict(df_features)\n",
    "\n",
    "#y_prob is the probability of someone belonging to group untreated and treated\n",
    "#y_prob[:,1] is the probability of belonging to the group treated\n",
    "plt.hist(y_prob[:,1])\n",
    "plt.ylabel(\"Number of individuals\")\n",
    "plt.xlabel(\"Propensity score\")\n",
    "plt.suptitle(\"Propensity score distribution for treated and control groups\")\n",
    "plt.show()"
   ]
  },
  {
   "cell_type": "markdown",
   "metadata": {
    "collapsed": true
   },
   "source": [
    "# 4. Balancing the dataset via matching"
   ]
  },
  {
   "cell_type": "markdown",
   "metadata": {},
   "source": [
    "When creating the graph, we will only connect the nodes that are from different classes (treated and untreated). ***There will be no connection between the same class***. In addition, ***we will put the weight for each edge to be equal to the inverse of the absolute difference between their propensity score. The reason being that networkx has a max_weight_matching so to get the minimum difference we would need to inverse it***"
   ]
  },
  {
   "cell_type": "code",
   "execution_count": 32,
   "metadata": {
    "collapsed": true
   },
   "outputs": [],
   "source": [
    "#Create an empty graph to fill\n",
    "G = nx.empty_graph()\n",
    "\n",
    "#Use a color map for visualization. \n",
    "#We follow the same schema as before but now we color based on the probability of belonging to treated or untreated group.\n",
    "color_map = []\n",
    "#Create the nodes without connecting them\n",
    "for i in range(0,len(y_prob[:,1])):\n",
    "    G.add_node(i)\n",
    "    if(df_target[i] == 0):\n",
    "        color_map.append('orange')\n",
    "    else:\n",
    "        color_map.append('blue')\n",
    "\n",
    "# Connect the nodes with edges of values the inverse of the absolute difference between the probabilities\n",
    "# Later we will use the get max, since we want to get the minimum distance we will inverse them here\n",
    "for i in range(0,len(y_prob[:,1])-1):\n",
    "    for j in range(i+1,len(y_prob[:,1])):\n",
    "        if(((df_target[i] == 0 and df_target[j] == 1) or (df_target[i] == 1 and df_target[j] == 0)) and (not G.has_edge(i,j))):\n",
    "            if (abs(y_prob[i,1]-y_prob[j,1]) <= 0.000000000001): #To avoid overflow\n",
    "                G.add_edge(i,j,weight=1000000000000) # Set it as an upper limit\n",
    "            else:\n",
    "                G.add_edge(i,j,weight=(1/abs(y_prob[i,1]-y_prob[j,1])))\n"
   ]
  },
  {
   "cell_type": "code",
   "execution_count": 33,
   "metadata": {},
   "outputs": [
    {
     "data": {
      "image/png": "[encoded data removed]",
      "text/plain": [
       "<matplotlib.figure.Figure at 0x1a21d9c7f0>"
      ]
     },
     "metadata": {},
     "output_type": "display_data"
    }
   ],
   "source": [
    "#Visualize the graph\n",
    "nx.draw(G,node_color = color_map)"
   ]
  },
  {
   "cell_type": "markdown",
   "metadata": {},
   "source": [
    "***The max_weight_matching function matches a subset of edges in which no node occurs more than once. The cardinality of a matching is the number of matched edges. It picks for each node the one that is furthest away from all of its connections (which in our case means the most similar to it).***"
   ]
  },
  {
   "cell_type": "code",
   "execution_count": 34,
   "metadata": {
    "collapsed": true
   },
   "outputs": [],
   "source": [
    "#Get the maximal matching based on the weights of the edges\n",
    "#which will give us the indices of the pairs from the untreated to map \n",
    "#to the indices in the treated\n",
    "matching = nx.max_weight_matching(G)"
   ]
  },
  {
   "cell_type": "code",
   "execution_count": 35,
   "metadata": {},
   "outputs": [
    {
     "name": "stdout",
     "output_type": "stream",
     "text": [
      "The number of pairs found in the max_weight_matching/2 of the graph is 185.0,\n",
      "which is equal to the min of the number of samples predicted to be treated and untreated which is : 185\n"
     ]
    }
   ],
   "source": [
    "count_treated = 0\n",
    "count_untreated = 0\n",
    "for i in range(0,len(y_prob[:,1])):\n",
    "    if df_target[i] == 1:\n",
    "        count_treated += 1\n",
    "    else:\n",
    "        count_untreated += 1\n",
    "\n",
    "#Compare the number of pairs w.r.t. the bottleneck of the two classes (in our case the treated group)\n",
    "#We divided by two to avoid redundant edges\n",
    "print (\"The number of pairs found in the max_weight_matching/2 of the graph is {},\\nwhich is equal to the min of the number of samples predicted to be treated and untreated which is : {}\".format(len(matching)/2,min(count_untreated,count_treated)))\n"
   ]
  },
  {
   "cell_type": "code",
   "execution_count": 36,
   "metadata": {},
   "outputs": [
    {
     "name": "stdout",
     "output_type": "stream",
     "text": [
      "The number of edges, which is 185, does correspond to the number of samples in the bottleneck group which is the treated group\n"
     ]
    },
    {
     "data": {
      "image/png": "[encoded data removed]",
      "text/plain": [
       "<matplotlib.figure.Figure at 0x1a2203c048>"
      ]
     },
     "metadata": {},
     "output_type": "display_data"
    }
   ],
   "source": [
    "#Draw new graph with edges from the max_weight_matching\n",
    "G_max = nx.empty_graph()\n",
    "\n",
    "for i in range(0,len(y_prob[:,1])):\n",
    "    G_max.add_node(i)\n",
    "    if(df_target[i] == 0):\n",
    "        color_map.append('orange')\n",
    "    else:\n",
    "        color_map.append('blue')\n",
    "\n",
    "\n",
    "for node in matching:\n",
    "    if(not G_max.has_edge(node,matching[node])):\n",
    "        G_max.add_edge(node,matching[node])\n",
    "        \n",
    "nx.draw(G_max,node_color = color_map)\n",
    "print (\"The number of edges, which is {}, does correspond to the number of samples in the bottleneck group which is the treated group\".format(G_max.number_of_edges()))"
   ]
  },
  {
   "cell_type": "code",
   "execution_count": 39,
   "metadata": {},
   "outputs": [
    {
     "name": "stdout",
     "output_type": "stream",
     "text": [
      "185\n",
      "185\n"
     ]
    }
   ],
   "source": [
    "#Create treated and untreated df based on the matched pairs\n",
    "index_treated = []\n",
    "index_untreated = []\n",
    "\n",
    "for index in matching:\n",
    "    if(df_target[index] == 0):\n",
    "        index_untreated.append(index)\n",
    "    else:\n",
    "        index_treated.append(index)\n",
    "        \n",
    "        \n",
    "#Check that they are the same\n",
    "#They contain the indices of the elements from the initial dataframe\n",
    "print (len(index_untreated))\n",
    "print (len(index_treated))"
   ]
  },
  {
   "cell_type": "code",
   "execution_count": 40,
   "metadata": {},
   "outputs": [
    {
     "data": {
      "text/html": [
       "<div>\n",
       "<style>\n",
       "    .dataframe thead tr:only-child th {\n",
       "        text-align: right;\n",
       "    }\n",
       "\n",
       "    .dataframe thead th {\n",
       "        text-align: left;\n",
       "    }\n",
       "\n",
       "    .dataframe tbody tr th {\n",
       "        vertical-align: top;\n",
       "    }\n",
       "</style>\n",
       "<table border=\"1\" class=\"dataframe\">\n",
       "  <thead>\n",
       "    <tr style=\"text-align: right;\">\n",
       "      <th></th>\n",
       "      <th>id</th>\n",
       "      <th>treat</th>\n",
       "      <th>age</th>\n",
       "      <th>educ</th>\n",
       "      <th>black</th>\n",
       "      <th>hispan</th>\n",
       "      <th>married</th>\n",
       "      <th>nodegree</th>\n",
       "      <th>re74</th>\n",
       "      <th>re75</th>\n",
       "      <th>re78</th>\n",
       "    </tr>\n",
       "  </thead>\n",
       "  <tbody>\n",
       "    <tr>\n",
       "      <th>24</th>\n",
       "      <td>NSW25</td>\n",
       "      <td>1</td>\n",
       "      <td>18</td>\n",
       "      <td>10</td>\n",
       "      <td>1</td>\n",
       "      <td>0</td>\n",
       "      <td>0</td>\n",
       "      <td>1</td>\n",
       "      <td>0.0</td>\n",
       "      <td>0.0</td>\n",
       "      <td>11163.170</td>\n",
       "    </tr>\n",
       "    <tr>\n",
       "      <th>28</th>\n",
       "      <td>NSW29</td>\n",
       "      <td>1</td>\n",
       "      <td>17</td>\n",
       "      <td>10</td>\n",
       "      <td>1</td>\n",
       "      <td>0</td>\n",
       "      <td>0</td>\n",
       "      <td>1</td>\n",
       "      <td>0.0</td>\n",
       "      <td>0.0</td>\n",
       "      <td>16218.040</td>\n",
       "    </tr>\n",
       "    <tr>\n",
       "      <th>42</th>\n",
       "      <td>NSW43</td>\n",
       "      <td>1</td>\n",
       "      <td>17</td>\n",
       "      <td>8</td>\n",
       "      <td>1</td>\n",
       "      <td>0</td>\n",
       "      <td>0</td>\n",
       "      <td>1</td>\n",
       "      <td>0.0</td>\n",
       "      <td>0.0</td>\n",
       "      <td>8061.485</td>\n",
       "    </tr>\n",
       "    <tr>\n",
       "      <th>30</th>\n",
       "      <td>NSW31</td>\n",
       "      <td>1</td>\n",
       "      <td>17</td>\n",
       "      <td>10</td>\n",
       "      <td>1</td>\n",
       "      <td>0</td>\n",
       "      <td>0</td>\n",
       "      <td>1</td>\n",
       "      <td>0.0</td>\n",
       "      <td>0.0</td>\n",
       "      <td>0.000</td>\n",
       "    </tr>\n",
       "    <tr>\n",
       "      <th>52</th>\n",
       "      <td>NSW53</td>\n",
       "      <td>1</td>\n",
       "      <td>18</td>\n",
       "      <td>11</td>\n",
       "      <td>1</td>\n",
       "      <td>0</td>\n",
       "      <td>0</td>\n",
       "      <td>1</td>\n",
       "      <td>0.0</td>\n",
       "      <td>0.0</td>\n",
       "      <td>0.000</td>\n",
       "    </tr>\n",
       "  </tbody>\n",
       "</table>\n",
       "</div>"
      ],
      "text/plain": [
       "       id  treat  age  educ  black  hispan  married  nodegree  re74  re75  \\\n",
       "24  NSW25      1   18    10      1       0        0         1   0.0   0.0   \n",
       "28  NSW29      1   17    10      1       0        0         1   0.0   0.0   \n",
       "42  NSW43      1   17     8      1       0        0         1   0.0   0.0   \n",
       "30  NSW31      1   17    10      1       0        0         1   0.0   0.0   \n",
       "52  NSW53      1   18    11      1       0        0         1   0.0   0.0   \n",
       "\n",
       "         re78  \n",
       "24  11163.170  \n",
       "28  16218.040  \n",
       "42   8061.485  \n",
       "30      0.000  \n",
       "52      0.000  "
      ]
     },
     "execution_count": 40,
     "metadata": {},
     "output_type": "execute_result"
    }
   ],
   "source": [
    "#Dataframe of treated based on the matched pairs\n",
    "df_treated_matched = df.iloc[index_treated,:]\n",
    "df_treated_matched.head()"
   ]
  },
  {
   "cell_type": "code",
   "execution_count": 41,
   "metadata": {},
   "outputs": [
    {
     "data": {
      "text/html": [
       "<div>\n",
       "<style>\n",
       "    .dataframe thead tr:only-child th {\n",
       "        text-align: right;\n",
       "    }\n",
       "\n",
       "    .dataframe thead th {\n",
       "        text-align: left;\n",
       "    }\n",
       "\n",
       "    .dataframe tbody tr th {\n",
       "        vertical-align: top;\n",
       "    }\n",
       "</style>\n",
       "<table border=\"1\" class=\"dataframe\">\n",
       "  <thead>\n",
       "    <tr style=\"text-align: right;\">\n",
       "      <th></th>\n",
       "      <th>id</th>\n",
       "      <th>treat</th>\n",
       "      <th>age</th>\n",
       "      <th>educ</th>\n",
       "      <th>black</th>\n",
       "      <th>hispan</th>\n",
       "      <th>married</th>\n",
       "      <th>nodegree</th>\n",
       "      <th>re74</th>\n",
       "      <th>re75</th>\n",
       "      <th>re78</th>\n",
       "    </tr>\n",
       "  </thead>\n",
       "  <tbody>\n",
       "    <tr>\n",
       "      <th>595</th>\n",
       "      <td>PSID411</td>\n",
       "      <td>0</td>\n",
       "      <td>18</td>\n",
       "      <td>10</td>\n",
       "      <td>1</td>\n",
       "      <td>0</td>\n",
       "      <td>0</td>\n",
       "      <td>1</td>\n",
       "      <td>0.0</td>\n",
       "      <td>0.0</td>\n",
       "      <td>5306.516</td>\n",
       "    </tr>\n",
       "    <tr>\n",
       "      <th>585</th>\n",
       "      <td>PSID401</td>\n",
       "      <td>0</td>\n",
       "      <td>17</td>\n",
       "      <td>10</td>\n",
       "      <td>1</td>\n",
       "      <td>0</td>\n",
       "      <td>0</td>\n",
       "      <td>1</td>\n",
       "      <td>0.0</td>\n",
       "      <td>0.0</td>\n",
       "      <td>1053.619</td>\n",
       "    </tr>\n",
       "    <tr>\n",
       "      <th>582</th>\n",
       "      <td>PSID398</td>\n",
       "      <td>0</td>\n",
       "      <td>17</td>\n",
       "      <td>8</td>\n",
       "      <td>1</td>\n",
       "      <td>0</td>\n",
       "      <td>0</td>\n",
       "      <td>1</td>\n",
       "      <td>0.0</td>\n",
       "      <td>0.0</td>\n",
       "      <td>4520.366</td>\n",
       "    </tr>\n",
       "    <tr>\n",
       "      <th>576</th>\n",
       "      <td>PSID392</td>\n",
       "      <td>0</td>\n",
       "      <td>17</td>\n",
       "      <td>10</td>\n",
       "      <td>1</td>\n",
       "      <td>0</td>\n",
       "      <td>0</td>\n",
       "      <td>1</td>\n",
       "      <td>0.0</td>\n",
       "      <td>0.0</td>\n",
       "      <td>0.000</td>\n",
       "    </tr>\n",
       "    <tr>\n",
       "      <th>573</th>\n",
       "      <td>PSID389</td>\n",
       "      <td>0</td>\n",
       "      <td>18</td>\n",
       "      <td>11</td>\n",
       "      <td>1</td>\n",
       "      <td>0</td>\n",
       "      <td>0</td>\n",
       "      <td>1</td>\n",
       "      <td>0.0</td>\n",
       "      <td>0.0</td>\n",
       "      <td>7146.286</td>\n",
       "    </tr>\n",
       "  </tbody>\n",
       "</table>\n",
       "</div>"
      ],
      "text/plain": [
       "          id  treat  age  educ  black  hispan  married  nodegree  re74  re75  \\\n",
       "595  PSID411      0   18    10      1       0        0         1   0.0   0.0   \n",
       "585  PSID401      0   17    10      1       0        0         1   0.0   0.0   \n",
       "582  PSID398      0   17     8      1       0        0         1   0.0   0.0   \n",
       "576  PSID392      0   17    10      1       0        0         1   0.0   0.0   \n",
       "573  PSID389      0   18    11      1       0        0         1   0.0   0.0   \n",
       "\n",
       "         re78  \n",
       "595  5306.516  \n",
       "585  1053.619  \n",
       "582  4520.366  \n",
       "576     0.000  \n",
       "573  7146.286  "
      ]
     },
     "execution_count": 41,
     "metadata": {},
     "output_type": "execute_result"
    }
   ],
   "source": [
    "#Dataframe of untreated based on the matched pairs\n",
    "df_untreated_matched = df.iloc[index_untreated,:]\n",
    "df_untreated_matched.head()"
   ]
  },
  {
   "cell_type": "markdown",
   "metadata": {},
   "source": [
    "### Comparing the outcomes of the two groups"
   ]
  },
  {
   "cell_type": "code",
   "execution_count": 42,
   "metadata": {},
   "outputs": [
    {
     "data": {
      "image/png": "[encoded data removed]",
      "text/plain": [
       "<matplotlib.figure.Figure at 0x1a26252f28>"
      ]
     },
     "metadata": {},
     "output_type": "display_data"
    }
   ],
   "source": [
    "plt.hist(df_treated_matched['re78'],color=\"blue\",alpha=0.5)\n",
    "plt.hist(df_untreated_matched['re78'],color=\"orange\",alpha=0.5)\n",
    "plt.ylabel(\"Number of individuals\")\n",
    "plt.xlabel(\"Income in 1978\")\n",
    "plt.suptitle(\"Income in 1978 distribution\")\n",
    "plt.show()"
   ]
  },
  {
   "cell_type": "code",
   "execution_count": 46,
   "metadata": {},
   "outputs": [
    {
     "name": "stdout",
     "output_type": "stream",
     "text": [
      "The mean for the treated group is 6349.143530270271\n",
      "The mean for the untreated group is 5312.474907297297\n"
     ]
    }
   ],
   "source": [
    "print (\"The mean for the treated group is {}\".format(df_treated_matched['re78'].mean()))\n",
    "print (\"The mean for the untreated group is {}\".format(df_untreated_matched['re78'].mean()))"
   ]
  },
  {
   "cell_type": "markdown",
   "metadata": {},
   "source": [
    "We would like to note the fact that ***now both treated and untreated groups have the same number of samples***. We can clearly see from the mean of both groups, that the outcome of the treated group is higher than the untreated group, implying that the program did actually improve. ***However, we will see in the next part that some features are not that similar and may cause our control group not to be comparable with our treat group***"
   ]
  },
  {
   "cell_type": "code",
   "execution_count": 47,
   "metadata": {},
   "outputs": [
    {
     "data": {
      "text/html": [
       "<div>\n",
       "<style>\n",
       "    .dataframe thead tr:only-child th {\n",
       "        text-align: right;\n",
       "    }\n",
       "\n",
       "    .dataframe thead th {\n",
       "        text-align: left;\n",
       "    }\n",
       "\n",
       "    .dataframe tbody tr th {\n",
       "        vertical-align: top;\n",
       "    }\n",
       "</style>\n",
       "<table border=\"1\" class=\"dataframe\">\n",
       "  <thead>\n",
       "    <tr>\n",
       "      <th></th>\n",
       "      <th colspan=\"2\" halign=\"left\">age</th>\n",
       "      <th colspan=\"2\" halign=\"left\">educ</th>\n",
       "      <th colspan=\"2\" halign=\"left\">black</th>\n",
       "      <th colspan=\"2\" halign=\"left\">hispan</th>\n",
       "      <th colspan=\"2\" halign=\"left\">married</th>\n",
       "      <th colspan=\"2\" halign=\"left\">nodegree</th>\n",
       "      <th colspan=\"2\" halign=\"left\">re74</th>\n",
       "      <th colspan=\"2\" halign=\"left\">re75</th>\n",
       "    </tr>\n",
       "    <tr>\n",
       "      <th></th>\n",
       "      <th>Treated Group</th>\n",
       "      <th>Untreated Group</th>\n",
       "      <th>Treated Group</th>\n",
       "      <th>Untreated Group</th>\n",
       "      <th>Treated Group</th>\n",
       "      <th>Untreated Group</th>\n",
       "      <th>Treated Group</th>\n",
       "      <th>Untreated Group</th>\n",
       "      <th>Treated Group</th>\n",
       "      <th>Untreated Group</th>\n",
       "      <th>Treated Group</th>\n",
       "      <th>Untreated Group</th>\n",
       "      <th>Treated Group</th>\n",
       "      <th>Untreated Group</th>\n",
       "      <th>Treated Group</th>\n",
       "      <th>Untreated Group</th>\n",
       "    </tr>\n",
       "  </thead>\n",
       "  <tbody>\n",
       "    <tr>\n",
       "      <th>count</th>\n",
       "      <td>185.000000</td>\n",
       "      <td>185.000000</td>\n",
       "      <td>185.000000</td>\n",
       "      <td>185.000000</td>\n",
       "      <td>185.000000</td>\n",
       "      <td>185.00000</td>\n",
       "      <td>185.000000</td>\n",
       "      <td>185.000000</td>\n",
       "      <td>185.000000</td>\n",
       "      <td>185.000000</td>\n",
       "      <td>185.000000</td>\n",
       "      <td>185.000000</td>\n",
       "      <td>185.000000</td>\n",
       "      <td>185.000000</td>\n",
       "      <td>185.000000</td>\n",
       "      <td>185.000000</td>\n",
       "    </tr>\n",
       "    <tr>\n",
       "      <th>mean</th>\n",
       "      <td>25.816216</td>\n",
       "      <td>23.713514</td>\n",
       "      <td>10.345946</td>\n",
       "      <td>10.162162</td>\n",
       "      <td>0.843243</td>\n",
       "      <td>0.47027</td>\n",
       "      <td>0.059459</td>\n",
       "      <td>0.118919</td>\n",
       "      <td>0.189189</td>\n",
       "      <td>0.167568</td>\n",
       "      <td>0.708108</td>\n",
       "      <td>0.627027</td>\n",
       "      <td>2095.573689</td>\n",
       "      <td>2095.885961</td>\n",
       "      <td>1532.055314</td>\n",
       "      <td>1615.306428</td>\n",
       "    </tr>\n",
       "    <tr>\n",
       "      <th>std</th>\n",
       "      <td>7.155019</td>\n",
       "      <td>9.644726</td>\n",
       "      <td>2.010650</td>\n",
       "      <td>2.861984</td>\n",
       "      <td>0.364558</td>\n",
       "      <td>0.50047</td>\n",
       "      <td>0.237124</td>\n",
       "      <td>0.324571</td>\n",
       "      <td>0.392722</td>\n",
       "      <td>0.374495</td>\n",
       "      <td>0.455867</td>\n",
       "      <td>0.484907</td>\n",
       "      <td>4886.620353</td>\n",
       "      <td>4029.201886</td>\n",
       "      <td>3219.250870</td>\n",
       "      <td>2674.747685</td>\n",
       "    </tr>\n",
       "    <tr>\n",
       "      <th>min</th>\n",
       "      <td>17.000000</td>\n",
       "      <td>16.000000</td>\n",
       "      <td>4.000000</td>\n",
       "      <td>0.000000</td>\n",
       "      <td>0.000000</td>\n",
       "      <td>0.00000</td>\n",
       "      <td>0.000000</td>\n",
       "      <td>0.000000</td>\n",
       "      <td>0.000000</td>\n",
       "      <td>0.000000</td>\n",
       "      <td>0.000000</td>\n",
       "      <td>0.000000</td>\n",
       "      <td>0.000000</td>\n",
       "      <td>0.000000</td>\n",
       "      <td>0.000000</td>\n",
       "      <td>0.000000</td>\n",
       "    </tr>\n",
       "    <tr>\n",
       "      <th>25%</th>\n",
       "      <td>20.000000</td>\n",
       "      <td>17.000000</td>\n",
       "      <td>9.000000</td>\n",
       "      <td>9.000000</td>\n",
       "      <td>1.000000</td>\n",
       "      <td>0.00000</td>\n",
       "      <td>0.000000</td>\n",
       "      <td>0.000000</td>\n",
       "      <td>0.000000</td>\n",
       "      <td>0.000000</td>\n",
       "      <td>0.000000</td>\n",
       "      <td>0.000000</td>\n",
       "      <td>0.000000</td>\n",
       "      <td>0.000000</td>\n",
       "      <td>0.000000</td>\n",
       "      <td>0.000000</td>\n",
       "    </tr>\n",
       "    <tr>\n",
       "      <th>50%</th>\n",
       "      <td>25.000000</td>\n",
       "      <td>19.000000</td>\n",
       "      <td>11.000000</td>\n",
       "      <td>10.000000</td>\n",
       "      <td>1.000000</td>\n",
       "      <td>0.00000</td>\n",
       "      <td>0.000000</td>\n",
       "      <td>0.000000</td>\n",
       "      <td>0.000000</td>\n",
       "      <td>0.000000</td>\n",
       "      <td>1.000000</td>\n",
       "      <td>1.000000</td>\n",
       "      <td>0.000000</td>\n",
       "      <td>289.971500</td>\n",
       "      <td>0.000000</td>\n",
       "      <td>451.161300</td>\n",
       "    </tr>\n",
       "    <tr>\n",
       "      <th>75%</th>\n",
       "      <td>29.000000</td>\n",
       "      <td>26.000000</td>\n",
       "      <td>12.000000</td>\n",
       "      <td>12.000000</td>\n",
       "      <td>1.000000</td>\n",
       "      <td>1.00000</td>\n",
       "      <td>0.000000</td>\n",
       "      <td>0.000000</td>\n",
       "      <td>0.000000</td>\n",
       "      <td>0.000000</td>\n",
       "      <td>1.000000</td>\n",
       "      <td>1.000000</td>\n",
       "      <td>1291.468000</td>\n",
       "      <td>2068.986000</td>\n",
       "      <td>1817.284000</td>\n",
       "      <td>1890.581000</td>\n",
       "    </tr>\n",
       "    <tr>\n",
       "      <th>max</th>\n",
       "      <td>48.000000</td>\n",
       "      <td>55.000000</td>\n",
       "      <td>16.000000</td>\n",
       "      <td>18.000000</td>\n",
       "      <td>1.000000</td>\n",
       "      <td>1.00000</td>\n",
       "      <td>1.000000</td>\n",
       "      <td>1.000000</td>\n",
       "      <td>1.000000</td>\n",
       "      <td>1.000000</td>\n",
       "      <td>1.000000</td>\n",
       "      <td>1.000000</td>\n",
       "      <td>35040.070000</td>\n",
       "      <td>21918.320000</td>\n",
       "      <td>25142.240000</td>\n",
       "      <td>13776.530000</td>\n",
       "    </tr>\n",
       "  </tbody>\n",
       "</table>\n",
       "</div>"
      ],
      "text/plain": [
       "                age                          educ                  \\\n",
       "      Treated Group Untreated Group Treated Group Untreated Group   \n",
       "count    185.000000      185.000000    185.000000      185.000000   \n",
       "mean      25.816216       23.713514     10.345946       10.162162   \n",
       "std        7.155019        9.644726      2.010650        2.861984   \n",
       "min       17.000000       16.000000      4.000000        0.000000   \n",
       "25%       20.000000       17.000000      9.000000        9.000000   \n",
       "50%       25.000000       19.000000     11.000000       10.000000   \n",
       "75%       29.000000       26.000000     12.000000       12.000000   \n",
       "max       48.000000       55.000000     16.000000       18.000000   \n",
       "\n",
       "              black                        hispan                  \\\n",
       "      Treated Group Untreated Group Treated Group Untreated Group   \n",
       "count    185.000000       185.00000    185.000000      185.000000   \n",
       "mean       0.843243         0.47027      0.059459        0.118919   \n",
       "std        0.364558         0.50047      0.237124        0.324571   \n",
       "min        0.000000         0.00000      0.000000        0.000000   \n",
       "25%        1.000000         0.00000      0.000000        0.000000   \n",
       "50%        1.000000         0.00000      0.000000        0.000000   \n",
       "75%        1.000000         1.00000      0.000000        0.000000   \n",
       "max        1.000000         1.00000      1.000000        1.000000   \n",
       "\n",
       "            married                      nodegree                  \\\n",
       "      Treated Group Untreated Group Treated Group Untreated Group   \n",
       "count    185.000000      185.000000    185.000000      185.000000   \n",
       "mean       0.189189        0.167568      0.708108        0.627027   \n",
       "std        0.392722        0.374495      0.455867        0.484907   \n",
       "min        0.000000        0.000000      0.000000        0.000000   \n",
       "25%        0.000000        0.000000      0.000000        0.000000   \n",
       "50%        0.000000        0.000000      1.000000        1.000000   \n",
       "75%        0.000000        0.000000      1.000000        1.000000   \n",
       "max        1.000000        1.000000      1.000000        1.000000   \n",
       "\n",
       "               re74                          re75                  \n",
       "      Treated Group Untreated Group Treated Group Untreated Group  \n",
       "count    185.000000      185.000000    185.000000      185.000000  \n",
       "mean    2095.573689     2095.885961   1532.055314     1615.306428  \n",
       "std     4886.620353     4029.201886   3219.250870     2674.747685  \n",
       "min        0.000000        0.000000      0.000000        0.000000  \n",
       "25%        0.000000        0.000000      0.000000        0.000000  \n",
       "50%        0.000000      289.971500      0.000000      451.161300  \n",
       "75%     1291.468000     2068.986000   1817.284000     1890.581000  \n",
       "max    35040.070000    21918.320000  25142.240000    13776.530000  "
      ]
     },
     "execution_count": 47,
     "metadata": {},
     "output_type": "execute_result"
    }
   ],
   "source": [
    "#Display both descriptions in one table -- for better visualization\n",
    "#This one is for the matched groups after processing\n",
    "\n",
    "index_array = df_treated_matched.describe().index\n",
    "sum_df = pd.DataFrame(index = index_array)\n",
    "attributes = ['age','age','educ','educ','black','black','hispan','hispan','married', 'married'\n",
    "              ,'nodegree','nodegree','re74','re74','re75','re75']\n",
    "columns = [('age','Treated Group'),('age','Untreated Group'),('educ','Treated Group'),('educ','Untreated Group')\n",
    "           ,('black','Treated Group'),('black','Untreated Group'),('hispan','Treated Group'),('hispan','Untreated Group')\n",
    "           ,('married','Treated Group'),('married','Untreated Group'),('nodegree','Treated Group'),('nodegree','Untreated Group')\n",
    "          ,('re74','Treated Group'),('re74','Untreated Group'),('re75','Treated Group'),('re75','Untreated Group')]\n",
    "\n",
    "combination_df  = pd.DataFrame(index = index_array, columns = columns)\n",
    "combination_df.columns=pd.MultiIndex.from_tuples(columns)\n",
    "i = 0\n",
    "for col, att in zip(columns, attributes):\n",
    "    if i%2==0:\n",
    "        combination_df[col] = np.array(df_treated_matched[att].describe())\n",
    "    else: \n",
    "        combination_df[col] = np.array(df_untreated_matched[att].describe())\n",
    "    i+=1\n",
    "        \n",
    "combination_df"
   ]
  },
  {
   "cell_type": "markdown",
   "metadata": {},
   "source": [
    "### Features distribution"
   ]
  },
  {
   "cell_type": "code",
   "execution_count": 48,
   "metadata": {},
   "outputs": [
    {
     "data": {
      "image/png": "[encoded data removed]",
      "text/plain": [
       "<matplotlib.figure.Figure at 0x1a237d4cf8>"
      ]
     },
     "metadata": {},
     "output_type": "display_data"
    },
    {
     "data": {
      "image/png": "[encoded data removed]",
      "text/plain": [
       "<matplotlib.figure.Figure at 0x1a236faf60>"
      ]
     },
     "metadata": {},
     "output_type": "display_data"
    },
    {
     "data": {
      "image/png": "[encoded data removed]",
      "text/plain": [
       "<matplotlib.figure.Figure at 0x1a2371f0b8>"
      ]
     },
     "metadata": {},
     "output_type": "display_data"
    },
    {
     "data": {
      "image/png": "[encoded data removed]",
      "text/plain": [
       "<matplotlib.figure.Figure at 0x1a238275f8>"
      ]
     },
     "metadata": {},
     "output_type": "display_data"
    },
    {
     "data": {
      "image/png": "[encoded data removed]",
      "text/plain": [
       "<matplotlib.figure.Figure at 0x1a22482d30>"
      ]
     },
     "metadata": {},
     "output_type": "display_data"
    },
    {
     "data": {
      "image/png": "[encoded data removed]",
      "text/plain": [
       "<matplotlib.figure.Figure at 0x1a21f91f28>"
      ]
     },
     "metadata": {},
     "output_type": "display_data"
    },
    {
     "data": {
      "image/png": "[encoded data removed]",
      "text/plain": [
       "<matplotlib.figure.Figure at 0x1a236876a0>"
      ]
     },
     "metadata": {},
     "output_type": "display_data"
    },
    {
     "data": {
      "image/png": "[encoded data removed]",
      "text/plain": [
       "<matplotlib.figure.Figure at 0x1a23d0ed30>"
      ]
     },
     "metadata": {},
     "output_type": "display_data"
    }
   ],
   "source": [
    "#Age distribution\n",
    "plt.hist(df_treated_matched['age'],color=\"blue\",alpha=0.5)\n",
    "plt.hist(df_untreated_matched['age'],color=\"orange\",alpha=0.5)\n",
    "plt.ylabel(\"Number of individuals\")\n",
    "plt.xlabel(\"Age\")\n",
    "plt.suptitle(\"Age distribution\")\n",
    "plt.show()\n",
    "\n",
    "#Educ distribution\n",
    "plt.hist(df_treated_matched['educ'],color=\"blue\",alpha=0.5)\n",
    "plt.hist(df_untreated_matched['educ'],color=\"orange\",alpha=0.5)\n",
    "plt.ylabel(\"Number of individuals\")\n",
    "plt.xlabel(\"Years of education\")\n",
    "plt.suptitle(\"Distribution of years of education\")\n",
    "plt.show()\n",
    "\n",
    "\n",
    "#Black distribution\n",
    "plt.hist(df_treated_matched['black'],color=\"blue\",alpha=0.5)\n",
    "plt.hist(df_untreated_matched['black'],color=\"orange\",alpha=0.5)\n",
    "plt.ylabel(\"Number of individuals\")\n",
    "plt.xlabel(\"Black\")\n",
    "plt.suptitle(\"Black distribution\")\n",
    "plt.show()\n",
    "\n",
    "#Hispanic distribution\n",
    "plt.hist(df_treated_matched['hispan'],color=\"blue\",alpha=0.5)\n",
    "plt.hist(df_untreated_matched['hispan'],color=\"orange\",alpha=0.5)\n",
    "plt.ylabel(\"Number of individuals\")\n",
    "plt.xlabel(\"Hispanic\")\n",
    "plt.suptitle(\"Hispanic distribution\")\n",
    "plt.show()\n",
    "\n",
    "#Married distribution\n",
    "plt.hist(df_treated_matched['married'],color=\"blue\",alpha=0.5)\n",
    "plt.hist(df_untreated_matched['married'],color=\"orange\",alpha=0.5)\n",
    "plt.ylabel(\"Number of individuals\")\n",
    "plt.xlabel(\"Married\")\n",
    "plt.suptitle(\"Married distribution\")\n",
    "plt.show()\n",
    "\n",
    "#No degree distribution\n",
    "plt.hist(df_treated_matched['nodegree'],color=\"blue\",alpha=0.5)\n",
    "plt.hist(df_untreated_matched['nodegree'],color=\"orange\",alpha=0.5)\n",
    "plt.ylabel(\"Number of individuals\")\n",
    "plt.xlabel(\"No Degree\")\n",
    "plt.suptitle(\"No Degree distribution\")\n",
    "plt.show()\n",
    "\n",
    "#re74 distribution\n",
    "plt.hist(df_treated_matched['re74'],color=\"blue\",alpha=0.5)\n",
    "plt.hist(df_untreated_matched['re74'],color=\"orange\",alpha=0.5)\n",
    "plt.ylabel(\"Number of individuals\")\n",
    "plt.xlabel(\"Real earnings in 1974\")\n",
    "plt.suptitle(\"Real earnings in 1974 distribution\")\n",
    "plt.show()\n",
    "\n",
    "#re75 distribution\n",
    "plt.hist(df_treated_matched['re75'],color=\"blue\",alpha=0.5)\n",
    "plt.hist(df_untreated_matched['re75'],color=\"orange\",alpha=0.5)\n",
    "plt.ylabel(\"Number of individuals\")\n",
    "plt.xlabel(\"Real earnings in 1975\")\n",
    "plt.suptitle(\"Real earnings in 1975 distribution\")\n",
    "plt.show()"
   ]
  },
  {
   "cell_type": "markdown",
   "metadata": {},
   "source": [
    "### Comments on features distribution: <br/>\n",
    "After examining the distribution of the features of the two groups, we note that our model did in fact gather individuals that are very similar to each other. ***All the features except black have similar distributions (mean, standard deviation as well as median (percentiles))***. We have reached a good similarity except for the race feature and more specifically the number of black individuals in both groups."
   ]
  },
  {
   "cell_type": "markdown",
   "metadata": {},
   "source": [
    "### 5. Balancing the groups further"
   ]
  },
  {
   "cell_type": "markdown",
   "metadata": {},
   "source": [
    "As mentioned before, the results we reached are not satisfying, the reason is that there is still a clear discrepancy regarding the feature black. <br/>\n",
    "***Given the previous argument, we need to improve more our grouping***"
   ]
  },
  {
   "cell_type": "code",
   "execution_count": 50,
   "metadata": {},
   "outputs": [
    {
     "name": "stdout",
     "output_type": "stream",
     "text": [
      "156   185\n",
      "87   429\n"
     ]
    }
   ],
   "source": [
    "#Get the number of black individuals from the original set\n",
    "print (len(treated_df[treated_df['black']==1]) , \" \", len(treated_df))\n",
    "print (len(untreated_df[untreated_df['black']==1]), \" \", len(untreated_df))"
   ]
  },
  {
   "cell_type": "markdown",
   "metadata": {},
   "source": [
    "***A better way to do this is to repeat part 4 but this time only connect individuals from separate groups (treated and untreated/control) AND having the same race (black, white, hispanic)*** <br/>\n",
    "Note that white is if the sample is not black or hispanic (from the given)"
   ]
  },
  {
   "cell_type": "code",
   "execution_count": 51,
   "metadata": {},
   "outputs": [
    {
     "name": "stdout",
     "output_type": "stream",
     "text": [
      "19277\n"
     ]
    },
    {
     "data": {
      "image/png": "[encoded data removed]",
      "text/plain": [
       "<matplotlib.figure.Figure at 0x1a237bcda0>"
      ]
     },
     "metadata": {},
     "output_type": "display_data"
    }
   ],
   "source": [
    "#Create an empty graph to fill\n",
    "G_further = nx.empty_graph()\n",
    "\n",
    "#Use a color map for visualization. \n",
    "#We follow the same schema as before but now we color based on the probability of belonging to treated or untreated group.\n",
    "color_map = []\n",
    "#Create the nodes without connecting them\n",
    "for i in range(0,len(y_prob[:,1])):\n",
    "    G_further.add_node(i)\n",
    "    if(df_target[i] == 0):\n",
    "        color_map.append('orange')\n",
    "    else:\n",
    "        color_map.append('blue')\n",
    "\n",
    "#Connect the nodes with edges of values the inverse of the absolute difference between the probabilities\n",
    "for i in range(0,len(y_prob[:,1])-1):\n",
    "    for j in range(i+1,len(y_prob[:,1])):\n",
    "        if(((df_target[i] == 0 and df_target[j] == 1) or (df_target[i] == 1 and df_target[j] == 0)) and (not G_further.has_edge(i,j)) and (df['black'][i] == df['black'][j]) and (df['hispan'][i] == df['hispan'][j])):\n",
    "            if (abs(y_prob[i,1]-y_prob[j,1]) <= 0.000000000001): #To avoid overflow\n",
    "                G.add_edge(i,j,weight=1000000000000) # Set it as an upper limit\n",
    "            else:\n",
    "                G_further.add_edge(i,j,weight=(1/abs(y_prob[i,1]-y_prob[j,1])))\n",
    "\n",
    "\n",
    "#Print number of edges\n",
    "print (G_further.number_of_edges())\n",
    "\n",
    "#Visualize the graph\n",
    "nx.draw(G_further,node_color = color_map)   "
   ]
  },
  {
   "cell_type": "code",
   "execution_count": 52,
   "metadata": {
    "collapsed": true
   },
   "outputs": [],
   "source": [
    "#Get the maximal matching based on the weights of the edges\n",
    "#which will give us the indices of the pairs from the untreated to map \n",
    "#to the indices in the treated\n",
    "matching = nx.max_weight_matching(G_further)"
   ]
  },
  {
   "cell_type": "code",
   "execution_count": 54,
   "metadata": {},
   "outputs": [
    {
     "name": "stdout",
     "output_type": "stream",
     "text": [
      "116\n",
      "116\n"
     ]
    }
   ],
   "source": [
    "#Create treated and untreated df based on the matched pairs\n",
    "index_treated_new = []\n",
    "index_untreated_new = []\n",
    "\n",
    "for index in matching:\n",
    "    if(df_target[index] == 0):\n",
    "        index_untreated_new.append(index)\n",
    "    else:\n",
    "        index_treated_new.append(index)\n",
    "        \n",
    "        \n",
    "#Check that they are the same\n",
    "#They contain the indices of the elements from the initial dataframe\n",
    "print (len(index_untreated_new))\n",
    "print (len(index_treated_new))"
   ]
  },
  {
   "cell_type": "markdown",
   "metadata": {},
   "source": [
    "***Note here that the number of samples has droped from 185 to 116, the reason is that we are matching unique pairs and only the ones that have the same race.***"
   ]
  },
  {
   "cell_type": "code",
   "execution_count": 55,
   "metadata": {
    "collapsed": true
   },
   "outputs": [],
   "source": [
    "#Dataframe of treated and untreated based on the matched pairs\n",
    "df_treated_matched_new = df.iloc[index_treated_new,:]\n",
    "df_untreated_matched_new = df.iloc[index_untreated_new,:]"
   ]
  },
  {
   "cell_type": "code",
   "execution_count": 56,
   "metadata": {},
   "outputs": [
    {
     "data": {
      "text/html": [
       "<div>\n",
       "<style>\n",
       "    .dataframe thead tr:only-child th {\n",
       "        text-align: right;\n",
       "    }\n",
       "\n",
       "    .dataframe thead th {\n",
       "        text-align: left;\n",
       "    }\n",
       "\n",
       "    .dataframe tbody tr th {\n",
       "        vertical-align: top;\n",
       "    }\n",
       "</style>\n",
       "<table border=\"1\" class=\"dataframe\">\n",
       "  <thead>\n",
       "    <tr>\n",
       "      <th></th>\n",
       "      <th colspan=\"2\" halign=\"left\">age</th>\n",
       "      <th colspan=\"2\" halign=\"left\">educ</th>\n",
       "      <th colspan=\"2\" halign=\"left\">black</th>\n",
       "      <th colspan=\"2\" halign=\"left\">hispan</th>\n",
       "      <th colspan=\"2\" halign=\"left\">married</th>\n",
       "      <th colspan=\"2\" halign=\"left\">nodegree</th>\n",
       "      <th colspan=\"2\" halign=\"left\">re74</th>\n",
       "      <th colspan=\"2\" halign=\"left\">re75</th>\n",
       "    </tr>\n",
       "    <tr>\n",
       "      <th></th>\n",
       "      <th>Treated Group</th>\n",
       "      <th>Untreated Group</th>\n",
       "      <th>Treated Group</th>\n",
       "      <th>Untreated Group</th>\n",
       "      <th>Treated Group</th>\n",
       "      <th>Untreated Group</th>\n",
       "      <th>Treated Group</th>\n",
       "      <th>Untreated Group</th>\n",
       "      <th>Treated Group</th>\n",
       "      <th>Untreated Group</th>\n",
       "      <th>Treated Group</th>\n",
       "      <th>Untreated Group</th>\n",
       "      <th>Treated Group</th>\n",
       "      <th>Untreated Group</th>\n",
       "      <th>Treated Group</th>\n",
       "      <th>Untreated Group</th>\n",
       "    </tr>\n",
       "  </thead>\n",
       "  <tbody>\n",
       "    <tr>\n",
       "      <th>count</th>\n",
       "      <td>116.000000</td>\n",
       "      <td>116.000000</td>\n",
       "      <td>116.000000</td>\n",
       "      <td>116.000000</td>\n",
       "      <td>116.000000</td>\n",
       "      <td>116.000000</td>\n",
       "      <td>116.000000</td>\n",
       "      <td>116.000000</td>\n",
       "      <td>116.000000</td>\n",
       "      <td>116.000000</td>\n",
       "      <td>116.000000</td>\n",
       "      <td>116.000000</td>\n",
       "      <td>116.000000</td>\n",
       "      <td>116.000000</td>\n",
       "      <td>116.000000</td>\n",
       "      <td>116.000000</td>\n",
       "    </tr>\n",
       "    <tr>\n",
       "      <th>mean</th>\n",
       "      <td>26.043103</td>\n",
       "      <td>25.250000</td>\n",
       "      <td>10.310345</td>\n",
       "      <td>10.224138</td>\n",
       "      <td>0.750000</td>\n",
       "      <td>0.750000</td>\n",
       "      <td>0.094828</td>\n",
       "      <td>0.094828</td>\n",
       "      <td>0.241379</td>\n",
       "      <td>0.267241</td>\n",
       "      <td>0.689655</td>\n",
       "      <td>0.646552</td>\n",
       "      <td>2351.177641</td>\n",
       "      <td>2846.645792</td>\n",
       "      <td>1587.197686</td>\n",
       "      <td>1882.169149</td>\n",
       "    </tr>\n",
       "    <tr>\n",
       "      <th>std</th>\n",
       "      <td>7.442992</td>\n",
       "      <td>10.149213</td>\n",
       "      <td>2.144412</td>\n",
       "      <td>2.728549</td>\n",
       "      <td>0.434891</td>\n",
       "      <td>0.434891</td>\n",
       "      <td>0.294248</td>\n",
       "      <td>0.294248</td>\n",
       "      <td>0.429776</td>\n",
       "      <td>0.444439</td>\n",
       "      <td>0.464642</td>\n",
       "      <td>0.480114</td>\n",
       "      <td>5535.977124</td>\n",
       "      <td>4818.597225</td>\n",
       "      <td>3128.632029</td>\n",
       "      <td>2943.706810</td>\n",
       "    </tr>\n",
       "    <tr>\n",
       "      <th>min</th>\n",
       "      <td>17.000000</td>\n",
       "      <td>16.000000</td>\n",
       "      <td>4.000000</td>\n",
       "      <td>1.000000</td>\n",
       "      <td>0.000000</td>\n",
       "      <td>0.000000</td>\n",
       "      <td>0.000000</td>\n",
       "      <td>0.000000</td>\n",
       "      <td>0.000000</td>\n",
       "      <td>0.000000</td>\n",
       "      <td>0.000000</td>\n",
       "      <td>0.000000</td>\n",
       "      <td>0.000000</td>\n",
       "      <td>0.000000</td>\n",
       "      <td>0.000000</td>\n",
       "      <td>0.000000</td>\n",
       "    </tr>\n",
       "    <tr>\n",
       "      <th>25%</th>\n",
       "      <td>20.000000</td>\n",
       "      <td>18.000000</td>\n",
       "      <td>9.000000</td>\n",
       "      <td>9.000000</td>\n",
       "      <td>0.750000</td>\n",
       "      <td>0.750000</td>\n",
       "      <td>0.000000</td>\n",
       "      <td>0.000000</td>\n",
       "      <td>0.000000</td>\n",
       "      <td>0.000000</td>\n",
       "      <td>0.000000</td>\n",
       "      <td>0.000000</td>\n",
       "      <td>0.000000</td>\n",
       "      <td>0.000000</td>\n",
       "      <td>0.000000</td>\n",
       "      <td>0.000000</td>\n",
       "    </tr>\n",
       "    <tr>\n",
       "      <th>50%</th>\n",
       "      <td>25.000000</td>\n",
       "      <td>20.500000</td>\n",
       "      <td>11.000000</td>\n",
       "      <td>11.000000</td>\n",
       "      <td>1.000000</td>\n",
       "      <td>1.000000</td>\n",
       "      <td>0.000000</td>\n",
       "      <td>0.000000</td>\n",
       "      <td>0.000000</td>\n",
       "      <td>0.000000</td>\n",
       "      <td>1.000000</td>\n",
       "      <td>1.000000</td>\n",
       "      <td>0.000000</td>\n",
       "      <td>515.287150</td>\n",
       "      <td>0.000000</td>\n",
       "      <td>555.000000</td>\n",
       "    </tr>\n",
       "    <tr>\n",
       "      <th>75%</th>\n",
       "      <td>29.000000</td>\n",
       "      <td>30.000000</td>\n",
       "      <td>12.000000</td>\n",
       "      <td>12.000000</td>\n",
       "      <td>1.000000</td>\n",
       "      <td>1.000000</td>\n",
       "      <td>0.000000</td>\n",
       "      <td>0.000000</td>\n",
       "      <td>0.000000</td>\n",
       "      <td>1.000000</td>\n",
       "      <td>1.000000</td>\n",
       "      <td>1.000000</td>\n",
       "      <td>1171.078100</td>\n",
       "      <td>2760.117250</td>\n",
       "      <td>1677.872250</td>\n",
       "      <td>2302.802500</td>\n",
       "    </tr>\n",
       "    <tr>\n",
       "      <th>max</th>\n",
       "      <td>48.000000</td>\n",
       "      <td>55.000000</td>\n",
       "      <td>16.000000</td>\n",
       "      <td>17.000000</td>\n",
       "      <td>1.000000</td>\n",
       "      <td>1.000000</td>\n",
       "      <td>1.000000</td>\n",
       "      <td>1.000000</td>\n",
       "      <td>1.000000</td>\n",
       "      <td>1.000000</td>\n",
       "      <td>1.000000</td>\n",
       "      <td>1.000000</td>\n",
       "      <td>35040.070000</td>\n",
       "      <td>21918.320000</td>\n",
       "      <td>17976.150000</td>\n",
       "      <td>13776.530000</td>\n",
       "    </tr>\n",
       "  </tbody>\n",
       "</table>\n",
       "</div>"
      ],
      "text/plain": [
       "                age                          educ                  \\\n",
       "      Treated Group Untreated Group Treated Group Untreated Group   \n",
       "count    116.000000      116.000000    116.000000      116.000000   \n",
       "mean      26.043103       25.250000     10.310345       10.224138   \n",
       "std        7.442992       10.149213      2.144412        2.728549   \n",
       "min       17.000000       16.000000      4.000000        1.000000   \n",
       "25%       20.000000       18.000000      9.000000        9.000000   \n",
       "50%       25.000000       20.500000     11.000000       11.000000   \n",
       "75%       29.000000       30.000000     12.000000       12.000000   \n",
       "max       48.000000       55.000000     16.000000       17.000000   \n",
       "\n",
       "              black                        hispan                  \\\n",
       "      Treated Group Untreated Group Treated Group Untreated Group   \n",
       "count    116.000000      116.000000    116.000000      116.000000   \n",
       "mean       0.750000        0.750000      0.094828        0.094828   \n",
       "std        0.434891        0.434891      0.294248        0.294248   \n",
       "min        0.000000        0.000000      0.000000        0.000000   \n",
       "25%        0.750000        0.750000      0.000000        0.000000   \n",
       "50%        1.000000        1.000000      0.000000        0.000000   \n",
       "75%        1.000000        1.000000      0.000000        0.000000   \n",
       "max        1.000000        1.000000      1.000000        1.000000   \n",
       "\n",
       "            married                      nodegree                  \\\n",
       "      Treated Group Untreated Group Treated Group Untreated Group   \n",
       "count    116.000000      116.000000    116.000000      116.000000   \n",
       "mean       0.241379        0.267241      0.689655        0.646552   \n",
       "std        0.429776        0.444439      0.464642        0.480114   \n",
       "min        0.000000        0.000000      0.000000        0.000000   \n",
       "25%        0.000000        0.000000      0.000000        0.000000   \n",
       "50%        0.000000        0.000000      1.000000        1.000000   \n",
       "75%        0.000000        1.000000      1.000000        1.000000   \n",
       "max        1.000000        1.000000      1.000000        1.000000   \n",
       "\n",
       "               re74                          re75                  \n",
       "      Treated Group Untreated Group Treated Group Untreated Group  \n",
       "count    116.000000      116.000000    116.000000      116.000000  \n",
       "mean    2351.177641     2846.645792   1587.197686     1882.169149  \n",
       "std     5535.977124     4818.597225   3128.632029     2943.706810  \n",
       "min        0.000000        0.000000      0.000000        0.000000  \n",
       "25%        0.000000        0.000000      0.000000        0.000000  \n",
       "50%        0.000000      515.287150      0.000000      555.000000  \n",
       "75%     1171.078100     2760.117250   1677.872250     2302.802500  \n",
       "max    35040.070000    21918.320000  17976.150000    13776.530000  "
      ]
     },
     "execution_count": 56,
     "metadata": {},
     "output_type": "execute_result"
    }
   ],
   "source": [
    "#Display both descriptions in one table -- for better visualization\n",
    "#This one is for the matched groups after processing\n",
    "\n",
    "index_array = df_treated_matched_new.describe().index\n",
    "sum_df = pd.DataFrame(index = index_array)\n",
    "attributes = ['age','age','educ','educ','black','black','hispan','hispan','married', 'married'\n",
    "              ,'nodegree','nodegree','re74','re74','re75','re75']\n",
    "columns = [('age','Treated Group'),('age','Untreated Group'),('educ','Treated Group'),('educ','Untreated Group')\n",
    "           ,('black','Treated Group'),('black','Untreated Group'),('hispan','Treated Group'),('hispan','Untreated Group')\n",
    "           ,('married','Treated Group'),('married','Untreated Group'),('nodegree','Treated Group'),('nodegree','Untreated Group')\n",
    "          ,('re74','Treated Group'),('re74','Untreated Group'),('re75','Treated Group'),('re75','Untreated Group')]\n",
    "\n",
    "combination_df  = pd.DataFrame(index = index_array, columns = columns)\n",
    "combination_df.columns=pd.MultiIndex.from_tuples(columns)\n",
    "i = 0\n",
    "for col, att in zip(columns, attributes):\n",
    "    if i%2==0:\n",
    "        combination_df[col] = np.array(df_treated_matched_new[att].describe())\n",
    "    else: \n",
    "        combination_df[col] = np.array(df_untreated_matched_new[att].describe())\n",
    "    i+=1\n",
    "        \n",
    "combination_df"
   ]
  },
  {
   "cell_type": "markdown",
   "metadata": {},
   "source": [
    "***From the data description we find that we have a very close distribution for all the features and is an improvement from the grouping done in part 4. However, we would like to note that we lost some of our treated group as well since now we're studying 116 individuals instead of 185 (37% of our test individuals were not used)***"
   ]
  },
  {
   "cell_type": "markdown",
   "metadata": {},
   "source": [
    "# 6. A less naive analysis"
   ]
  },
  {
   "cell_type": "code",
   "execution_count": 57,
   "metadata": {},
   "outputs": [
    {
     "data": {
      "image/png": "[encoded data removed]",
      "text/plain": [
       "<matplotlib.figure.Figure at 0x1a232a5da0>"
      ]
     },
     "metadata": {},
     "output_type": "display_data"
    }
   ],
   "source": [
    "#Visualize the re78 after all processing\n",
    "plt.hist(df_treated_matched_new['re78'],color=\"blue\",alpha=0.5)\n",
    "plt.hist(df_untreated_matched_new['re78'],color=\"orange\",alpha=0.5)\n",
    "plt.show()"
   ]
  },
  {
   "cell_type": "code",
   "execution_count": 58,
   "metadata": {},
   "outputs": [
    {
     "data": {
      "text/html": [
       "<div>\n",
       "<style>\n",
       "    .dataframe thead tr:only-child th {\n",
       "        text-align: right;\n",
       "    }\n",
       "\n",
       "    .dataframe thead th {\n",
       "        text-align: left;\n",
       "    }\n",
       "\n",
       "    .dataframe tbody tr th {\n",
       "        vertical-align: top;\n",
       "    }\n",
       "</style>\n",
       "<table border=\"1\" class=\"dataframe\">\n",
       "  <thead>\n",
       "    <tr style=\"text-align: right;\">\n",
       "      <th></th>\n",
       "      <th>treat</th>\n",
       "      <th>age</th>\n",
       "      <th>educ</th>\n",
       "      <th>black</th>\n",
       "      <th>hispan</th>\n",
       "      <th>married</th>\n",
       "      <th>nodegree</th>\n",
       "      <th>re74</th>\n",
       "      <th>re75</th>\n",
       "      <th>re78</th>\n",
       "    </tr>\n",
       "  </thead>\n",
       "  <tbody>\n",
       "    <tr>\n",
       "      <th>count</th>\n",
       "      <td>116.0</td>\n",
       "      <td>116.000000</td>\n",
       "      <td>116.000000</td>\n",
       "      <td>116.000000</td>\n",
       "      <td>116.000000</td>\n",
       "      <td>116.000000</td>\n",
       "      <td>116.000000</td>\n",
       "      <td>116.000000</td>\n",
       "      <td>116.000000</td>\n",
       "      <td>116.000000</td>\n",
       "    </tr>\n",
       "    <tr>\n",
       "      <th>mean</th>\n",
       "      <td>1.0</td>\n",
       "      <td>26.043103</td>\n",
       "      <td>10.310345</td>\n",
       "      <td>0.750000</td>\n",
       "      <td>0.094828</td>\n",
       "      <td>0.241379</td>\n",
       "      <td>0.689655</td>\n",
       "      <td>2351.177641</td>\n",
       "      <td>1587.197686</td>\n",
       "      <td>7045.667114</td>\n",
       "    </tr>\n",
       "    <tr>\n",
       "      <th>std</th>\n",
       "      <td>0.0</td>\n",
       "      <td>7.442992</td>\n",
       "      <td>2.144412</td>\n",
       "      <td>0.434891</td>\n",
       "      <td>0.294248</td>\n",
       "      <td>0.429776</td>\n",
       "      <td>0.464642</td>\n",
       "      <td>5535.977124</td>\n",
       "      <td>3128.632029</td>\n",
       "      <td>8621.012734</td>\n",
       "    </tr>\n",
       "    <tr>\n",
       "      <th>min</th>\n",
       "      <td>1.0</td>\n",
       "      <td>17.000000</td>\n",
       "      <td>4.000000</td>\n",
       "      <td>0.000000</td>\n",
       "      <td>0.000000</td>\n",
       "      <td>0.000000</td>\n",
       "      <td>0.000000</td>\n",
       "      <td>0.000000</td>\n",
       "      <td>0.000000</td>\n",
       "      <td>0.000000</td>\n",
       "    </tr>\n",
       "    <tr>\n",
       "      <th>25%</th>\n",
       "      <td>1.0</td>\n",
       "      <td>20.000000</td>\n",
       "      <td>9.000000</td>\n",
       "      <td>0.750000</td>\n",
       "      <td>0.000000</td>\n",
       "      <td>0.000000</td>\n",
       "      <td>0.000000</td>\n",
       "      <td>0.000000</td>\n",
       "      <td>0.000000</td>\n",
       "      <td>672.490925</td>\n",
       "    </tr>\n",
       "    <tr>\n",
       "      <th>50%</th>\n",
       "      <td>1.0</td>\n",
       "      <td>25.000000</td>\n",
       "      <td>11.000000</td>\n",
       "      <td>1.000000</td>\n",
       "      <td>0.000000</td>\n",
       "      <td>0.000000</td>\n",
       "      <td>1.000000</td>\n",
       "      <td>0.000000</td>\n",
       "      <td>0.000000</td>\n",
       "      <td>5130.757500</td>\n",
       "    </tr>\n",
       "    <tr>\n",
       "      <th>75%</th>\n",
       "      <td>1.0</td>\n",
       "      <td>29.000000</td>\n",
       "      <td>12.000000</td>\n",
       "      <td>1.000000</td>\n",
       "      <td>0.000000</td>\n",
       "      <td>0.000000</td>\n",
       "      <td>1.000000</td>\n",
       "      <td>1171.078100</td>\n",
       "      <td>1677.872250</td>\n",
       "      <td>10011.045500</td>\n",
       "    </tr>\n",
       "    <tr>\n",
       "      <th>max</th>\n",
       "      <td>1.0</td>\n",
       "      <td>48.000000</td>\n",
       "      <td>16.000000</td>\n",
       "      <td>1.000000</td>\n",
       "      <td>1.000000</td>\n",
       "      <td>1.000000</td>\n",
       "      <td>1.000000</td>\n",
       "      <td>35040.070000</td>\n",
       "      <td>17976.150000</td>\n",
       "      <td>60307.930000</td>\n",
       "    </tr>\n",
       "  </tbody>\n",
       "</table>\n",
       "</div>"
      ],
      "text/plain": [
       "       treat         age        educ       black      hispan     married  \\\n",
       "count  116.0  116.000000  116.000000  116.000000  116.000000  116.000000   \n",
       "mean     1.0   26.043103   10.310345    0.750000    0.094828    0.241379   \n",
       "std      0.0    7.442992    2.144412    0.434891    0.294248    0.429776   \n",
       "min      1.0   17.000000    4.000000    0.000000    0.000000    0.000000   \n",
       "25%      1.0   20.000000    9.000000    0.750000    0.000000    0.000000   \n",
       "50%      1.0   25.000000   11.000000    1.000000    0.000000    0.000000   \n",
       "75%      1.0   29.000000   12.000000    1.000000    0.000000    0.000000   \n",
       "max      1.0   48.000000   16.000000    1.000000    1.000000    1.000000   \n",
       "\n",
       "         nodegree          re74          re75          re78  \n",
       "count  116.000000    116.000000    116.000000    116.000000  \n",
       "mean     0.689655   2351.177641   1587.197686   7045.667114  \n",
       "std      0.464642   5535.977124   3128.632029   8621.012734  \n",
       "min      0.000000      0.000000      0.000000      0.000000  \n",
       "25%      0.000000      0.000000      0.000000    672.490925  \n",
       "50%      1.000000      0.000000      0.000000   5130.757500  \n",
       "75%      1.000000   1171.078100   1677.872250  10011.045500  \n",
       "max      1.000000  35040.070000  17976.150000  60307.930000  "
      ]
     },
     "execution_count": 58,
     "metadata": {},
     "output_type": "execute_result"
    }
   ],
   "source": [
    "df_treated_matched_new.describe()"
   ]
  },
  {
   "cell_type": "code",
   "execution_count": 59,
   "metadata": {},
   "outputs": [
    {
     "data": {
      "text/html": [
       "<div>\n",
       "<style>\n",
       "    .dataframe thead tr:only-child th {\n",
       "        text-align: right;\n",
       "    }\n",
       "\n",
       "    .dataframe thead th {\n",
       "        text-align: left;\n",
       "    }\n",
       "\n",
       "    .dataframe tbody tr th {\n",
       "        vertical-align: top;\n",
       "    }\n",
       "</style>\n",
       "<table border=\"1\" class=\"dataframe\">\n",
       "  <thead>\n",
       "    <tr style=\"text-align: right;\">\n",
       "      <th></th>\n",
       "      <th>treat</th>\n",
       "      <th>age</th>\n",
       "      <th>educ</th>\n",
       "      <th>black</th>\n",
       "      <th>hispan</th>\n",
       "      <th>married</th>\n",
       "      <th>nodegree</th>\n",
       "      <th>re74</th>\n",
       "      <th>re75</th>\n",
       "      <th>re78</th>\n",
       "    </tr>\n",
       "  </thead>\n",
       "  <tbody>\n",
       "    <tr>\n",
       "      <th>count</th>\n",
       "      <td>116.0</td>\n",
       "      <td>116.000000</td>\n",
       "      <td>116.000000</td>\n",
       "      <td>116.000000</td>\n",
       "      <td>116.000000</td>\n",
       "      <td>116.000000</td>\n",
       "      <td>116.000000</td>\n",
       "      <td>116.000000</td>\n",
       "      <td>116.000000</td>\n",
       "      <td>116.000000</td>\n",
       "    </tr>\n",
       "    <tr>\n",
       "      <th>mean</th>\n",
       "      <td>0.0</td>\n",
       "      <td>25.250000</td>\n",
       "      <td>10.224138</td>\n",
       "      <td>0.750000</td>\n",
       "      <td>0.094828</td>\n",
       "      <td>0.267241</td>\n",
       "      <td>0.646552</td>\n",
       "      <td>2846.645792</td>\n",
       "      <td>1882.169149</td>\n",
       "      <td>4968.638912</td>\n",
       "    </tr>\n",
       "    <tr>\n",
       "      <th>std</th>\n",
       "      <td>0.0</td>\n",
       "      <td>10.149213</td>\n",
       "      <td>2.728549</td>\n",
       "      <td>0.434891</td>\n",
       "      <td>0.294248</td>\n",
       "      <td>0.444439</td>\n",
       "      <td>0.480114</td>\n",
       "      <td>4818.597225</td>\n",
       "      <td>2943.706810</td>\n",
       "      <td>5855.641206</td>\n",
       "    </tr>\n",
       "    <tr>\n",
       "      <th>min</th>\n",
       "      <td>0.0</td>\n",
       "      <td>16.000000</td>\n",
       "      <td>1.000000</td>\n",
       "      <td>0.000000</td>\n",
       "      <td>0.000000</td>\n",
       "      <td>0.000000</td>\n",
       "      <td>0.000000</td>\n",
       "      <td>0.000000</td>\n",
       "      <td>0.000000</td>\n",
       "      <td>0.000000</td>\n",
       "    </tr>\n",
       "    <tr>\n",
       "      <th>25%</th>\n",
       "      <td>0.0</td>\n",
       "      <td>18.000000</td>\n",
       "      <td>9.000000</td>\n",
       "      <td>0.750000</td>\n",
       "      <td>0.000000</td>\n",
       "      <td>0.000000</td>\n",
       "      <td>0.000000</td>\n",
       "      <td>0.000000</td>\n",
       "      <td>0.000000</td>\n",
       "      <td>0.000000</td>\n",
       "    </tr>\n",
       "    <tr>\n",
       "      <th>50%</th>\n",
       "      <td>0.0</td>\n",
       "      <td>20.500000</td>\n",
       "      <td>11.000000</td>\n",
       "      <td>1.000000</td>\n",
       "      <td>0.000000</td>\n",
       "      <td>0.000000</td>\n",
       "      <td>1.000000</td>\n",
       "      <td>515.287150</td>\n",
       "      <td>555.000000</td>\n",
       "      <td>2283.087500</td>\n",
       "    </tr>\n",
       "    <tr>\n",
       "      <th>75%</th>\n",
       "      <td>0.0</td>\n",
       "      <td>30.000000</td>\n",
       "      <td>12.000000</td>\n",
       "      <td>1.000000</td>\n",
       "      <td>0.000000</td>\n",
       "      <td>1.000000</td>\n",
       "      <td>1.000000</td>\n",
       "      <td>2760.117250</td>\n",
       "      <td>2302.802500</td>\n",
       "      <td>7866.308250</td>\n",
       "    </tr>\n",
       "    <tr>\n",
       "      <th>max</th>\n",
       "      <td>0.0</td>\n",
       "      <td>55.000000</td>\n",
       "      <td>17.000000</td>\n",
       "      <td>1.000000</td>\n",
       "      <td>1.000000</td>\n",
       "      <td>1.000000</td>\n",
       "      <td>1.000000</td>\n",
       "      <td>21918.320000</td>\n",
       "      <td>13776.530000</td>\n",
       "      <td>20243.380000</td>\n",
       "    </tr>\n",
       "  </tbody>\n",
       "</table>\n",
       "</div>"
      ],
      "text/plain": [
       "       treat         age        educ       black      hispan     married  \\\n",
       "count  116.0  116.000000  116.000000  116.000000  116.000000  116.000000   \n",
       "mean     0.0   25.250000   10.224138    0.750000    0.094828    0.267241   \n",
       "std      0.0   10.149213    2.728549    0.434891    0.294248    0.444439   \n",
       "min      0.0   16.000000    1.000000    0.000000    0.000000    0.000000   \n",
       "25%      0.0   18.000000    9.000000    0.750000    0.000000    0.000000   \n",
       "50%      0.0   20.500000   11.000000    1.000000    0.000000    0.000000   \n",
       "75%      0.0   30.000000   12.000000    1.000000    0.000000    1.000000   \n",
       "max      0.0   55.000000   17.000000    1.000000    1.000000    1.000000   \n",
       "\n",
       "         nodegree          re74          re75          re78  \n",
       "count  116.000000    116.000000    116.000000    116.000000  \n",
       "mean     0.646552   2846.645792   1882.169149   4968.638912  \n",
       "std      0.480114   4818.597225   2943.706810   5855.641206  \n",
       "min      0.000000      0.000000      0.000000      0.000000  \n",
       "25%      0.000000      0.000000      0.000000      0.000000  \n",
       "50%      1.000000    515.287150    555.000000   2283.087500  \n",
       "75%      1.000000   2760.117250   2302.802500   7866.308250  \n",
       "max      1.000000  21918.320000  13776.530000  20243.380000  "
      ]
     },
     "execution_count": 59,
     "metadata": {},
     "output_type": "execute_result"
    }
   ],
   "source": [
    "df_untreated_matched_new.describe()"
   ]
  },
  {
   "cell_type": "markdown",
   "metadata": {},
   "source": [
    "# Conclusion to first part of the homework"
   ]
  },
  {
   "cell_type": "markdown",
   "metadata": {},
   "source": [
    "***In the first part, we had individuals that are not similar to each other in many ways one of which was that the control group had an initial high salary compared to the test group, which led a naive scientist to think that the training program doesn't improve the income. However, after matching them based on their propensity score, we were able to see that the program might improve but we had a problem with the distribution of the features as theirs was a disrepancy in the distribution of the feature black. After inforcing that the match take into account the race feature, we were able to have a very close distribution for all the features between the control and test group.***\n",
    "### Now we can clearly say that the program did in fact increase the earning of the individuals who took it.\n"
   ]
  },
  {
   "cell_type": "markdown",
   "metadata": {
    "collapsed": true
   },
   "source": [
    "# Part 2"
   ]
  },
  {
   "cell_type": "code",
   "execution_count": 60,
   "metadata": {},
   "outputs": [
    {
     "data": {
      "text/html": [
       "<div>\n",
       "<style>\n",
       "    .dataframe thead tr:only-child th {\n",
       "        text-align: right;\n",
       "    }\n",
       "\n",
       "    .dataframe thead th {\n",
       "        text-align: left;\n",
       "    }\n",
       "\n",
       "    .dataframe tbody tr th {\n",
       "        vertical-align: top;\n",
       "    }\n",
       "</style>\n",
       "<table border=\"1\" class=\"dataframe\">\n",
       "  <thead>\n",
       "    <tr style=\"text-align: right;\">\n",
       "      <th></th>\n",
       "      <th>article_text</th>\n",
       "      <th>article_category</th>\n",
       "    </tr>\n",
       "  </thead>\n",
       "  <tbody>\n",
       "    <tr>\n",
       "      <th>0</th>\n",
       "      <td>I was wondering if anyone out there could enli...</td>\n",
       "      <td>7</td>\n",
       "    </tr>\n",
       "    <tr>\n",
       "      <th>1</th>\n",
       "      <td>A fair number of brave souls who upgraded thei...</td>\n",
       "      <td>4</td>\n",
       "    </tr>\n",
       "    <tr>\n",
       "      <th>2</th>\n",
       "      <td>well folks, my mac plus finally gave up the gh...</td>\n",
       "      <td>4</td>\n",
       "    </tr>\n",
       "    <tr>\n",
       "      <th>3</th>\n",
       "      <td>\\nDo you have Weitek's address/phone number?  ...</td>\n",
       "      <td>1</td>\n",
       "    </tr>\n",
       "    <tr>\n",
       "      <th>4</th>\n",
       "      <td>From article &lt;C5owCB.n3p@world.std.com&gt;, by to...</td>\n",
       "      <td>14</td>\n",
       "    </tr>\n",
       "  </tbody>\n",
       "</table>\n",
       "</div>"
      ],
      "text/plain": [
       "                                        article_text article_category\n",
       "0  I was wondering if anyone out there could enli...                7\n",
       "1  A fair number of brave souls who upgraded thei...                4\n",
       "2  well folks, my mac plus finally gave up the gh...                4\n",
       "3  \\nDo you have Weitek's address/phone number?  ...                1\n",
       "4  From article <C5owCB.n3p@world.std.com>, by to...               14"
      ]
     },
     "execution_count": 60,
     "metadata": {},
     "output_type": "execute_result"
    }
   ],
   "source": [
    "#When loading the data remove headers, footers, quotes to make sure classification won't overfit (from documentation)\n",
    "newsgroups_train = fetch_20newsgroups(subset='train',remove=('headers', 'footers', 'quotes'))\n",
    "\n",
    "#Load it into pandas DF\n",
    "news_df = pd.DataFrame(data= np.c_[newsgroups_train.data, newsgroups_train.target],\n",
    "                     columns= ['article_text','article_category'])\n",
    "news_df.head()"
   ]
  },
  {
   "cell_type": "markdown",
   "metadata": {},
   "source": [
    "## Subpart 1"
   ]
  },
  {
   "cell_type": "markdown",
   "metadata": {},
   "source": [
    "Create all the functions needed for the text preprocessing"
   ]
  },
  {
   "cell_type": "code",
   "execution_count": 62,
   "metadata": {
    "collapsed": true
   },
   "outputs": [],
   "source": [
    "def remove_link(sentence):\n",
    "    \"\"\"\n",
    "    Remove links\n",
    "    :param sentence: where we want to remove the link\n",
    "    :return: the sentence without a link\n",
    "    \"\"\"\n",
    "    result = \"\"\n",
    "    for word in sentence.split():\n",
    "        if(not(word[:4] == \"http\") and not(word[0] == '&') and not(word[len(word)-1] == ';')):\n",
    "            result += \" \" + word\n",
    "\n",
    "    #Trim result from left and right\n",
    "    return result.lstrip().rstrip()\n",
    "\n",
    "def remove_special_characters(sentence):\n",
    "    \"\"\"\n",
    "    Remove special characters\n",
    "    :param sentence: the sentence from where we remove the characters\n",
    "    :return: the sentences without the special characters\n",
    "    \"\"\"\n",
    "    sentence_no_specials = []\n",
    "    for item in sentence:\n",
    "        try:\n",
    "            sentence_no_specials.append(\n",
    "                item.replace('\\r', ' ').replace('\\n', ' ').replace('\\'','')\\\n",
    "                    .replace('.', ' ').replace(',', ' ').replace('(', ' ') \\\n",
    "                    .replace(')', ' ').replace('\"', ' ').replace('*', ' ') \\\n",
    "                    .replace('!', ' ').replace('?', ' ') \\\n",
    "                    .replace('>', ' ').replace('$', ' ') \\\n",
    "                    .replace('-', '').replace(';', ' ') \\\n",
    "                    .replace(':', ' ').replace('/', ' ').replace('#', ' ').replace('@',' '))\n",
    "        except:\n",
    "            sentence_no_specials.append(\"\")\n",
    "    \n",
    "    result = \"\"\n",
    "    for ch in sentence_no_specials:\n",
    "            result = result + ch\n",
    "    return result\n",
    "\n",
    "def remove_numerical(sentence):\n",
    "    \"\"\"\n",
    "    remove the words containing numbers\n",
    "    :param sentence: \n",
    "    :return: \n",
    "    \"\"\"\n",
    "    result = \"\"\n",
    "    for word in sentence.split():\n",
    "        new_word = ''.join([i for i in word if not i.isdigit()])\n",
    "        result = result + \" \" + new_word\n",
    "    return result\n",
    "        \n",
    "def clean_text(sentence):\n",
    "    \"\"\"\n",
    "    remove special characters, stop words and numbers, lemmatize and remove non-english words \n",
    "    :param sentence: sentence to clean\n",
    "    :param tester: which element you would like to display as an example\n",
    "    :return: the cleaned sentence\n",
    "    \"\"\"\n",
    "    lemmatizer = WordNetLemmatizer()\n",
    "\n",
    "    # Remove link\n",
    "    sentence_no_link = remove_link(sentence)\n",
    "    \n",
    "    # Remove numbers\n",
    "    sentence_no_link_no_numeric = remove_numerical(sentence_no_link)\n",
    "    \n",
    "    #Everything to lower case\n",
    "    sentence_lower_no_link_no_numeric = sentence_no_link_no_numeric.lower()\n",
    "    \n",
    "    # Remove special characters\n",
    "    sentence_no_specials = remove_special_characters(sentence_lower_no_link_no_numeric)\n",
    "    \n",
    "    # Keep only characters (if there's chinese characters for example)\n",
    "    sentence_characters_only = re.sub('[^a-z]+', ' ',sentence_no_specials)\n",
    "    \n",
    "    # Lemmatize words\n",
    "    sentence_lemmatized = \" \".join([lemmatizer.lemmatize(token) for token in sentence_characters_only.split() ])\n",
    "    \n",
    "    # Remove stop words\n",
    "    sentence_almost_finished = \" \".join([token for token in sentence_lemmatized.split() if (token not in STOPWORDS)])\n",
    "    \n",
    "    # remove words with length equal to 1\n",
    "    sentence_finished = \" \".join([token for token in sentence_almost_finished.split() \n",
    "                                                       if (len(token)>1)])\n",
    "    \n",
    "    #Trim from both ends and return sentence\n",
    "    return sentence_finished.lstrip().rstrip()\n"
   ]
  },
  {
   "cell_type": "markdown",
   "metadata": {},
   "source": [
    "In this part, we will do the preprocessing on all the dataframe (train, tune and test) because it's gonna be the same."
   ]
  },
  {
   "cell_type": "code",
   "execution_count": 63,
   "metadata": {
    "collapsed": true
   },
   "outputs": [],
   "source": [
    "# Apply preprocessing for all the dataset\n",
    "news_df['article_text'] = news_df['article_text'].apply(clean_text)"
   ]
  },
  {
   "cell_type": "markdown",
   "metadata": {},
   "source": [
    "We will be following here the instructions specified in the homework. The instructions state that we should fit a tf-idf vectorizer to our data then to split it into training, tuning and testing sets. ***However, in this case there will be a leakage from the training to the tuning and testing since the tf-idf score of a word will change if it is present in both the training and testing (if we were fitting the tf-idf on training alone, we may see different scores)***"
   ]
  },
  {
   "cell_type": "code",
   "execution_count": 64,
   "metadata": {},
   "outputs": [
    {
     "data": {
      "text/plain": [
       "(11314, 79545)"
      ]
     },
     "execution_count": 64,
     "metadata": {},
     "output_type": "execute_result"
    }
   ],
   "source": [
    "vectorizer = TfidfVectorizer()\n",
    "X_vectorized = vectorizer.fit_transform(news_df['article_text'])\n",
    "X_vectorized.shape"
   ]
  },
  {
   "cell_type": "markdown",
   "metadata": {},
   "source": [
    "Note that we do not need to standardize/normalize our data since it's been already taken care of by the fit_transform"
   ]
  },
  {
   "cell_type": "code",
   "execution_count": 65,
   "metadata": {
    "collapsed": true
   },
   "outputs": [],
   "source": [
    "# Assign random state to make results reproducible\n",
    "random_state = 1\n",
    "\n",
    "# Separate training and the rest (tuning and testing) (80%, 20%)\n",
    "y = news_df['article_category'].as_matrix()\n",
    "X_train, X_temp, y_train, y_temp = train_test_split(X_vectorized, y, test_size=0.2, random_state=random_state)\n",
    "\n",
    "# Now we will separate tuning and testing to get 10% and 10% of the initial dataframe\n",
    "X_tune, X_test, y_tune, y_test = train_test_split(X_temp, y_temp, test_size=0.5, random_state=random_state)\n"
   ]
  },
  {
   "cell_type": "markdown",
   "metadata": {},
   "source": [
    "## Subpart 2"
   ]
  },
  {
   "cell_type": "markdown",
   "metadata": {},
   "source": [
    "***Prunning is usually used to avoid overfitting of a decision tree. However, Scikit Learn's built library for Random Forest doesn't support pruning. Since it wasn't specified on how the training was supposed to be done, we will do a 5 fold cross validation on our training set and then plot the confusion matrix for the testing set.***"
   ]
  },
  {
   "cell_type": "code",
   "execution_count": 80,
   "metadata": {},
   "outputs": [
    {
     "data": {
      "text/plain": [
       "{'max_depth': 295, 'n_estimators': 26}"
      ]
     },
     "execution_count": 80,
     "metadata": {},
     "output_type": "execute_result"
    }
   ],
   "source": [
    "# tuning requested parameter\n",
    "tuned_parameters = [{'n_estimators': range(21,27,1),'max_depth':range(270,300,5)}]\n",
    "# Used 5 folds cross validation because it's better to do it this way\n",
    "# Used accuracy for scoring since we want to pick a model based on how many it classifies correctly\n",
    "clf = GridSearchCV(RandomForestClassifier(), tuned_parameters, cv=5, scoring='accuracy')\n",
    "clf.fit(X_train,y_train)\n",
    "clf.best_params_"
   ]
  },
  {
   "cell_type": "code",
   "execution_count": 81,
   "metadata": {},
   "outputs": [],
   "source": [
    "# best n_estimators and max_depth obtained using GridSearchCV\n",
    "best_n_estimator = clf.best_params_['n_estimators']\n",
    "best_max_depth = clf.best_params_['max_depth']"
   ]
  },
  {
   "cell_type": "code",
   "execution_count": 82,
   "metadata": {},
   "outputs": [
    {
     "data": {
      "text/plain": [
       "0.607773851590106"
      ]
     },
     "execution_count": 82,
     "metadata": {},
     "output_type": "execute_result"
    }
   ],
   "source": [
    "# assessing best performing regression tree on test set\n",
    "rfc = RandomForestClassifier(n_estimators=best_n_estimator, max_depth=best_max_depth)\n",
    "rfc.fit(X_train,y_train)\n",
    "y_pred = rfc.predict(X_test)\n",
    "accuracy_score(y_test, y_pred)"
   ]
  },
  {
   "cell_type": "markdown",
   "metadata": {},
   "source": [
    "***Given that we have 20 categories to classify the text, a random classifier would reach an accuracy of around 5%. This is a good way to prove that our model is actually a good model***"
   ]
  },
  {
   "cell_type": "code",
   "execution_count": 83,
   "metadata": {
    "collapsed": true
   },
   "outputs": [],
   "source": [
    "# define a function to draw the confusion matrix \n",
    "# apply normalization by setting `normalize=True`.\n",
    "# Dataset is already normalized from the tf-idf vectorizer\n",
    "def plot_confusion_matrix(cm, classes, normalize=False, title='Confusion Matrix', cmap=plt.cm.Reds):\n",
    "    plt.figure(figsize=(12,12))\n",
    "    plt.imshow(cm, interpolation='nearest',cmap=cmap)\n",
    "    plt.title(title)\n",
    "    plt.colorbar()\n",
    "    tick_marks = np.arange(len(classes))\n",
    "    plt.xticks(tick_marks, classes, rotation=45)\n",
    "    plt.yticks(tick_marks, classes)\n",
    "    if normalize:\n",
    "        cm = cm.astype('float') / cm.sum(axis=1)[:, np.newaxis]\n",
    "        print(\"Normalized confusion matrix\")\n",
    "    else:\n",
    "        print('Confusion matrix, without normalization')\n",
    "    \n",
    "    print(cm)\n",
    "    thresh = cm.max() / 2.\n",
    "    for i, j in itertools.product(range(cm.shape[0]), range(cm.shape[1])):\n",
    "        plt.text(j, i, round (cm[i, j],2), horizontalalignment=\"center\",\n",
    "                 color=\"white\" if cm[i, j] > thresh else \"black\")\n",
    "    plt.ylabel('Actual label')\n",
    "    plt.xlabel('Predicted label')\n",
    "    plt.show()"
   ]
  },
  {
   "cell_type": "code",
   "execution_count": 84,
   "metadata": {},
   "outputs": [
    {
     "name": "stdout",
     "output_type": "stream",
     "text": [
      "Confusion matrix, without normalization\n",
      "[[23  0  1  0  0  4  1 10  6  2  1  2  0  0  1  0  0  0  3  0]\n",
      " [ 1 41  0  0  1  0  2  0  0  0  0  0  3  1  1  2  1  0  0  1]\n",
      " [ 0  1 41  0  0  1  2  1  0  1  1  1  0  0  0  0  2  1  4  4]\n",
      " [ 0  0  2 47  3  1  1  0  1  0  0  0  1  0  0  0  0  1  3  0]\n",
      " [ 0  4  1  0 29  0  4  0  0  0  0  0  1  3  2  2  2  7  2  2]\n",
      " [ 0  3  1  0  0 36  3  2  1  0  0  0  0  0  0  1  2  4  1  1]\n",
      " [ 2  4  0  0  1  1 33  0  1  0  1  1  3  1  1  1  0  1  4  1]\n",
      " [ 5  0  1  0  0  2  0 44  0  3  0  3  0  1  0  0  0  2  3  3]\n",
      " [ 0  0  0  3  1  1  0  1 39  0  1  1  1  0  1  0  0  1  3  3]\n",
      " [ 2  0  0  0  0  1  1  2  1 42  2  1  0  0  2  0  0  2  6  4]\n",
      " [ 3  1  3  1  2  2  1  2  5  1 17  0  1  0  1  0  1  1  6  4]\n",
      " [ 8  0  0  2  0  3  2  8  6  1  0  4  1  0  0  1  0  2  5  1]\n",
      " [ 0  2  0  1  1  0  0  0  0  0  0  0 33  3  3 10  2  0  2  0]\n",
      " [ 0  5  0  1  4  0  0  0  0  0  0  0  2 35  5  1  6  1  1  0]\n",
      " [ 0  1  1  1  2  0  0  0  0  0  0  0  1  0 29  2  2  1  4  1]\n",
      " [ 0  5  0  1  0  0  1  0  0  0  0  1  3  0  1 39  0  0  0  2]\n",
      " [ 1  2  1  1  3  1  3  0  0  0  0  1  0  6  2  2 41  2  1  1]\n",
      " [ 0  1  0  2  2  1  0  0  3  0  0  1  0  0  0  1  1 35  5  1]\n",
      " [ 1  3  1  0  1  0  0  0  0  1  0  0  1  2  0  0  2  3 41  1]\n",
      " [ 0  1  5  0  1  0  0  0  0  0  1  1  0  1  1  0  0  1  4 39]]\n"
     ]
    },
    {
     "data": {
      "image/png": "[encoded data removed]",
      "text/plain": [
       "<matplotlib.figure.Figure at 0x1a24513ba8>"
      ]
     },
     "metadata": {},
     "output_type": "display_data"
    }
   ],
   "source": [
    "# confusion matrix for unseen data\n",
    "classes = [0,1,2,3,4,5,6,7,8,9,10,11,12,13,14,15,16,17,18,19]\n",
    "cm = confusion_matrix(y_test, y_pred)\n",
    "\n",
    "#For better visualization\n",
    "plot_confusion_matrix(cm, classes, normalize=False)"
   ]
  },
  {
   "cell_type": "code",
   "execution_count": 85,
   "metadata": {
    "collapsed": true
   },
   "outputs": [],
   "source": [
    "# Plot histogram of most N important features\n",
    "def print_most_important_features(feature_importances,N):\n",
    "    most_important_features_by_indices = np.argsort(feature_importances)[::-1][:N]\n",
    "    x = np.arange(1, N+1)\n",
    "    y = []\n",
    "    my_xticks = []\n",
    "    for index in most_important_features_by_indices:\n",
    "        my_xticks.append(vectorizer.get_feature_names()[index])\n",
    "        y.append(feature_importances[index])\n",
    "    plt.figure(figsize=(N,6))\n",
    "    plt.xticks(x, my_xticks)\n",
    "    plt.bar(x, y, color=\"blue\")\n",
    "    plt.suptitle(\"Importance of words\")\n",
    "    plt.xlabel(\"Words\")\n",
    "    plt.ylabel(\"TF-IDF score\")"
   ]
  },
  {
   "cell_type": "code",
   "execution_count": 86,
   "metadata": {},
   "outputs": [
    {
     "data": {
      "image/png": "[encoded data removed]",
      "text/plain": [
       "<matplotlib.figure.Figure at 0x1a2c5c9ac8>"
      ]
     },
     "metadata": {},
     "output_type": "display_data"
    }
   ],
   "source": [
    "#Specify how many of the most important terms to display\n",
    "most_important_n = 20\n",
    "print_most_important_features(rfc.feature_importances_,most_important_n)"
   ]
  },
  {
   "cell_type": "code",
   "execution_count": 87,
   "metadata": {
    "scrolled": true
   },
   "outputs": [
    {
     "data": {
      "text/plain": [
       "['alt.atheism',\n",
       " 'comp.graphics',\n",
       " 'comp.os.ms-windows.misc',\n",
       " 'comp.sys.ibm.pc.hardware',\n",
       " 'comp.sys.mac.hardware',\n",
       " 'comp.windows.x',\n",
       " 'misc.forsale',\n",
       " 'rec.autos',\n",
       " 'rec.motorcycles',\n",
       " 'rec.sport.baseball',\n",
       " 'rec.sport.hockey',\n",
       " 'sci.crypt',\n",
       " 'sci.electronics',\n",
       " 'sci.med',\n",
       " 'sci.space',\n",
       " 'soc.religion.christian',\n",
       " 'talk.politics.guns',\n",
       " 'talk.politics.mideast',\n",
       " 'talk.politics.misc',\n",
       " 'talk.religion.misc']"
      ]
     },
     "execution_count": 87,
     "metadata": {},
     "output_type": "execute_result"
    }
   ],
   "source": [
    "# Matching our results with the different categories\n",
    "newsgroups_train.target_names"
   ]
  },
  {
   "cell_type": "markdown",
   "metadata": {},
   "source": [
    "## Conclusion\n",
    "We note that the results we found for the most important words are accurate with respect to the 20 categories we have. For example, \"god\" would go with the religion category, gun would go into the guns category etc. <br/>\n",
    "Random Forest creates multiple decision trees by sampling either features/samples and each tree would use the entropy score to rank the feature with the most information gain to be at the first level. We clearly see that these cuts use words that are very specific to a category (such as \"gun\") which is mostly specific to religion and should not be present for example in \"hardware\" category."
   ]
  }
 ],
 "metadata": {
  "kernelspec": {
   "display_name": "Python 3",
   "language": "python",
   "name": "python3"
  },
  "language_info": {
   "codemirror_mode": {
    "name": "ipython",
    "version": 3
   },
   "file_extension": ".py",
   "mimetype": "text/x-python",
   "name": "python",
   "nbconvert_exporter": "python",
   "pygments_lexer": "ipython3",
   "version": "3.6.2"
  }
 },
 "nbformat": 4,
 "nbformat_minor": 2
}
