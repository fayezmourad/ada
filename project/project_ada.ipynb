{
 "cells": [
  {
   "cell_type": "code",
   "execution_count": 1,
   "metadata": {
    "collapsed": true
   },
   "outputs": [],
   "source": [
    "import pandas as pd\n",
    "import math\n",
    "import re\n",
    "from gensim.parsing.preprocessing import STOPWORDS\n",
    "from nltk.stem import WordNetLemmatizer\n",
    "import enchant\n",
    "import numpy as np\n",
    "from sklearn.feature_extraction.text import CountVectorizer\n",
    "from nltk.stem.snowball import EnglishStemmer\n",
    "import lda\n",
    "from dateutil import parser\n",
    "import matplotlib.pyplot as plt\n",
    "from sklearn.decomposition import TruncatedSVD\n",
    "from sklearn.feature_extraction.text import TfidfVectorizer\n",
    "from sklearn.decomposition import LatentDirichletAllocation\n",
    "from pyelasticsearch import ElasticSearch\n",
    "from time import time\n",
    "pd.options.display.max_colwidth = 140\n",
    "%matplotlib inline"
   ]
  },
  {
   "cell_type": "markdown",
   "metadata": {},
   "source": [
    "# Trump data acquisition and description"
   ]
  },
  {
   "cell_type": "markdown",
   "metadata": {},
   "source": [
    "We have acquired the data via the link provided in the projects datasets. We have accessed the following link : http://www.trumptwitterarchive.com/archive and downloaded all of Trump's tweets in csv format.<br/>\n",
    "The data had the following fields :<br/>\n",
    "1. source : contains the platform used to create the tweet\n",
    "2. text : the content of the tweet\n",
    "3. created_at : the date of the tweet\n",
    "4. retweet_count : the number of times this tweet has been retweeted\n",
    "5. favorite_count : the number of times this tweet was favorited\n",
    "6. is_retweet : boolean value indicating whether or not this tweet was a retweet\n",
    "7. id_str : the unique identifier of a tweet\n",
    "\n",
    "From the previous fields, we will need : the text field in order to do the topic extraction, the created_at field to plot the topics on a timeline, favorite_count and retweet_count as basic indicators of a tweet's popularity.<br/>"
   ]
  },
  {
   "cell_type": "code",
   "execution_count": 2,
   "metadata": {
    "scrolled": true
   },
   "outputs": [
    {
     "data": {
      "text/html": [
       "<div>\n",
       "<style scoped>\n",
       "    .dataframe tbody tr th:only-of-type {\n",
       "        vertical-align: middle;\n",
       "    }\n",
       "\n",
       "    .dataframe tbody tr th {\n",
       "        vertical-align: top;\n",
       "    }\n",
       "\n",
       "    .dataframe thead th {\n",
       "        text-align: right;\n",
       "    }\n",
       "</style>\n",
       "<table border=\"1\" class=\"dataframe\">\n",
       "  <thead>\n",
       "    <tr style=\"text-align: right;\">\n",
       "      <th></th>\n",
       "      <th>source</th>\n",
       "      <th>text</th>\n",
       "      <th>created_at</th>\n",
       "      <th>retweet_count</th>\n",
       "      <th>favorite_count</th>\n",
       "      <th>is_retweet</th>\n",
       "      <th>id_str</th>\n",
       "    </tr>\n",
       "  </thead>\n",
       "  <tbody>\n",
       "    <tr>\n",
       "      <th>0</th>\n",
       "      <td>Twitter for iPhone</td>\n",
       "      <td>Leaving South Korea now heading to China. Looking very much forward to meeting and being with President Xi!</td>\n",
       "      <td>11.08.17 4:57</td>\n",
       "      <td>4901.0</td>\n",
       "      <td>23854</td>\n",
       "      <td>FALSE</td>\n",
       "      <td>9.281240e+17</td>\n",
       "    </tr>\n",
       "    <tr>\n",
       "      <th>1</th>\n",
       "      <td>Twitter Web Client</td>\n",
       "      <td>Together we dream of a Korea that is free a peninsula that is safe and families that are reunited once again! https://t.co/9tsZRCC83j</td>\n",
       "      <td>11.08.17 3:43</td>\n",
       "      <td>6232.0</td>\n",
       "      <td>22850</td>\n",
       "      <td>FALSE</td>\n",
       "      <td>9.281060e+17</td>\n",
       "    </tr>\n",
       "    <tr>\n",
       "      <th>2</th>\n",
       "      <td>Twitter Web Client</td>\n",
       "      <td>Anyone who doubts the strength or determination of the U.S. should look to our past....and you will doubt it no longer. https://t.co/zyu...</td>\n",
       "      <td>11.08.17 3:14</td>\n",
       "      <td>6648.0</td>\n",
       "      <td>24794</td>\n",
       "      <td>FALSE</td>\n",
       "      <td>9.280980e+17</td>\n",
       "    </tr>\n",
       "    <tr>\n",
       "      <th>3</th>\n",
       "      <td>Twitter Web Client</td>\n",
       "      <td>The North Korean regime has pursued its nuclear &amp;amp; ballistic missile programs in defiance of every assurance agreement &amp;amp; commmitm...</td>\n",
       "      <td>11.08.17 3:12</td>\n",
       "      <td>5513.0</td>\n",
       "      <td>19798</td>\n",
       "      <td>FALSE</td>\n",
       "      <td>9.280980e+17</td>\n",
       "    </tr>\n",
       "    <tr>\n",
       "      <th>4</th>\n",
       "      <td>Twitter Web Client</td>\n",
       "      <td>The U.S. under my administration is completely rebuilding its military and they're spending hundreds of billions of dollars to the newes...</td>\n",
       "      <td>11.08.17 3:09</td>\n",
       "      <td>7325.0</td>\n",
       "      <td>26769</td>\n",
       "      <td>FALSE</td>\n",
       "      <td>9.280970e+17</td>\n",
       "    </tr>\n",
       "  </tbody>\n",
       "</table>\n",
       "</div>"
      ],
      "text/plain": [
       "               source  \\\n",
       "0  Twitter for iPhone   \n",
       "1  Twitter Web Client   \n",
       "2  Twitter Web Client   \n",
       "3  Twitter Web Client   \n",
       "4  Twitter Web Client   \n",
       "\n",
       "                                                                                                                                          text  \\\n",
       "0                                  Leaving South Korea now heading to China. Looking very much forward to meeting and being with President Xi!   \n",
       "1        Together we dream of a Korea that is free a peninsula that is safe and families that are reunited once again! https://t.co/9tsZRCC83j   \n",
       "2  Anyone who doubts the strength or determination of the U.S. should look to our past....and you will doubt it no longer. https://t.co/zyu...   \n",
       "3  The North Korean regime has pursued its nuclear &amp; ballistic missile programs in defiance of every assurance agreement &amp; commmitm...   \n",
       "4  The U.S. under my administration is completely rebuilding its military and they're spending hundreds of billions of dollars to the newes...   \n",
       "\n",
       "      created_at  retweet_count favorite_count is_retweet        id_str  \n",
       "0  11.08.17 4:57         4901.0          23854      FALSE  9.281240e+17  \n",
       "1  11.08.17 3:43         6232.0          22850      FALSE  9.281060e+17  \n",
       "2  11.08.17 3:14         6648.0          24794      FALSE  9.280980e+17  \n",
       "3  11.08.17 3:12         5513.0          19798      FALSE  9.280980e+17  \n",
       "4  11.08.17 3:09         7325.0          26769      FALSE  9.280970e+17  "
      ]
     },
     "execution_count": 2,
     "metadata": {},
     "output_type": "execute_result"
    }
   ],
   "source": [
    "# load the Trump tweets data set\n",
    "trump_df = pd.read_csv('trump_tweets.csv',encoding = \"ISO-8859-1\")\n",
    "trump_df.head()"
   ]
  },
  {
   "cell_type": "markdown",
   "metadata": {},
   "source": [
    "# Twitter dump data acquisition and description"
   ]
  },
  {
   "cell_type": "markdown",
   "metadata": {},
   "source": [
    "For now we have managed to download a small portion of the twitter data from the cluster in order to see the different features that are available to us. The data contains no header, but looking at the first few rows, we were able to identify the features. \n",
    "The data has the following fields: <br/>\n",
    "1. language : the language of the tweet\n",
    "2. tweet_id : the unique identifier of a tweet\n",
    "3. date_time : the date and time at which a tweet was made \n",
    "4. user : the handle of the user that tweeted \n",
    "5. text : the content of the tweet\n",
    "\n",
    "We do not need to work on all the tweets in the dataset. The next step wwould be to run a PySpark script on the cluster to filter them and get only a subset relevant to our task.\n",
    "Filtering will be based on the following criteria: \n",
    "1. The language of the tweet is English\n",
    "2. The tweet's text contains Donald Trump's twitter handle, which means that it is either in reply to Trump or a retweet\n",
    "\n",
    "After acquiring the relevant data, we will use the text field of the tweet to perform sentiment analysis. "
   ]
  },
  {
   "cell_type": "code",
   "execution_count": 3,
   "metadata": {},
   "outputs": [
    {
     "data": {
      "text/html": [
       "<div>\n",
       "<style scoped>\n",
       "    .dataframe tbody tr th:only-of-type {\n",
       "        vertical-align: middle;\n",
       "    }\n",
       "\n",
       "    .dataframe tbody tr th {\n",
       "        vertical-align: top;\n",
       "    }\n",
       "\n",
       "    .dataframe thead th {\n",
       "        text-align: right;\n",
       "    }\n",
       "</style>\n",
       "<table border=\"1\" class=\"dataframe\">\n",
       "  <thead>\n",
       "    <tr style=\"text-align: right;\">\n",
       "      <th></th>\n",
       "      <th>language</th>\n",
       "      <th>tweet_id</th>\n",
       "      <th>date_time</th>\n",
       "      <th>user</th>\n",
       "      <th>text</th>\n",
       "    </tr>\n",
       "  </thead>\n",
       "  <tbody>\n",
       "    <tr>\n",
       "      <th>0</th>\n",
       "      <td>en</td>\n",
       "      <td>3.459639e+17</td>\n",
       "      <td>Sat Jun 15 18:00:01 +0000 2013</td>\n",
       "      <td>Letataleta</td>\n",
       "      <td>RT @silsilfani: the world is not a wish-granting machine. dont be surprised when everything always end up disappointing.</td>\n",
       "    </tr>\n",
       "    <tr>\n",
       "      <th>1</th>\n",
       "      <td>en</td>\n",
       "      <td>3.459639e+17</td>\n",
       "      <td>Sat Jun 15 18:00:01 +0000 2013</td>\n",
       "      <td>JamesonN7</td>\n",
       "      <td>RT @WhosThisHoe: I'd rather sleep with a nice guy because they always finish last</td>\n",
       "    </tr>\n",
       "    <tr>\n",
       "      <th>2</th>\n",
       "      <td>en</td>\n",
       "      <td>3.459639e+17</td>\n",
       "      <td>Sat Jun 15 18:00:01 +0000 2013</td>\n",
       "      <td>LauraEllynJones</td>\n",
       "      <td>Can't stand people who lie then blame it on someone else #boreoff</td>\n",
       "    </tr>\n",
       "    <tr>\n",
       "      <th>3</th>\n",
       "      <td>it</td>\n",
       "      <td>3.459639e+17</td>\n",
       "      <td>Sat Jun 15 18:00:01 +0000 2013</td>\n",
       "      <td>ChialettaFClub</td>\n",
       "      <td>@ChialettaFClub: #rt seguimi ti seguo ti voto il profilo\\nX9\\nOBBIETTIVO:300</td>\n",
       "    </tr>\n",
       "    <tr>\n",
       "      <th>4</th>\n",
       "      <td>fr</td>\n",
       "      <td>3.459639e+17</td>\n",
       "      <td>Sat Jun 15 18:00:01 +0000 2013</td>\n",
       "      <td>_irem61_</td>\n",
       "      <td>RT @DHC_Music: Terrorism ... #FreePalestina http://t.co/OLWnVlW682</td>\n",
       "    </tr>\n",
       "  </tbody>\n",
       "</table>\n",
       "</div>"
      ],
      "text/plain": [
       "  language      tweet_id                       date_time             user  \\\n",
       "0       en  3.459639e+17  Sat Jun 15 18:00:01 +0000 2013       Letataleta   \n",
       "1       en  3.459639e+17  Sat Jun 15 18:00:01 +0000 2013        JamesonN7   \n",
       "2       en  3.459639e+17  Sat Jun 15 18:00:01 +0000 2013  LauraEllynJones   \n",
       "3       it  3.459639e+17  Sat Jun 15 18:00:01 +0000 2013   ChialettaFClub   \n",
       "4       fr  3.459639e+17  Sat Jun 15 18:00:01 +0000 2013         _irem61_   \n",
       "\n",
       "                                                                                                                       text  \n",
       "0  RT @silsilfani: the world is not a wish-granting machine. dont be surprised when everything always end up disappointing.  \n",
       "1                                         RT @WhosThisHoe: I'd rather sleep with a nice guy because they always finish last  \n",
       "2                                                         Can't stand people who lie then blame it on someone else #boreoff  \n",
       "3                                              @ChialettaFClub: #rt seguimi ti seguo ti voto il profilo\\nX9\\nOBBIETTIVO:300  \n",
       "4                                                        RT @DHC_Music: Terrorism ... #FreePalestina http://t.co/OLWnVlW682  "
      ]
     },
     "execution_count": 3,
     "metadata": {},
     "output_type": "execute_result"
    }
   ],
   "source": [
    "# load the Twitter dump first 1000 tweets data set\n",
    "tweets_df = pd.read_csv('tweets_1000.txt',encoding = \"ISO-8859-1\", sep=\"\\t\", header = None)\n",
    "tweets_df.columns=['language', 'tweet_id', 'date_time', 'user', 'text']\n",
    "tweets_df.head()"
   ]
  },
  {
   "cell_type": "markdown",
   "metadata": {},
   "source": [
    "# Trump tweets pre-processing\n",
    "We define different functions in order to clean the text to be able to perform better topic extraction. \n",
    "First, we get rid of contractions in any word (don't, doesn't, won't etc.). We also remove any URLs from the data. We get rid of any special characters and punctuation. We also remove any words that contain numbers. The clean text function applies all the aforementioned modifications to a tweet.  It also retains only alphanumeric characters as some of the tweets contained Japanese characters for example. In addition, the clean text function also performs word lemmatization, so that words with similar meaning get represented in the same way. <br/>\n",
    "Note that some of these functions can also be used when cleaning the Twitter dump data before doing the sentiment analysis on them."
   ]
  },
  {
   "cell_type": "code",
   "execution_count": 4,
   "metadata": {
    "collapsed": true
   },
   "outputs": [],
   "source": [
    "def fix_contractions(document):\n",
    "    \"\"\"\n",
    "    Remove contractions from document\n",
    "    :param document: where we want to remove the contractions\n",
    "    :return: the document without contractions\n",
    "    \"\"\"\n",
    "    match_list = re.findall(r\"\\w+(?=n't)|n't|\\w+(?=')|'\\w+|\\w+\",document, re.IGNORECASE | re.DOTALL)\n",
    "    ans = \" \".join(match_list)\n",
    "    return ans.lstrip().rstrip()\n",
    "\n",
    "def remove_link(document):\n",
    "    \"\"\"\n",
    "    Remove links and fix U.S. shortname\n",
    "    :param document: where we want to remove the link\n",
    "    :return: the document without a link\n",
    "    \"\"\"\n",
    "    result = \"\"\n",
    "    for word in document.split():\n",
    "        if(not(word[:4] == \"http\") and not(word[0] == '&') and not(word[len(word)-1] == ';')):\n",
    "            if(word == \"u.s.\"):\n",
    "                result += \" usa\"\n",
    "            else:\n",
    "                result += \" \" + word\n",
    "\n",
    "    return result.lstrip().rstrip()\n",
    "\n",
    "def remove_special_characters(documents):\n",
    "    \"\"\"\n",
    "    Remove special characters\n",
    "    :param documents: the documents from where we remove the characters\n",
    "    :return: the documents without the special characters\n",
    "    \"\"\"\n",
    "    documents_no_specials = []\n",
    "    for item in documents:\n",
    "        try:\n",
    "            documents_no_specials.append(\n",
    "                item.replace('\\r', ' ').replace('/n', ' ')\\\n",
    "                    .replace('.', ' ').replace(',', ' ').replace('(', ' ') \\\n",
    "                    .replace(')', ' ').replace('\"', ' ') \\\n",
    "                    .replace('!', ' ').replace('?', ' ') \\\n",
    "                    .replace('>', ' ').replace('$', ' ') \\\n",
    "                    .replace('-', ' ').replace(';', ' ') \\\n",
    "                    .replace(':', ' ').replace('/', ' ').replace('#', ' ').replace('@',' '))\n",
    "        except:\n",
    "            documents_no_specials.append(\"\")\n",
    "    \n",
    "    result = \"\"\n",
    "    for ch in documents_no_specials:\n",
    "            result = result + ch\n",
    "    return result\n",
    "\n",
    "def remove_numerical(documents):\n",
    "    \"\"\"\n",
    "    remove the words containing numbers\n",
    "    :param documents: \n",
    "    :return: \n",
    "    \"\"\"\n",
    "    result = \"\"\n",
    "    for word in documents.split():\n",
    "        new_word = ''.join([i for i in word if not i.isdigit()])\n",
    "        result = result + \" \" + new_word\n",
    "    return result\n",
    "\n",
    "def clean_text(documents):\n",
    "    \"\"\"\n",
    "    remove special characters, stop words and numbers, lemmatize and remove non-english words \n",
    "    :param documents: Docuements to clean\n",
    "    :param tester: which element you would like to display as an example\n",
    "    :return: the cleaned documents\n",
    "    \"\"\"\n",
    "    lemmatizer = WordNetLemmatizer()\n",
    "\n",
    "    # Remove numbers\n",
    "    documents_no_link_no_numeric = remove_numerical(documents)\n",
    "    \n",
    "    #Everything to lower case\n",
    "    documents = documents_no_link_no_numeric.lower()\n",
    "    \n",
    "    # Remove links\n",
    "    documents_no_link = remove_link(documents)\n",
    "    \n",
    "    # Remove special characters\n",
    "    documents_no_specials = remove_special_characters(documents_no_link)\n",
    "    \n",
    "    #Remove contractions\n",
    "    documents_fixed_words = fix_contractions(documents_no_specials)\n",
    "  \n",
    "    # remove words with length equal to 1\n",
    "    documents_remove_shortwords = \" \".join([token for token in documents_fixed_words.split() \n",
    "                                                       if (len(token)>1)])\n",
    "    \n",
    "    documents_finished = re.sub('[^a-zA-Z]+', ' ',documents_remove_shortwords)\n",
    "    \n",
    "    documents_finished = \" \".join([token for token in documents_finished.split() if (token not in STOPWORDS)])\n",
    "    \n",
    "    documents_finished = \" \".join([lemmatizer.lemmatize(token) for token in documents_finished.split()])\n",
    "    \n",
    "    # remove words with length equal to 1\n",
    "    documents_finished = \" \".join([token for token in documents_finished.split() \n",
    "                                                       if (len(token)>1)])\n",
    "    \n",
    "    #remove specific words\n",
    "    documents_finished = \" \".join([token for token in documents_finished.split() if (not token in \"realdonaldtrump\")])\n",
    "    \n",
    "    return documents_finished\n"
   ]
  },
  {
   "cell_type": "markdown",
   "metadata": {},
   "source": [
    "We apply the clean text function to the text column of the dataframe, and obtain a dataframe with the clean text, on which we can try different topc identifiation methods. <br/>\n",
    "We then remove any rows for which the text field became empty after preprocessing. <br/>\n",
    "We also save the clean tweets dataframe to a new csv file so that wwe can use it easily."
   ]
  },
  {
   "cell_type": "code",
   "execution_count": 5,
   "metadata": {},
   "outputs": [
    {
     "data": {
      "text/html": [
       "<div>\n",
       "<style scoped>\n",
       "    .dataframe tbody tr th:only-of-type {\n",
       "        vertical-align: middle;\n",
       "    }\n",
       "\n",
       "    .dataframe tbody tr th {\n",
       "        vertical-align: top;\n",
       "    }\n",
       "\n",
       "    .dataframe thead th {\n",
       "        text-align: right;\n",
       "    }\n",
       "</style>\n",
       "<table border=\"1\" class=\"dataframe\">\n",
       "  <thead>\n",
       "    <tr style=\"text-align: right;\">\n",
       "      <th></th>\n",
       "      <th>source</th>\n",
       "      <th>text</th>\n",
       "      <th>created_at</th>\n",
       "      <th>retweet_count</th>\n",
       "      <th>favorite_count</th>\n",
       "      <th>is_retweet</th>\n",
       "      <th>id_str</th>\n",
       "    </tr>\n",
       "  </thead>\n",
       "  <tbody>\n",
       "    <tr>\n",
       "      <th>0</th>\n",
       "      <td>Twitter for iPhone</td>\n",
       "      <td>leaving south korea heading china looking forward meeting president xi</td>\n",
       "      <td>11.08.17 4:57</td>\n",
       "      <td>4901.0</td>\n",
       "      <td>23854</td>\n",
       "      <td>FALSE</td>\n",
       "      <td>9.281240e+17</td>\n",
       "    </tr>\n",
       "    <tr>\n",
       "      <th>1</th>\n",
       "      <td>Twitter Web Client</td>\n",
       "      <td>dream korea free peninsula safe family reunited</td>\n",
       "      <td>11.08.17 3:43</td>\n",
       "      <td>6232.0</td>\n",
       "      <td>22850</td>\n",
       "      <td>FALSE</td>\n",
       "      <td>9.281060e+17</td>\n",
       "    </tr>\n",
       "    <tr>\n",
       "      <th>2</th>\n",
       "      <td>Twitter Web Client</td>\n",
       "      <td>doubt strength determination usa look past doubt longer</td>\n",
       "      <td>11.08.17 3:14</td>\n",
       "      <td>6648.0</td>\n",
       "      <td>24794</td>\n",
       "      <td>FALSE</td>\n",
       "      <td>9.280980e+17</td>\n",
       "    </tr>\n",
       "    <tr>\n",
       "      <th>3</th>\n",
       "      <td>Twitter Web Client</td>\n",
       "      <td>north korean regime pursued nuclear ballistic missile program defiance assurance agreement commmitment usa ally broken commitment</td>\n",
       "      <td>11.08.17 3:12</td>\n",
       "      <td>5513.0</td>\n",
       "      <td>19798</td>\n",
       "      <td>FALSE</td>\n",
       "      <td>9.280980e+17</td>\n",
       "    </tr>\n",
       "    <tr>\n",
       "      <th>4</th>\n",
       "      <td>Twitter Web Client</td>\n",
       "      <td>usa administration completely rebuilding military spending hundred billion dollar newest finest military equipment world built right wan...</td>\n",
       "      <td>11.08.17 3:09</td>\n",
       "      <td>7325.0</td>\n",
       "      <td>26769</td>\n",
       "      <td>FALSE</td>\n",
       "      <td>9.280970e+17</td>\n",
       "    </tr>\n",
       "  </tbody>\n",
       "</table>\n",
       "</div>"
      ],
      "text/plain": [
       "               source  \\\n",
       "0  Twitter for iPhone   \n",
       "1  Twitter Web Client   \n",
       "2  Twitter Web Client   \n",
       "3  Twitter Web Client   \n",
       "4  Twitter Web Client   \n",
       "\n",
       "                                                                                                                                          text  \\\n",
       "0                                                                       leaving south korea heading china looking forward meeting president xi   \n",
       "1                                                                                              dream korea free peninsula safe family reunited   \n",
       "2                                                                                      doubt strength determination usa look past doubt longer   \n",
       "3            north korean regime pursued nuclear ballistic missile program defiance assurance agreement commmitment usa ally broken commitment   \n",
       "4  usa administration completely rebuilding military spending hundred billion dollar newest finest military equipment world built right wan...   \n",
       "\n",
       "      created_at  retweet_count favorite_count is_retweet        id_str  \n",
       "0  11.08.17 4:57         4901.0          23854      FALSE  9.281240e+17  \n",
       "1  11.08.17 3:43         6232.0          22850      FALSE  9.281060e+17  \n",
       "2  11.08.17 3:14         6648.0          24794      FALSE  9.280980e+17  \n",
       "3  11.08.17 3:12         5513.0          19798      FALSE  9.280980e+17  \n",
       "4  11.08.17 3:09         7325.0          26769      FALSE  9.280970e+17  "
      ]
     },
     "execution_count": 5,
     "metadata": {},
     "output_type": "execute_result"
    }
   ],
   "source": [
    "#Apply clean text to entire column\n",
    "trump_df['text'] = trump_df['text'].apply(clean_text)\n",
    "# Remove empty rows\n",
    "trump_df = trump_df[trump_df['text'] != '']\n",
    "#Save processed tweets\n",
    "trump_df.to_csv(\"trump_tweets_processed.csv\")\n",
    "\n",
    "trump_df.head()"
   ]
  },
  {
   "cell_type": "markdown",
   "metadata": {},
   "source": [
    "## Read preprocessed trump tweets"
   ]
  },
  {
   "cell_type": "markdown",
   "metadata": {},
   "source": [
    "We directly read all the pre-processed tweets instead of rerunning the clean text function many times"
   ]
  },
  {
   "cell_type": "code",
   "execution_count": 6,
   "metadata": {},
   "outputs": [
    {
     "data": {
      "text/html": [
       "<div>\n",
       "<style scoped>\n",
       "    .dataframe tbody tr th:only-of-type {\n",
       "        vertical-align: middle;\n",
       "    }\n",
       "\n",
       "    .dataframe tbody tr th {\n",
       "        vertical-align: top;\n",
       "    }\n",
       "\n",
       "    .dataframe thead th {\n",
       "        text-align: right;\n",
       "    }\n",
       "</style>\n",
       "<table border=\"1\" class=\"dataframe\">\n",
       "  <thead>\n",
       "    <tr style=\"text-align: right;\">\n",
       "      <th></th>\n",
       "      <th>Unnamed: 0</th>\n",
       "      <th>source</th>\n",
       "      <th>text</th>\n",
       "      <th>created_at</th>\n",
       "      <th>retweet_count</th>\n",
       "      <th>favorite_count</th>\n",
       "      <th>is_retweet</th>\n",
       "      <th>id_str</th>\n",
       "    </tr>\n",
       "  </thead>\n",
       "  <tbody>\n",
       "    <tr>\n",
       "      <th>0</th>\n",
       "      <td>0</td>\n",
       "      <td>Twitter for iPhone</td>\n",
       "      <td>leaving south korea heading china looking forward meeting president xi</td>\n",
       "      <td>11.08.17 4:57</td>\n",
       "      <td>4901.0</td>\n",
       "      <td>23854.0</td>\n",
       "      <td>False</td>\n",
       "      <td>9.281240e+17</td>\n",
       "    </tr>\n",
       "    <tr>\n",
       "      <th>1</th>\n",
       "      <td>1</td>\n",
       "      <td>Twitter Web Client</td>\n",
       "      <td>dream korea free peninsula safe family reunited</td>\n",
       "      <td>11.08.17 3:43</td>\n",
       "      <td>6232.0</td>\n",
       "      <td>22850.0</td>\n",
       "      <td>False</td>\n",
       "      <td>9.281060e+17</td>\n",
       "    </tr>\n",
       "    <tr>\n",
       "      <th>2</th>\n",
       "      <td>2</td>\n",
       "      <td>Twitter Web Client</td>\n",
       "      <td>doubt strength determination usa look past doubt longer</td>\n",
       "      <td>11.08.17 3:14</td>\n",
       "      <td>6648.0</td>\n",
       "      <td>24794.0</td>\n",
       "      <td>False</td>\n",
       "      <td>9.280980e+17</td>\n",
       "    </tr>\n",
       "    <tr>\n",
       "      <th>3</th>\n",
       "      <td>3</td>\n",
       "      <td>Twitter Web Client</td>\n",
       "      <td>north korean regime pursued nuclear ballistic missile program defiance assurance agreement commmitment usa ally broken commitment</td>\n",
       "      <td>11.08.17 3:12</td>\n",
       "      <td>5513.0</td>\n",
       "      <td>19798.0</td>\n",
       "      <td>False</td>\n",
       "      <td>9.280980e+17</td>\n",
       "    </tr>\n",
       "    <tr>\n",
       "      <th>4</th>\n",
       "      <td>4</td>\n",
       "      <td>Twitter Web Client</td>\n",
       "      <td>usa administration completely rebuilding military spending hundred billion dollar newest finest military equipment world built right wan...</td>\n",
       "      <td>11.08.17 3:09</td>\n",
       "      <td>7325.0</td>\n",
       "      <td>26769.0</td>\n",
       "      <td>False</td>\n",
       "      <td>9.280970e+17</td>\n",
       "    </tr>\n",
       "  </tbody>\n",
       "</table>\n",
       "</div>"
      ],
      "text/plain": [
       "   Unnamed: 0              source  \\\n",
       "0           0  Twitter for iPhone   \n",
       "1           1  Twitter Web Client   \n",
       "2           2  Twitter Web Client   \n",
       "3           3  Twitter Web Client   \n",
       "4           4  Twitter Web Client   \n",
       "\n",
       "                                                                                                                                          text  \\\n",
       "0                                                                       leaving south korea heading china looking forward meeting president xi   \n",
       "1                                                                                              dream korea free peninsula safe family reunited   \n",
       "2                                                                                      doubt strength determination usa look past doubt longer   \n",
       "3            north korean regime pursued nuclear ballistic missile program defiance assurance agreement commmitment usa ally broken commitment   \n",
       "4  usa administration completely rebuilding military spending hundred billion dollar newest finest military equipment world built right wan...   \n",
       "\n",
       "      created_at  retweet_count  favorite_count is_retweet        id_str  \n",
       "0  11.08.17 4:57         4901.0         23854.0      False  9.281240e+17  \n",
       "1  11.08.17 3:43         6232.0         22850.0      False  9.281060e+17  \n",
       "2  11.08.17 3:14         6648.0         24794.0      False  9.280980e+17  \n",
       "3  11.08.17 3:12         5513.0         19798.0      False  9.280980e+17  \n",
       "4  11.08.17 3:09         7325.0         26769.0      False  9.280970e+17  "
      ]
     },
     "execution_count": 6,
     "metadata": {},
     "output_type": "execute_result"
    }
   ],
   "source": [
    "# Load pre-processed trump tweets\n",
    "trump_df = pd.read_csv('trump_tweets_processed.csv',encoding = \"ISO-8859-1\")\n",
    "trump_df.head()"
   ]
  },
  {
   "cell_type": "markdown",
   "metadata": {},
   "source": [
    "# Topic extraction experimentation"
   ]
  },
  {
   "cell_type": "markdown",
   "metadata": {},
   "source": [
    "We experiment with several topic extraction techniques on the Trump tweets dataset. <br/>\n",
    "Note that these analyses are only preliminary analyses. We need to select one of them and tune it in order to obtain better results. <br/>\n",
    "We experiment with Latent Semantic Analysis (LSA), Latent Dirichlet Allocation (LDA), and Elastic Search.<br/>\n",
    "\n",
    "For LSA and LDA, we try to extract 16 topics from Trump's tweets. Again, we chose this number only for a preliminary analysis."
   ]
  },
  {
   "cell_type": "code",
   "execution_count": 7,
   "metadata": {
    "collapsed": true
   },
   "outputs": [],
   "source": [
    "# Number of topic for LSA and LDA\n",
    "n_topics = 16"
   ]
  },
  {
   "cell_type": "markdown",
   "metadata": {},
   "source": [
    "### 1. Latent Semantic Analysis for topic extraction\n",
    "We first try LSA to extract 16 topics from Trump's tweets. We then enumerate al the words that were classified into that topic by the model."
   ]
  },
  {
   "cell_type": "code",
   "execution_count": 8,
   "metadata": {
    "collapsed": true
   },
   "outputs": [],
   "source": [
    "#use tfidf vectorizer to vectorize the text of the tweet\n",
    "tfvectorizer = TfidfVectorizer()\n",
    "X = tfvectorizer.fit_transform(trump_df['text'])\n",
    "#fit lsa model to vectorized text\n",
    "lsa = TruncatedSVD(n_components=n_topics,n_iter=100)\n",
    "lsa.fit(X)\n",
    "terms = tfvectorizer.get_feature_names()"
   ]
  },
  {
   "cell_type": "code",
   "execution_count": 9,
   "metadata": {},
   "outputs": [
    {
     "name": "stdout",
     "output_type": "stream",
     "text": [
      "Topic 1 :\n",
      "great  thank  america  president  thanks  twitter  false  need  android  run  country  people  new  job  makeamericagreatagain  time  vote  like  good  obama  \n",
      "\n",
      "Topic 2 :\n",
      "thank  makeamericagreatagain  america  poll  new  americafirst  support  carolina  hampshire  imwithyou  florida  nice  trumphttps  iowa  votetrump  south  pennsylvania  supertuesday  honor  maga  \n",
      "\n",
      "Topic 3 :\n",
      "great  america  job  let  hard  work  honor  night  today  crowd  safe  tonight  day  guy  fantastic  book  congratulation  crippled  new  going  \n",
      "\n",
      "Topic 4 :\n",
      "thanks  thank  great  true  nice  luck  awesome  good  love  billmaher  tie  beaumontanthony  inspiration  amazing  beautiful  honor  fantastic  trumptowerny  makeamericagreatagain  word  \n",
      "\n",
      "Topic 5 :\n",
      "president  run  need  america  country  vote  obama  mr  leader  save  united  let  running  fix  state  leadership  american  hope  man  thank  \n",
      "\n",
      "Topic 6 :\n",
      "twitter  false  america  android  web  client  great  run  need  president  mr  thank  iphone  let  man  safe  true  save  thanks  businessman  \n",
      "\n",
      "Topic 7 :\n",
      "makeamericagreatagain  america  new  poll  vote  let  thanks  tomorrow  trumphttps  need  hillary  join  hampshire  clinton  want  rt  votetrump  york  carolina  debate  \n",
      "\n",
      "Topic 8 :\n",
      "tonight  enjoy  foxandfriends  pm  president  interviewed  run  apprentice  morning  watch  foxnews  great  celebrity  fox  nbc  interview  tomorrow  seanhannity  night  oreillyfactor  \n",
      "\n",
      "Topic 9 :\n",
      "america  enjoy  obama  foxandfriends  tonight  interviewed  need  pm  let  barackobama  foxnews  morning  thanks  hillary  fox  clinton  china  thank  seanhannity  oreillyfactor  \n",
      "\n",
      "Topic 10 :\n",
      "new  obama  poll  president  hillary  york  year  vote  clinton  hampshire  thanks  barackobama  time  debate  crooked  false  twitter  today  election  obamacare  \n",
      "\n",
      "Topic 11 :\n",
      "obama  job  foxandfriends  great  president  good  makeamericagreatagain  barackobama  enjoy  interview  morning  luck  american  china  hillary  mittromney  obamacare  clinton  interviewed  false  \n",
      "\n",
      "Topic 12 :\n",
      "good  new  need  job  foxandfriends  country  luck  poll  morning  enjoy  true  york  hampshire  interviewed  run  leader  barackobama  friend  fox  minute  \n",
      "\n",
      "Topic 13 :\n",
      "good  president  luck  america  new  work  obama  hard  poll  think  deal  let  apprentice  york  book  happy  art  celebapprentice  celebrity  watch  \n",
      "\n",
      "Topic 14 :\n",
      "foxandfriends  vote  big  enjoy  think  people  hillary  morning  run  poll  interviewed  clinton  crooked  like  win  going  minute  work  fox  time  \n",
      "\n",
      "Topic 15 :\n",
      "hillary  vote  good  clinton  run  crooked  luck  debate  tonight  night  watch  country  time  apprentice  want  job  pm  celebrity  need  nbc  \n",
      "\n",
      "Topic 16 :\n",
      "true  hillary  clinton  crooked  people  poll  president  know  obama  great  debate  good  wow  bad  medium  said  enjoy  bernie  want  foxandfriends  \n",
      "\n"
     ]
    }
   ],
   "source": [
    "#display main words for each of the topics\n",
    "for i,comp in enumerate(lsa.components_):\n",
    "    termsInComp = zip(terms,comp)\n",
    "    sortedItems = sorted(termsInComp, key=lambda x: x[1],reverse=True)[:20]\n",
    "    print (\"Topic {} :\".format(i+1))\n",
    "    for term in sortedItems:\n",
    "        print (term[0],\" \",end='')\n",
    "    print (\"\\n\")"
   ]
  },
  {
   "cell_type": "markdown",
   "metadata": {},
   "source": [
    "We notice that this method does not help us much with our analysis and that the words that fall under the same topic are not always related to each other. "
   ]
  },
  {
   "cell_type": "markdown",
   "metadata": {},
   "source": [
    "# Latent Dirichlet Allocation for topic extraction\n",
    "We then try LDA, using the same number of topics that we used for LSA. Again, we enumerate the words that fall under a certain topic."
   ]
  },
  {
   "cell_type": "code",
   "execution_count": 10,
   "metadata": {},
   "outputs": [
    {
     "name": "stdout",
     "output_type": "stream",
     "text": [
      "Topic 1:\n",
      "enjoy foxandfriends tonight gretawire interview interviewed pm fox rosie morning greta monday foxnews melaniatrump boardroom oreillyfactor squawkcnbc blog seanhannity todayshow \n",
      "\n",
      "Topic 2:\n",
      "opec river joan collection gold agschneiderman wise dubai spitzer theapprentice olympic skyline trumpadvice tahmooressi smith acre sgt designed downtown unsustainable \n",
      "\n",
      "Topic 3:\n",
      "finale alexsalmond trumplasvegas ivankatrump admit stern faith jonhuntsman coincidence generation pinehurst bid windfarms vattenfallgroup december inspired theartofthedeal rob entertainment irs \n",
      "\n",
      "Topic 4:\n",
      "great barackobama new thank good america thanks cont twitter false time today like love job people think obama best night \n",
      "\n",
      "Topic 5:\n",
      "entrepreneur birthday happy yes unemployment global warming market shirt tea anthony ivanka breitbartnews keystone song jack expect birth fiscal gut \n",
      "\n",
      "Topic 6:\n",
      "momentum trumpnewyork atrium shock tara conner foot therealkiyosaki fifth pianobecca webb sand mayweather apply deserter savvy hood floor zwlykins johnnypaulcole \n",
      "\n",
      "Topic 7:\n",
      "inspiration missusa schneiderman msnbc stamp trumpsoho simply write renovation lance jay alabama michelle believer sun insight strike qaeda finish manipulation \n",
      "\n",
      "Topic 8:\n",
      "atlantic actor stimulus san dan williams figure epic recover back tx pr newsweek pls shaun trash newyorkpost amandaknox evan victoria \n",
      "\n",
      "Topic 9:\n",
      "awesome touch rod midas billionaire brotherhood celebapprentice mikeandmike jimmy thanks april october shark jurciuoli tony lack nick diamond fresh production \n",
      "\n",
      "Topic 10:\n",
      "beta nflcommish negotiator requires test buffalo buffalobills sean jackshallis demdebate alan cheap capable plz cnndebate struggling developing sunk economically aaa \n",
      "\n",
      "Topic 11:\n",
      "macmiller andy brandiglanville appearing possibly sternshow pervert geraldorivera negotiating lol leezagibbons hot eliot kevinjonas inspirational msvivicafox century asktrump americanowradio euro \n",
      "\n",
      "Topic 12:\n",
      "gas episode apprenticenbc ebola resort definitely tip celebrityapprentice thegarybusey claim price charge winston cute contestant man correct laden bin knowledge \n",
      "\n",
      "Topic 13:\n",
      "thanks season omarosa chris nice weiner reporter monster great blue vanityfair bit cbs moron pier remain derek courage reporting master \n",
      "\n",
      "Topic 14:\n",
      "thank com president question direction mitt hbo flgovscott barnesandnoble trumpative cent wharton alex disappointed inspire zone reelection hundred threatening publicly \n",
      "\n",
      "Topic 15:\n",
      "dannyzuker luxury la vega danny great quality trumpchicago doonbeg passionate overseas pete disagree latoyajackson acquisition rodmonium votetrump judd fiasco wine \n",
      "\n",
      "Topic 16:\n",
      "president obama run apprentice mittromney true need country great like people know thanks time think want vote job right china \n",
      "\n"
     ]
    }
   ],
   "source": [
    "#use tfidf vectorizer\n",
    "tfvectorizer = TfidfVectorizer()\n",
    "X = tfvectorizer.fit_transform(trump_df['text'])\n",
    "#fit LDA model\n",
    "lda = LatentDirichletAllocation(n_components=n_topics, max_iter=5, learning_method='online', learning_offset=50.,random_state=0).fit(X)\n",
    "\n",
    "\n",
    "def display_topics(model, feature_names, no_top_words):\n",
    "    \"\"\"\n",
    "    display to topics and most important words\n",
    "    :param model: the lda model to use\n",
    "    :param feature_names: the word vocabulary\n",
    "    :param no_top_words: the number of most important words to display\n",
    "    :return: \n",
    "    \"\"\"\n",
    "    for topic_idx, topic in enumerate(model.components_):\n",
    "        print (\"Topic {}:\".format(topic_idx+1))\n",
    "        print (\" \".join([feature_names[i]\n",
    "                        for i in topic.argsort()[:-no_top_words - 1:-1]]), \"\\n\")\n",
    "\n",
    "#show the top 20 most important words in a topic\n",
    "no_top_words = 20\n",
    "tf_feature_names = tfvectorizer.get_feature_names()\n",
    "display_topics(lda, tf_feature_names, no_top_words)\n"
   ]
  },
  {
   "cell_type": "markdown",
   "metadata": {},
   "source": [
    "Similar to LSA, the results of LDA are not very relevant. "
   ]
  },
  {
   "cell_type": "markdown",
   "metadata": {},
   "source": [
    "# Elastic Search"
   ]
  },
  {
   "cell_type": "markdown",
   "metadata": {},
   "source": [
    "Finally, we try Elastic Search. The problem here is that Elastic Search is based on queries. Therefore we would hav to predefined certain topics, with a list of words under each of the topics, in order to run Elastic Search."
   ]
  },
  {
   "cell_type": "code",
   "execution_count": 11,
   "metadata": {},
   "outputs": [
    {
     "name": "stdout",
     "output_type": "stream",
     "text": [
      "now indexing trump_tweets_processed.csv...\n",
      "0\n",
      "1\n",
      "2\n",
      "3\n",
      "4\n",
      "5\n",
      "done in 9.134s\n"
     ]
    }
   ],
   "source": [
    "# indexing tweets\n",
    "csv_filename=\"trump_tweets_processed.csv\"\n",
    "\n",
    "t0=time()\n",
    "\n",
    "# size of the bulk\n",
    "chunksize=5000\n",
    "\n",
    "# open csv file\n",
    "f = open(csv_filename) # read csv\n",
    "\n",
    "# parse csv with pandas\n",
    "csvfile=pd.read_csv(f, iterator=True, chunksize=chunksize) \n",
    "\n",
    "# init ElasticSearch\n",
    "es = ElasticSearch('http://localhost:9200/')\n",
    "\n",
    "# init index\n",
    "try :\n",
    "    es.delete_index(\"tweets\")\n",
    "except :\n",
    "    pass\n",
    "\n",
    "es.create_index(\"tweets\")\n",
    "\n",
    "# start bulk indexing \n",
    "print (\"now indexing %s...\"%(csv_filename))\n",
    "\n",
    "for i,trump_df in enumerate(csvfile): \n",
    "    print (i)\n",
    "    records=trump_df.where(pd.notnull(trump_df), None).T.to_dict()\n",
    "    list_records=[records[it] for it in records]\n",
    "    try :\n",
    "        es.bulk_index(\"tweets\",\"tweet\",list_records)\n",
    "    except :\n",
    "        print (\"error!, skiping some tweets sorry\")\n",
    "        pass\n",
    "\n",
    "print (\"done in %.3fs\"%(time()-t0))"
   ]
  },
  {
   "cell_type": "markdown",
   "metadata": {},
   "source": [
    "We construct a dictionnary of general topics that may occur in Donald Trump's tweets with a list of words that fall under that topic as a value. <br/>\n",
    "For each topics, we perform an elastic search with the words that fall under that specific topic as the query, to see which tweets in the dataset fall under that topic."
   ]
  },
  {
   "cell_type": "code",
   "execution_count": 12,
   "metadata": {
    "collapsed": true
   },
   "outputs": [],
   "source": [
    "# dictionnary of topics and relevant words to that topic\n",
    "topics_dict= {\"abortion\": \"abortion parenthood womb embryonic embryon\",\n",
    "\"economy\" : \"financial gdp growth economic interest depression recovery refinance finance economy budget loan money bankrupt\",\n",
    "\"civil_rights\" : \"racist racism black minorities minority minoritie minoriti mosques sexual equality gay misogynist tolerate tolerance blacks jews jew women\",\n",
    "\"corporations\" : \"business taxes tax taxe job money boom corporate capitalism wealth litigation\",\n",
    "\"crime\" : \"victims crime gang drug law order police death muderer violent judge accountable criminal\",\n",
    "\"drugs\" :\"drug drugs opioids pot alcohol marijuana\",\n",
    "\"education\" :\"school education scholarship student teach study teacher\",\n",
    "\"environment\" : \"environments miners animal epa coal carbon oil miner energy epa climate solar panel oil windmill solar drilling drill\",\n",
    "\"foreign_policy\" : \"pakistan cuba korea iran nato brexit nuclear arms army negotation negotiator russia us u.s. israel alliance islamic nuke syrian syria rebel mideast arab sanction sanctions russian diplomacy putin china isis\",\n",
    "\"trade\" : \"nafta trade imported import export exported vat currency tpp\",\n",
    "\"gun\" : \"military gun violence arm weapon assault shooting shoot armor ammunition nra rifle\",\n",
    "\"healthcare\" : \"obamacare health vaccination doctor insurance medicare medicaid virus va healthcare\",\n",
    "\"immigration\" : \"immigration amnesty visa visas refugee refugees border resident citizenship ban banning wall\",\n",
    "\"jobs\" : \"job jobs unemployment unemployed hire hired wage\",\n",
    "\"tax\" : \"tax debt taxes tax\",\n",
    "\"technology\" : \"infrastructure airport railway road innovation internet net cyber cyberattack\"\n",
    "}\n"
   ]
  },
  {
   "cell_type": "markdown",
   "metadata": {},
   "source": [
    "We perform elastic search for every topic and plot the number of tweets where that topic appears with respect to time just to have an initial idea of the results."
   ]
  },
  {
   "cell_type": "code",
   "execution_count": 17,
   "metadata": {
    "scrolled": false
   },
   "outputs": [
    {
     "name": "stdout",
     "output_type": "stream",
     "text": [
      "Tweets on abortion :  \n",
      "\n",
      "rt teamtrump timkaine abortion flip flop valuing sanctity life pro abortion demagogue vpdebate \n",
      "\n",
      "macy big contributor ppfa anybody planned parenthood boycott racial profiling macy \n",
      "\n",
      "democrat smiling freedom caucus help club growth heritage saved planned parenthood ocare \n",
      "\n"
     ]
    },
    {
     "data": {
      "image/png": "[encoded data removed]",
      "text/plain": [
       "<matplotlib.figure.Figure at 0x111a46ef0>"
      ]
     },
     "metadata": {},
     "output_type": "display_data"
    },
    {
     "name": "stdout",
     "output_type": "stream",
     "text": [
      "Tweets on economy :  \n",
      "\n",
      "usa recorded slowest economic growth year gdp trade deficit hurt economy badly \n",
      "\n",
      "quarter gdp lowered wo economic recovery barackobama defeated \n",
      "\n",
      "economy worst recovery obama depression result policy speak new tax \n",
      "\n"
     ]
    },
    {
     "data": {
      "image/png": "[encoded data removed]",
      "text/plain": [
       "<matplotlib.figure.Figure at 0x11ae68f98>"
      ]
     },
     "metadata": {},
     "output_type": "display_data"
    },
    {
     "name": "stdout",
     "output_type": "stream",
     "text": [
      "Tweets on civil_rights :  \n",
      "\n",
      "state senator shirley huntley ratted black politician believed ratted agschneiderman listened racism \n",
      "\n",
      "thr abc black ish title racist \n",
      "\n",
      "black politician prison based shirley huntley statement white agschneiderman racism \n",
      "\n"
     ]
    },
    {
     "data": {
      "image/png": "[encoded data removed]",
      "text/plain": [
       "<matplotlib.figure.Figure at 0x113689b70>"
      ]
     },
     "metadata": {},
     "output_type": "display_data"
    },
    {
     "name": "stdout",
     "output_type": "stream",
     "text": [
      "Tweets on corporations :  \n",
      "\n",
      "want job slash corporate tax rate tax incentive company create job america boom \n",
      "\n",
      "ca tax business business pay tax collect tax ronald reagan \n",
      "\n",
      "america labor market continues boom job job job \n",
      "\n"
     ]
    },
    {
     "data": {
      "image/png": "[encoded data removed]",
      "text/plain": [
       "<matplotlib.figure.Figure at 0x118f21198>"
      ]
     },
     "metadata": {},
     "output_type": "display_data"
    },
    {
     "name": "stdout",
     "output_type": "stream",
     "text": [
      "Tweets on crime :  \n",
      "\n",
      "shooting death police officer year restore law order protect great law enforcement officer \n",
      "\n",
      "likewise primary victim violent crime african american hispanic community people want law order \n",
      "\n",
      "mayor mikebloomberg police commissioner ray kelly violent crime nyc dramatically leadership \n",
      "\n"
     ]
    },
    {
     "data": {
      "image/png": "[encoded data removed]",
      "text/plain": [
       "<matplotlib.figure.Figure at 0x11ae3a080>"
      ]
     },
     "metadata": {},
     "output_type": "display_data"
    },
    {
     "name": "stdout",
     "output_type": "stream",
     "text": [
      "Tweets on drugs :  \n",
      "\n",
      "jayedavaughn currently stir pot lmao apprenticenbc celebapprentice \n",
      "\n",
      "getting rid glenfiddich garbage alcohol property \n",
      "\n",
      "thank american participated nat rx drug day record drug collected disposed \n",
      "\n"
     ]
    },
    {
     "data": {
      "image/png": "[encoded data removed]",
      "text/plain": [
       "<matplotlib.figure.Figure at 0x117995f60>"
      ]
     },
     "metadata": {},
     "output_type": "display_data"
    },
    {
     "name": "stdout",
     "output_type": "stream",
     "text": [
      "Tweets on education :  \n",
      "\n",
      "bat parent education high priority important went best school cont \n",
      "\n",
      "onus chicago teacher strike fall squarely teacher union inexcusable leave child school \n",
      "\n",
      "school pay attention education money machine think like billionaire \n",
      "\n"
     ]
    },
    {
     "data": {
      "image/png": "[encoded data removed]",
      "text/plain": [
       "<matplotlib.figure.Figure at 0x118f376a0>"
      ]
     },
     "metadata": {},
     "output_type": "display_data"
    },
    {
     "name": "stdout",
     "output_type": "stream",
     "text": [
      "Tweets on environment :  \n",
      "\n",
      "windmill bigger safety hazard coal oil higher mortality rate coal outrageous \n",
      "\n",
      "gshuba windmill worth trouble worse planet oil carbon et true \n",
      "\n",
      "obama zero credibility oil coal win energy country win period \n",
      "\n"
     ]
    },
    {
     "data": {
      "image/png": "[encoded data removed]",
      "text/plain": [
       "<matplotlib.figure.Figure at 0x1179a9908>"
      ]
     },
     "metadata": {},
     "output_type": "display_data"
    },
    {
     "name": "stdout",
     "output_type": "stream",
     "text": [
      "Tweets on foreign_policy :  \n",
      "\n",
      "american sanction stop iran nuclear drive barackobama china russia agree new iranian sanction \n",
      "\n",
      "gregfrech seen video rebel commander cutting eating syrian soldier heart liver false twitter android waiting prepared attack syria maybe knock hell iran nuclear capability false twitter android look horrible picture page ny time rebel executing prisoner forget rebel \n",
      "\n",
      "china advocating behalf iran nuclear program chinese oppose sanction militar cont \n",
      "\n"
     ]
    },
    {
     "data": {
      "image/png": "[encoded data removed]",
      "text/plain": [
       "<matplotlib.figure.Figure at 0x11739beb8>"
      ]
     },
     "metadata": {},
     "output_type": "display_data"
    },
    {
     "name": "stdout",
     "output_type": "stream",
     "text": [
      "Tweets on trade :  \n",
      "\n",
      "hillaryclinton channel john kerry trade bad trade deal tpp debate \n",
      "\n",
      "ohio gov kasich voted nafta ohio recovered want tpp worse ohio steel coal dying \n",
      "\n",
      "vote clinton kaine vote tpp nafta high tax radical regulation massive influx refugee \n",
      "\n"
     ]
    },
    {
     "data": {
      "image/png": "[encoded data removed]",
      "text/plain": [
       "<matplotlib.figure.Figure at 0x117395ac8>"
      ]
     },
     "metadata": {},
     "output_type": "display_data"
    },
    {
     "name": "stdout",
     "output_type": "stream",
     "text": [
      "Tweets on gun :  \n",
      "\n",
      "ammoland fredy riehl talk gun control assault weapon gun free zone self defense \n",
      "\n",
      "fact tighter gun law violence criminal gun \n",
      "\n",
      "gun trying kill reasonable shoot gun dalailama \n",
      "\n"
     ]
    },
    {
     "data": {
      "image/png": "[encoded data removed]",
      "text/plain": [
       "<matplotlib.figure.Figure at 0x117a7aeb8>"
      ]
     },
     "metadata": {},
     "output_type": "display_data"
    },
    {
     "name": "stdout",
     "output_type": "stream",
     "text": [
      "Tweets on healthcare :  \n",
      "\n",
      "obamacare put poor people form government run single payer health insurance doctor avik \n",
      "\n",
      "great meeting ceo leading usa health insurance company provide great healthcare american peo \n",
      "\n",
      "insurance company fleeing obamacare dead healthcare plan lower premium deductible great healthcare \n",
      "\n"
     ]
    },
    {
     "data": {
      "image/png": "[encoded data removed]",
      "text/plain": [
       "<matplotlib.figure.Figure at 0x11787ff98>"
      ]
     },
     "metadata": {},
     "output_type": "display_data"
    },
    {
     "name": "stdout",
     "output_type": "stream",
     "text": [
      "Tweets on immigration :  \n",
      "\n",
      "wow pres candidate ben carson weak illegal immigration said like amnesty pathway citizenship \n",
      "\n",
      "congress protect border amnesty border secure illegal immigration stopped \n",
      "\n",
      "day said going build great wall southern border stop illegal immigration watch wednesday \n",
      "\n"
     ]
    },
    {
     "data": {
      "image/png": "[encoded data removed]",
      "text/plain": [
       "<matplotlib.figure.Figure at 0x11a58a828>"
      ]
     },
     "metadata": {},
     "output_type": "display_data"
    },
    {
     "name": "stdout",
     "output_type": "stream",
     "text": [
      "Tweets on jobs :  \n",
      "\n",
      "bring job wage people wage increase year clinton killed job \n",
      "\n",
      "barackobama recovery unemployment underemployment business wo hire obama \n",
      "\n",
      "tragedy unemployment rate million unemployed american better \n",
      "\n"
     ]
    },
    {
     "data": {
      "image/png": "[encoded data removed]",
      "text/plain": [
       "<matplotlib.figure.Figure at 0x119e41668>"
      ]
     },
     "metadata": {},
     "output_type": "display_data"
    },
    {
     "name": "stdout",
     "output_type": "stream",
     "text": [
      "Tweets on tax :  \n",
      "\n",
      "tax good thing dc debt deal \n",
      "\n",
      "democrat solution solution tax tax tax problem work timetogettough \n",
      "\n",
      "republican agreed past summer debt deal military cut come tax increase \n",
      "\n"
     ]
    },
    {
     "data": {
      "image/png": "[encoded data removed]",
      "text/plain": [
       "<matplotlib.figure.Figure at 0x11ad51630>"
      ]
     },
     "metadata": {},
     "output_type": "display_data"
    },
    {
     "name": "stdout",
     "output_type": "stream",
     "text": [
      "Tweets on technology :  \n",
      "\n",
      "fix infrastructure country road airport bridge know build pol know talk \n",
      "\n",
      "america need rebuild infrastructure sending trillion overseas road bridge cont \n",
      "\n",
      "obama attack internet power grab net neutrality fairness doctrine target conservative medium \n",
      "\n"
     ]
    },
    {
     "data": {
      "image/png": "[encoded data removed]",
      "text/plain": [
       "<matplotlib.figure.Figure at 0x11a9d4dd8>"
      ]
     },
     "metadata": {},
     "output_type": "display_data"
    }
   ],
   "source": [
    "#elastic search on the tweet with words relevant to the topics as query\n",
    "for topic in topics_dict.keys():\n",
    "    res = es.search(index=\"tweets\",query=topics_dict[topic],size=\"3000\")\n",
    "    topic_data = []\n",
    "    count = 0\n",
    "    tweets_to_display = []\n",
    "    for doc in res['hits']['hits']:\n",
    "        if(count < 3):\n",
    "            tweets_to_display.append(doc['_source']['text'])\n",
    "            count += 1\n",
    "        topic_data.append(parser.parse(doc['_source']['created_at'].split()[0]))\n",
    "    #plot top 3 tweets\n",
    "    print (\"Tweets on {} : \".format(topic),\"\\n\")\n",
    "    for tweet in tweets_to_display:\n",
    "        print (tweet, \"\\n\")\n",
    "    #plot histogram\n",
    "    if (res['hits']['total'] > 0):\n",
    "        plt.figure(figsize=(15,5))\n",
    "        plt.hist(topic_data)\n",
    "        plt.suptitle((\"{} documents found on {}\".format(res['hits']['total'],topic)))\n",
    "        plt.show()"
   ]
  },
  {
   "cell_type": "markdown",
   "metadata": {},
   "source": [
    "# Discussion"
   ]
  },
  {
   "cell_type": "markdown",
   "metadata": {},
   "source": [
    "In the first two models, we tried to group topics of Trump's tweets, we found them to be misleading based on the words that were used to identify a topic. We later built an initial dictionary to test whether elastic search would be a better approach to label trump's tweets. In fact, from this early stage approach to the project we found elastic search to be a better suit, but we will continue exploring the three different models and try to improve each of them to pick the best.<br/>Note here that the number of tweets that were obtained using elastic search were not satisfying as we should expect a larger number of tweets. We will also try to improve these results by improving our pre-processing as we may be turning the data into different words (i.e. after lemmatization)"
   ]
  },
  {
   "cell_type": "markdown",
   "metadata": {
    "collapsed": true
   },
   "source": [
    "# Twitter dump data preprocessing"
   ]
  },
  {
   "cell_type": "markdown",
   "metadata": {},
   "source": [
    "# Sentiment analysis of replies to Trump"
   ]
  },
  {
   "cell_type": "markdown",
   "metadata": {},
   "source": [
    "# Timeline of sentiment analysis"
   ]
  },
  {
   "cell_type": "markdown",
   "metadata": {},
   "source": [
    "# Comparison of topic timeline to sentiment analysis timeline"
   ]
  },
  {
   "cell_type": "code",
   "execution_count": null,
   "metadata": {
    "collapsed": true
   },
   "outputs": [],
   "source": []
  }
 ],
 "metadata": {
  "kernelspec": {
   "display_name": "Python 3",
   "language": "python",
   "name": "python3"
  },
  "language_info": {
   "codemirror_mode": {
    "name": "ipython",
    "version": 3
   },
   "file_extension": ".py",
   "mimetype": "text/x-python",
   "name": "python",
   "nbconvert_exporter": "python",
   "pygments_lexer": "ipython3",
   "version": "3.6.2"
  }
 },
 "nbformat": 4,
 "nbformat_minor": 2
}
